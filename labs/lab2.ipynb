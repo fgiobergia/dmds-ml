{
 "cells": [
  {
   "cell_type": "code",
   "execution_count": 1,
   "id": "59607d30",
   "metadata": {},
   "outputs": [],
   "source": [
    "# #\n",
    "# 0 =>'Date',\n",
    "# 1 => 'AverageTemperature',\n",
    "# 2 => 'AverageTemperatureUncertainty',\n",
    "# 3 => 'City',\n",
    "# 4 => 'Country', \n",
    "\n",
    "# 'Latitude', 'Longitude']"
   ]
  },
  {
   "cell_type": "code",
   "execution_count": 10,
   "id": "fdc12aaa",
   "metadata": {},
   "outputs": [],
   "source": []
  },
  {
   "cell_type": "code",
   "execution_count": 11,
   "id": "649b65eb",
   "metadata": {},
   "outputs": [
    {
     "name": "stdout",
     "output_type": "stream",
     "text": [
      "Date,AverageTemperature,AverageTemperatureUncertainty,City,Country,Latitude,Longitude\r\n",
      "1849-01-01,26.704,1.435,Abidjan,Côte D'Ivoire,5.63N,3.23W\r\n",
      "1849-02-01,27.434,1.3619999999999999,Abidjan,Côte D'Ivoire,5.63N,3.23W\r\n",
      "1849-03-01,,,Abidjan,Côte D'Ivoire,5.63N,3.23W\r\n",
      "1849-04-01,26.14,1.3869999999999998,Abidjan,Côte D'Ivoire,5.63N,3.23W\r\n"
     ]
    }
   ],
   "source": [
    "!head -n 5 GLT_filtered.csv"
   ]
  },
  {
   "cell_type": "code",
   "execution_count": 38,
   "id": "1308fdc0",
   "metadata": {},
   "outputs": [],
   "source": [
    "import csv\n",
    "\n",
    "dizionario_di_citta = {}\n",
    "\n",
    "with open(\"GLT_filtered.csv\") as f:\n",
    "    reader = csv.reader(f)\n",
    "\n",
    "    for i, line in enumerate(reader):\n",
    "        if i == 0:\n",
    "            continue\n",
    "\n",
    "        date = line[0]\n",
    "        if line[1] == \"\":\n",
    "            temp = \"\"\n",
    "        else:\n",
    "            temp = float(line[1])\n",
    "        city = line[3]\n",
    "\n",
    "        if city not in dizionario_di_citta:\n",
    "            dizionario_di_citta[city] = []\n",
    "\n",
    "        dizionario_di_citta[city].append((temp, date))\n",
    "\n",
    "\n",
    "def funzione_che_estrae_la_data(elemento):\n",
    "    return elemento[1]\n",
    "\n",
    "for city in dizionario_di_citta:\n",
    "    dizionario_di_citta[city] = sorted(dizionario_di_citta[city], key=funzione_che_estrae_la_data)"
   ]
  },
  {
   "cell_type": "code",
   "execution_count": 40,
   "id": "86dada81",
   "metadata": {},
   "outputs": [],
   "source": [
    "for city in dizionario_di_citta:\n",
    "    # qua possiamo lavorare direttamente su ciascuna citta'\n",
    "    lista_di_temperature = dizionario_di_citta[city]\n",
    "    \n",
    "    lista_di_temperature = [(0, '')] + lista_di_temperature + [(0, '')]\n",
    "    \n",
    "    \n",
    "    i = 1\n",
    "    while i < len(lista_di_temperature)-1:\n",
    "        if lista_di_temperature[i][0] == \"\":\n",
    "            # allora devo fare qualcosa\n",
    "        \n",
    "            prev = i-1\n",
    "            \n",
    "            nxt = i+1\n",
    "            while lista_di_temperature[nxt][0] == \"\":\n",
    "                nxt += 1\n",
    "            \n",
    "            lista_di_temperature[i] = ((lista_di_temperature[prev][0] + lista_di_temperature[nxt][0]) / 2, lista_di_temperature[i][1])\n",
    "        \n",
    "        i += 1\n",
    "    \n",
    "    dizionario_di_citta[city] = lista_di_temperature[1:-1]"
   ]
  }
 ],
 "metadata": {
  "kernelspec": {
   "display_name": "Python 3 (ipykernel)",
   "language": "python",
   "name": "python3"
  },
  "language_info": {
   "codemirror_mode": {
    "name": "ipython",
    "version": 3
   },
   "file_extension": ".py",
   "mimetype": "text/x-python",
   "name": "python",
   "nbconvert_exporter": "python",
   "pygments_lexer": "ipython3",
   "version": "3.9.10"
  }
 },
 "nbformat": 4,
 "nbformat_minor": 5
}
