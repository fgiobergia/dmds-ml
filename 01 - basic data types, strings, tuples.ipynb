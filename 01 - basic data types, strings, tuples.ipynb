{
 "cells": [
  {
   "cell_type": "code",
   "execution_count": 1,
   "id": "52ed9f50",
   "metadata": {},
   "outputs": [
    {
     "data": {
      "text/plain": [
       "NoneType"
      ]
     },
     "execution_count": 1,
     "metadata": {},
     "output_type": "execute_result"
    }
   ],
   "source": [
    "type(None)"
   ]
  },
  {
   "cell_type": "markdown",
   "id": "822e29e3",
   "metadata": {},
   "source": [
    "# Basic data types\n",
    "\n",
    "Basic data types include int, float, str, bool, NoneType"
   ]
  },
  {
   "cell_type": "code",
   "execution_count": 2,
   "id": "9f9c848a",
   "metadata": {},
   "outputs": [],
   "source": [
    "a = 3"
   ]
  },
  {
   "cell_type": "code",
   "execution_count": 3,
   "id": "d6e4c3ea",
   "metadata": {},
   "outputs": [],
   "source": [
    "a = 10 ** 5000"
   ]
  },
  {
   "cell_type": "code",
   "execution_count": 4,
   "id": "6918c07f",
   "metadata": {},
   "outputs": [
    {
     "data": {
      "text/plain": [
       "18446744073709551616"
      ]
     },
     "execution_count": 4,
     "metadata": {},
     "output_type": "execute_result"
    }
   ],
   "source": [
    "2 ** 64"
   ]
  },
  {
   "cell_type": "code",
   "execution_count": 5,
   "id": "52d8767d",
   "metadata": {},
   "outputs": [],
   "source": [
    "a = 42"
   ]
  },
  {
   "cell_type": "code",
   "execution_count": 6,
   "id": "de9cab28",
   "metadata": {},
   "outputs": [
    {
     "data": {
      "text/plain": [
       "45"
      ]
     },
     "execution_count": 6,
     "metadata": {},
     "output_type": "execute_result"
    }
   ],
   "source": [
    "a + 3"
   ]
  },
  {
   "cell_type": "code",
   "execution_count": 7,
   "id": "f7c23ae6",
   "metadata": {},
   "outputs": [
    {
     "data": {
      "text/plain": [
       "0"
      ]
     },
     "execution_count": 7,
     "metadata": {},
     "output_type": "execute_result"
    }
   ],
   "source": [
    "a - 42"
   ]
  },
  {
   "cell_type": "code",
   "execution_count": 8,
   "id": "3de98a69",
   "metadata": {},
   "outputs": [],
   "source": [
    "a = 5\n",
    "b = 3"
   ]
  },
  {
   "cell_type": "code",
   "execution_count": 9,
   "id": "77fd5245",
   "metadata": {},
   "outputs": [
    {
     "data": {
      "text/plain": [
       "1.6666666666666667"
      ]
     },
     "execution_count": 9,
     "metadata": {},
     "output_type": "execute_result"
    }
   ],
   "source": [
    "a / b"
   ]
  },
  {
   "cell_type": "code",
   "execution_count": 10,
   "id": "8e38a1af",
   "metadata": {},
   "outputs": [
    {
     "data": {
      "text/plain": [
       "1"
      ]
     },
     "execution_count": 10,
     "metadata": {},
     "output_type": "execute_result"
    }
   ],
   "source": [
    "a // b"
   ]
  },
  {
   "cell_type": "code",
   "execution_count": 11,
   "id": "568290bc",
   "metadata": {},
   "outputs": [
    {
     "data": {
      "text/plain": [
       "2"
      ]
     },
     "execution_count": 11,
     "metadata": {},
     "output_type": "execute_result"
    }
   ],
   "source": [
    "a % b"
   ]
  },
  {
   "cell_type": "code",
   "execution_count": 12,
   "id": "14f6854c",
   "metadata": {},
   "outputs": [
    {
     "data": {
      "text/plain": [
       "64"
      ]
     },
     "execution_count": 12,
     "metadata": {},
     "output_type": "execute_result"
    }
   ],
   "source": [
    "4 ** 3"
   ]
  },
  {
   "cell_type": "markdown",
   "id": "165adb3c",
   "metadata": {},
   "source": [
    "A more convenient way of computing the square root is through exponentiation w/ exponent 0.5\n",
    "\n",
    "(instead of importing `math` and using `math.sqrt`)"
   ]
  },
  {
   "cell_type": "code",
   "execution_count": 13,
   "id": "598b1117",
   "metadata": {},
   "outputs": [],
   "source": [
    "import math"
   ]
  },
  {
   "cell_type": "code",
   "execution_count": 14,
   "id": "8d376940",
   "metadata": {},
   "outputs": [
    {
     "data": {
      "text/plain": [
       "9.0"
      ]
     },
     "execution_count": 14,
     "metadata": {},
     "output_type": "execute_result"
    }
   ],
   "source": [
    "math.sqrt(81)"
   ]
  },
  {
   "cell_type": "code",
   "execution_count": 15,
   "id": "36ef7878",
   "metadata": {},
   "outputs": [
    {
     "data": {
      "text/plain": [
       "9.0"
      ]
     },
     "execution_count": 15,
     "metadata": {},
     "output_type": "execute_result"
    }
   ],
   "source": [
    "81 ** 0.5"
   ]
  },
  {
   "cell_type": "code",
   "execution_count": 16,
   "id": "ba3bed18",
   "metadata": {},
   "outputs": [],
   "source": [
    "a = 6.28\n",
    "b = 3.14"
   ]
  },
  {
   "cell_type": "code",
   "execution_count": 19,
   "id": "57988091",
   "metadata": {},
   "outputs": [
    {
     "data": {
      "text/plain": [
       "float"
      ]
     },
     "execution_count": 19,
     "metadata": {},
     "output_type": "execute_result"
    }
   ],
   "source": [
    "type(a / b)"
   ]
  },
  {
   "cell_type": "code",
   "execution_count": 21,
   "id": "8792d996",
   "metadata": {},
   "outputs": [
    {
     "data": {
      "text/plain": [
       "(3.14, float)"
      ]
     },
     "execution_count": 21,
     "metadata": {},
     "output_type": "execute_result"
    }
   ],
   "source": [
    "a / 2, type(a/2)"
   ]
  },
  {
   "cell_type": "code",
   "execution_count": 22,
   "id": "9ce79ece",
   "metadata": {},
   "outputs": [
    {
     "data": {
      "text/plain": [
       "0.3184713375796178"
      ]
     },
     "execution_count": 22,
     "metadata": {},
     "output_type": "execute_result"
    }
   ],
   "source": [
    "2 / a"
   ]
  },
  {
   "cell_type": "code",
   "execution_count": 23,
   "id": "6994297b",
   "metadata": {},
   "outputs": [
    {
     "data": {
      "text/plain": [
       "1.6666666666666667"
      ]
     },
     "execution_count": 23,
     "metadata": {},
     "output_type": "execute_result"
    }
   ],
   "source": [
    "5 / 3"
   ]
  },
  {
   "cell_type": "code",
   "execution_count": 24,
   "id": "f4d7780f",
   "metadata": {},
   "outputs": [
    {
     "data": {
      "text/plain": [
       "float"
      ]
     },
     "execution_count": 24,
     "metadata": {},
     "output_type": "execute_result"
    }
   ],
   "source": [
    "type(5 / 3)\n"
   ]
  },
  {
   "cell_type": "code",
   "execution_count": 26,
   "id": "d612ae0f",
   "metadata": {},
   "outputs": [
    {
     "data": {
      "text/plain": [
       "int"
      ]
     },
     "execution_count": 26,
     "metadata": {},
     "output_type": "execute_result"
    }
   ],
   "source": [
    "type(5 // 3)"
   ]
  },
  {
   "cell_type": "code",
   "execution_count": 29,
   "id": "9086f13c",
   "metadata": {},
   "outputs": [
    {
     "data": {
      "text/plain": [
       "bool"
      ]
     },
     "execution_count": 29,
     "metadata": {},
     "output_type": "execute_result"
    }
   ],
   "source": [
    "type(True)"
   ]
  },
  {
   "cell_type": "markdown",
   "id": "f93ea6fb",
   "metadata": {},
   "source": [
    "Truth table for the AND, OR, NOT operators"
   ]
  },
  {
   "cell_type": "code",
   "execution_count": 31,
   "id": "ca6fe70e",
   "metadata": {},
   "outputs": [
    {
     "name": "stdout",
     "output_type": "stream",
     "text": [
      "True AND True => True\n",
      "True AND False => False\n",
      "False AND True => False\n",
      "False AND False => False\n"
     ]
    }
   ],
   "source": [
    "for a in [True, False]:\n",
    "    for b in [True, False]:\n",
    "        print(a, \"AND\", b, \"=>\", a and b)"
   ]
  },
  {
   "cell_type": "code",
   "execution_count": 32,
   "id": "aa1e26d9",
   "metadata": {},
   "outputs": [
    {
     "name": "stdout",
     "output_type": "stream",
     "text": [
      "True OR True => True\n",
      "True OR False => True\n",
      "False OR True => True\n",
      "False OR False => False\n"
     ]
    }
   ],
   "source": [
    "for a in [True, False]:\n",
    "    for b in [True, False]:\n",
    "        print(a, \"OR\", b, \"=>\", a or b)"
   ]
  },
  {
   "cell_type": "code",
   "execution_count": 33,
   "id": "b0176509",
   "metadata": {},
   "outputs": [
    {
     "name": "stdout",
     "output_type": "stream",
     "text": [
      "NOT(True) = False\n",
      "NOT(False) = True\n"
     ]
    }
   ],
   "source": [
    "for a in [True, False]:\n",
    "    print(f\"NOT({a}) = {not a}\")"
   ]
  },
  {
   "cell_type": "code",
   "execution_count": 38,
   "id": "0c957b16",
   "metadata": {},
   "outputs": [],
   "source": [
    "variabile = 5 > 3"
   ]
  },
  {
   "cell_type": "code",
   "execution_count": 39,
   "id": "7e391a61",
   "metadata": {},
   "outputs": [
    {
     "name": "stdout",
     "output_type": "stream",
     "text": [
      "Cinque e' maggiore di tre\n"
     ]
    }
   ],
   "source": [
    "if variabile:\n",
    "    print(\"Cinque e' maggiore di tre\")"
   ]
  },
  {
   "cell_type": "markdown",
   "id": "d96d02e8",
   "metadata": {},
   "source": [
    "# String manipulation"
   ]
  },
  {
   "cell_type": "code",
   "execution_count": 40,
   "id": "6c5f5bb3",
   "metadata": {},
   "outputs": [],
   "source": [
    "s = \"hello, world\""
   ]
  },
  {
   "cell_type": "code",
   "execution_count": 41,
   "id": "9c3f6c45",
   "metadata": {},
   "outputs": [
    {
     "name": "stdout",
     "output_type": "stream",
     "text": [
      "hello, world\n"
     ]
    }
   ],
   "source": [
    "print(s)"
   ]
  },
  {
   "cell_type": "markdown",
   "id": "30c44a5f",
   "metadata": {},
   "source": [
    "Access to a single element of a string through the [ ] operator"
   ]
  },
  {
   "cell_type": "code",
   "execution_count": 42,
   "id": "a15e6ba7",
   "metadata": {},
   "outputs": [
    {
     "data": {
      "text/plain": [
       "'h'"
      ]
     },
     "execution_count": 42,
     "metadata": {},
     "output_type": "execute_result"
    }
   ],
   "source": [
    "s[0]"
   ]
  },
  {
   "cell_type": "code",
   "execution_count": 43,
   "id": "d7b637df",
   "metadata": {},
   "outputs": [
    {
     "data": {
      "text/plain": [
       "'e'"
      ]
     },
     "execution_count": 43,
     "metadata": {},
     "output_type": "execute_result"
    }
   ],
   "source": [
    "s[1] "
   ]
  },
  {
   "cell_type": "code",
   "execution_count": 44,
   "id": "b7852921",
   "metadata": {},
   "outputs": [
    {
     "data": {
      "text/plain": [
       "'hello, world'"
      ]
     },
     "execution_count": 44,
     "metadata": {},
     "output_type": "execute_result"
    }
   ],
   "source": [
    "s\n"
   ]
  },
  {
   "cell_type": "markdown",
   "id": "4c2f0d68",
   "metadata": {},
   "source": [
    "Substrings can be extracted using `[start:stop]` indices (`start` is included, `stop` is excluded)"
   ]
  },
  {
   "cell_type": "code",
   "execution_count": 48,
   "id": "8a8d80c4",
   "metadata": {},
   "outputs": [
    {
     "data": {
      "text/plain": [
       "'hello'"
      ]
     },
     "execution_count": 48,
     "metadata": {},
     "output_type": "execute_result"
    }
   ],
   "source": [
    "s[0:5]"
   ]
  },
  {
   "cell_type": "code",
   "execution_count": 49,
   "id": "4dde29af",
   "metadata": {},
   "outputs": [
    {
     "data": {
      "text/plain": [
       "12"
      ]
     },
     "execution_count": 49,
     "metadata": {},
     "output_type": "execute_result"
    }
   ],
   "source": [
    "len(s)"
   ]
  },
  {
   "cell_type": "code",
   "execution_count": 50,
   "id": "71de2b02",
   "metadata": {},
   "outputs": [],
   "source": [
    "l = [\"hello\", \"world\"]"
   ]
  },
  {
   "cell_type": "code",
   "execution_count": 51,
   "id": "33f4d74d",
   "metadata": {},
   "outputs": [
    {
     "data": {
      "text/plain": [
       "['hello']"
      ]
     },
     "execution_count": 51,
     "metadata": {},
     "output_type": "execute_result"
    }
   ],
   "source": [
    "l[0:1]"
   ]
  },
  {
   "cell_type": "code",
   "execution_count": 52,
   "id": "6f9e0a9b",
   "metadata": {},
   "outputs": [
    {
     "data": {
      "text/plain": [
       "'hello, world'"
      ]
     },
     "execution_count": 52,
     "metadata": {},
     "output_type": "execute_result"
    }
   ],
   "source": [
    "s"
   ]
  },
  {
   "cell_type": "code",
   "execution_count": 56,
   "id": "27344a92",
   "metadata": {},
   "outputs": [
    {
     "data": {
      "text/plain": [
       "'hello'"
      ]
     },
     "execution_count": 56,
     "metadata": {},
     "output_type": "execute_result"
    }
   ],
   "source": [
    "s[:5]"
   ]
  },
  {
   "cell_type": "code",
   "execution_count": 60,
   "id": "0a6fd7c5",
   "metadata": {},
   "outputs": [
    {
     "data": {
      "text/plain": [
       "'world'"
      ]
     },
     "execution_count": 60,
     "metadata": {},
     "output_type": "execute_result"
    }
   ],
   "source": [
    "s[7:]"
   ]
  },
  {
   "cell_type": "code",
   "execution_count": 61,
   "id": "0717e5f7",
   "metadata": {},
   "outputs": [
    {
     "data": {
      "text/plain": [
       "'hello, world'"
      ]
     },
     "execution_count": 61,
     "metadata": {},
     "output_type": "execute_result"
    }
   ],
   "source": [
    "s[:]"
   ]
  },
  {
   "cell_type": "code",
   "execution_count": 62,
   "id": "240b6281",
   "metadata": {},
   "outputs": [],
   "source": [
    "l = [1,2,3,4,5]"
   ]
  },
  {
   "cell_type": "code",
   "execution_count": 64,
   "id": "315c54c5",
   "metadata": {},
   "outputs": [],
   "source": [
    "l[2] = 55"
   ]
  },
  {
   "cell_type": "code",
   "execution_count": 65,
   "id": "d52a053d",
   "metadata": {},
   "outputs": [
    {
     "data": {
      "text/plain": [
       "[1, 2, 55, 4, 5]"
      ]
     },
     "execution_count": 65,
     "metadata": {},
     "output_type": "execute_result"
    }
   ],
   "source": [
    "l"
   ]
  },
  {
   "cell_type": "markdown",
   "id": "736ce92f",
   "metadata": {},
   "source": [
    "We **cannot** overwrite strings -- they are immutable!\n",
    "\n",
    "We need to create a copy every time we want to change one"
   ]
  },
  {
   "cell_type": "code",
   "execution_count": 67,
   "id": "6a07b116",
   "metadata": {},
   "outputs": [
    {
     "ename": "TypeError",
     "evalue": "'str' object does not support item assignment",
     "output_type": "error",
     "traceback": [
      "\u001b[0;31m---------------------------------------------------------------------------\u001b[0m",
      "\u001b[0;31mTypeError\u001b[0m                                 Traceback (most recent call last)",
      "Input \u001b[0;32mIn [67]\u001b[0m, in \u001b[0;36m<cell line: 1>\u001b[0;34m()\u001b[0m\n\u001b[0;32m----> 1\u001b[0m s[\u001b[38;5;241m0\u001b[39m] \u001b[38;5;241m=\u001b[39m \u001b[38;5;124m\"\u001b[39m\u001b[38;5;124mH\u001b[39m\u001b[38;5;124m\"\u001b[39m\n",
      "\u001b[0;31mTypeError\u001b[0m: 'str' object does not support item assignment"
     ]
    }
   ],
   "source": [
    "s[0] = \"H\""
   ]
  },
  {
   "cell_type": "code",
   "execution_count": 72,
   "id": "623f064e",
   "metadata": {},
   "outputs": [
    {
     "data": {
      "text/plain": [
       "'ello, world'"
      ]
     },
     "execution_count": 72,
     "metadata": {},
     "output_type": "execute_result"
    }
   ],
   "source": [
    "s[1:]"
   ]
  },
  {
   "cell_type": "code",
   "execution_count": null,
   "id": "d6189fba",
   "metadata": {},
   "outputs": [],
   "source": []
  },
  {
   "cell_type": "code",
   "execution_count": 73,
   "id": "078218aa",
   "metadata": {},
   "outputs": [],
   "source": [
    "s2 = \"H\" + s[1:]"
   ]
  },
  {
   "cell_type": "code",
   "execution_count": 74,
   "id": "2664a1c6",
   "metadata": {},
   "outputs": [
    {
     "name": "stdout",
     "output_type": "stream",
     "text": [
      "Hello, world\n"
     ]
    }
   ],
   "source": [
    "print(s2)"
   ]
  },
  {
   "cell_type": "code",
   "execution_count": 77,
   "id": "80335bd6",
   "metadata": {},
   "outputs": [
    {
     "data": {
      "text/plain": [
       "'hello, world'"
      ]
     },
     "execution_count": 77,
     "metadata": {},
     "output_type": "execute_result"
    }
   ],
   "source": [
    "s[:]"
   ]
  },
  {
   "cell_type": "markdown",
   "id": "13a8f8e8",
   "metadata": {},
   "source": [
    "Negative indices: counting from right to left (i.e. end of string -> start of string).\n",
    "\n",
    "```\n",
    " H  E  L  L  O | string\n",
    " 0  1  2  3  4 | positive indices\n",
    "-5 -4 -3 -2 -1 | negative indices\n",
    "```"
   ]
  },
  {
   "cell_type": "code",
   "execution_count": 78,
   "id": "62d71c56",
   "metadata": {},
   "outputs": [
    {
     "data": {
      "text/plain": [
       "'world'"
      ]
     },
     "execution_count": 78,
     "metadata": {},
     "output_type": "execute_result"
    }
   ],
   "source": [
    "s[-5:]"
   ]
  },
  {
   "cell_type": "code",
   "execution_count": 79,
   "id": "f10abecb",
   "metadata": {},
   "outputs": [
    {
     "data": {
      "text/plain": [
       "'d'"
      ]
     },
     "execution_count": 79,
     "metadata": {},
     "output_type": "execute_result"
    }
   ],
   "source": [
    "s[len(s)-1:]"
   ]
  },
  {
   "cell_type": "code",
   "execution_count": 80,
   "id": "714cecc4",
   "metadata": {},
   "outputs": [
    {
     "data": {
      "text/plain": [
       "'d'"
      ]
     },
     "execution_count": 80,
     "metadata": {},
     "output_type": "execute_result"
    }
   ],
   "source": [
    "s[len(s)-1:len(s)]"
   ]
  },
  {
   "cell_type": "code",
   "execution_count": 81,
   "id": "1336f525",
   "metadata": {},
   "outputs": [
    {
     "data": {
      "text/plain": [
       "'d'"
      ]
     },
     "execution_count": 81,
     "metadata": {},
     "output_type": "execute_result"
    }
   ],
   "source": [
    "s[11:12]"
   ]
  },
  {
   "cell_type": "code",
   "execution_count": 82,
   "id": "c99dd5e7",
   "metadata": {},
   "outputs": [
    {
     "data": {
      "text/plain": [
       "'d'"
      ]
     },
     "execution_count": 82,
     "metadata": {},
     "output_type": "execute_result"
    }
   ],
   "source": [
    "s[11:]"
   ]
  },
  {
   "cell_type": "code",
   "execution_count": 84,
   "id": "df054494",
   "metadata": {},
   "outputs": [
    {
     "data": {
      "text/plain": [
       "'d'"
      ]
     },
     "execution_count": 84,
     "metadata": {},
     "output_type": "execute_result"
    }
   ],
   "source": [
    "s[-1]"
   ]
  },
  {
   "cell_type": "code",
   "execution_count": 85,
   "id": "3b4ce098",
   "metadata": {},
   "outputs": [
    {
     "data": {
      "text/plain": [
       "'hello, world'"
      ]
     },
     "execution_count": 85,
     "metadata": {},
     "output_type": "execute_result"
    }
   ],
   "source": [
    "s\n"
   ]
  },
  {
   "cell_type": "code",
   "execution_count": 86,
   "id": "b98664b5",
   "metadata": {},
   "outputs": [
    {
     "data": {
      "text/plain": [
       "'hello'"
      ]
     },
     "execution_count": 86,
     "metadata": {},
     "output_type": "execute_result"
    }
   ],
   "source": [
    "s[:-7]"
   ]
  },
  {
   "cell_type": "code",
   "execution_count": 87,
   "id": "84d1556b",
   "metadata": {},
   "outputs": [
    {
     "data": {
      "text/plain": [
       "'hello'"
      ]
     },
     "execution_count": 87,
     "metadata": {},
     "output_type": "execute_result"
    }
   ],
   "source": [
    "s[:-7]"
   ]
  },
  {
   "cell_type": "code",
   "execution_count": 90,
   "id": "9d7db83e",
   "metadata": {},
   "outputs": [
    {
     "data": {
      "text/plain": [
       "'hello, world'"
      ]
     },
     "execution_count": 90,
     "metadata": {},
     "output_type": "execute_result"
    }
   ],
   "source": [
    "s[0:len(s):1]"
   ]
  },
  {
   "cell_type": "code",
   "execution_count": 91,
   "id": "32e9fbdd",
   "metadata": {},
   "outputs": [
    {
     "data": {
      "text/plain": [
       "'hlo ol'"
      ]
     },
     "execution_count": 91,
     "metadata": {},
     "output_type": "execute_result"
    }
   ],
   "source": [
    "s[0:len(s):2]"
   ]
  },
  {
   "cell_type": "code",
   "execution_count": 92,
   "id": "5fe90d83",
   "metadata": {},
   "outputs": [
    {
     "data": {
      "text/plain": [
       "'hlo ol'"
      ]
     },
     "execution_count": 92,
     "metadata": {},
     "output_type": "execute_result"
    }
   ],
   "source": [
    "s[::2]"
   ]
  },
  {
   "cell_type": "code",
   "execution_count": 93,
   "id": "04e7cdfc",
   "metadata": {},
   "outputs": [
    {
     "data": {
      "text/plain": [
       "'dlrow ,olleh'"
      ]
     },
     "execution_count": 93,
     "metadata": {},
     "output_type": "execute_result"
    }
   ],
   "source": [
    "s[::-1]"
   ]
  },
  {
   "cell_type": "code",
   "execution_count": 94,
   "id": "2d21538b",
   "metadata": {},
   "outputs": [
    {
     "data": {
      "text/plain": [
       "'drw,le'"
      ]
     },
     "execution_count": 94,
     "metadata": {},
     "output_type": "execute_result"
    }
   ],
   "source": [
    "s[::-2]"
   ]
  },
  {
   "cell_type": "code",
   "execution_count": 96,
   "id": "c551fde5",
   "metadata": {},
   "outputs": [
    {
     "data": {
      "text/plain": [
       "'dlrow ,olle'"
      ]
     },
     "execution_count": 96,
     "metadata": {},
     "output_type": "execute_result"
    }
   ],
   "source": [
    "s[len(s):0:-1]"
   ]
  },
  {
   "cell_type": "code",
   "execution_count": 99,
   "id": "74fc0bbd",
   "metadata": {},
   "outputs": [
    {
     "data": {
      "text/plain": [
       "'hello'"
      ]
     },
     "execution_count": 99,
     "metadata": {},
     "output_type": "execute_result"
    }
   ],
   "source": [
    "\"hello\".upper()"
   ]
  },
  {
   "cell_type": "code",
   "execution_count": 98,
   "id": "2369e0c2",
   "metadata": {},
   "outputs": [
    {
     "data": {
      "text/plain": [
       "'hello'"
      ]
     },
     "execution_count": 98,
     "metadata": {},
     "output_type": "execute_result"
    }
   ],
   "source": [
    "\"HELLO\".lower()"
   ]
  },
  {
   "cell_type": "code",
   "execution_count": 101,
   "id": "bfe3d5a6",
   "metadata": {},
   "outputs": [],
   "source": [
    "def concat(a, b):\n",
    "    return a + \" \" + b"
   ]
  },
  {
   "cell_type": "code",
   "execution_count": 102,
   "id": "4c67f753",
   "metadata": {},
   "outputs": [
    {
     "data": {
      "text/plain": [
       "'stringa1 string2'"
      ]
     },
     "execution_count": 102,
     "metadata": {},
     "output_type": "execute_result"
    }
   ],
   "source": [
    "concat(\"stringa1\", \"string2\")"
   ]
  },
  {
   "cell_type": "markdown",
   "id": "d9e4c3e6",
   "metadata": {},
   "source": [
    "Format strings -- a convenient way of embedding variables into strings."
   ]
  },
  {
   "cell_type": "code",
   "execution_count": null,
   "id": "22120064",
   "metadata": {},
   "outputs": [],
   "source": []
  },
  {
   "cell_type": "code",
   "execution_count": 105,
   "id": "e019a913",
   "metadata": {},
   "outputs": [
    {
     "name": "stdout",
     "output_type": "stream",
     "text": [
      "messaggio con alcune variabili dentro 42\n"
     ]
    }
   ],
   "source": [
    "# how you would do things without format strings (v1)\n",
    "a = 42\n",
    "print(\"messaggio con alcune variabili dentro \" + str(a))"
   ]
  },
  {
   "cell_type": "code",
   "execution_count": 106,
   "id": "dc2cd56d",
   "metadata": {},
   "outputs": [
    {
     "name": "stdout",
     "output_type": "stream",
     "text": [
      "messaggio con var dentro 42\n"
     ]
    }
   ],
   "source": [
    "# how you would do things without format strings (v2)\n",
    "print(\"messaggio con var dentro\", a)"
   ]
  },
  {
   "cell_type": "code",
   "execution_count": 107,
   "id": "599aeaeb",
   "metadata": {},
   "outputs": [
    {
     "name": "stdout",
     "output_type": "stream",
     "text": [
      "stampo prima il messaggio, poi la variabile\n",
      "42\n"
     ]
    }
   ],
   "source": [
    "# how you would do things without format strings (v3)\n",
    "print(\"stampo prima il messaggio, poi la variabile\")\n",
    "print(a)"
   ]
  },
  {
   "cell_type": "code",
   "execution_count": 108,
   "id": "a490239e",
   "metadata": {},
   "outputs": [
    {
     "name": "stdout",
     "output_type": "stream",
     "text": [
      "stampo una variabile con format 42\n"
     ]
    }
   ],
   "source": [
    "# how you would do things without format strings (v4)\n",
    "print(\"stampo una variabile con format {0}\".format(a))"
   ]
  },
  {
   "cell_type": "markdown",
   "id": "d2ffc046",
   "metadata": {},
   "source": [
    "Format strings are defined using the syntax: `f\"string in here\"`.\n",
    "\n",
    "Within strings, we can embed variables if included in curly braces -- e.g. `f\"Variable {a}\"`"
   ]
  },
  {
   "cell_type": "code",
   "execution_count": 110,
   "id": "730cd6c9",
   "metadata": {},
   "outputs": [
    {
     "name": "stdout",
     "output_type": "stream",
     "text": [
      "scrivere direttamente una stringa con dentro le variabili, per esempio 84\n"
     ]
    }
   ],
   "source": [
    "print(f\"scrivere direttamente una stringa con dentro le variabili, per esempio {a * 2}\")"
   ]
  },
  {
   "cell_type": "code",
   "execution_count": 11,
   "id": "f0940b26",
   "metadata": {},
   "outputs": [
    {
     "name": "stdout",
     "output_type": "stream",
     "text": [
      "a=4 b=5 c=6 d=7 e=8\n"
     ]
    }
   ],
   "source": [
    "a = 4\n",
    "b = 5\n",
    "c = 6\n",
    "d = 7\n",
    "e = 8\n",
    "\n",
    "# a very inconvenient way of printing 5 variables\n",
    "print(\"a=\" + str(a) + \" b=\" + str(b) + \" c=\" + str(c) + \" d=\" + str(d) + \" e=\" + str(e))"
   ]
  },
  {
   "cell_type": "code",
   "execution_count": 12,
   "id": "70a18777",
   "metadata": {},
   "outputs": [
    {
     "name": "stdout",
     "output_type": "stream",
     "text": [
      "a=4 b=5 c=6 d=7 e=8\n"
     ]
    }
   ],
   "source": [
    "# a very convenient way using f-strings (the syntax {v=} will also print the variable name)\n",
    "print(f\"{a=} {b=} {c=} {d=} {e=}\")"
   ]
  },
  {
   "cell_type": "code",
   "execution_count": 113,
   "id": "e5188381",
   "metadata": {},
   "outputs": [
    {
     "name": "stdout",
     "output_type": "stream",
     "text": [
      "(4, 5, 6, 7, 8)\n"
     ]
    }
   ],
   "source": [
    "# if we specify all variables within a single { }, they will still be printed, but\n",
    "# this will generate a tuple (see later)\n",
    "print(f\"{a,b,c,d,e}\")"
   ]
  },
  {
   "cell_type": "markdown",
   "id": "e3303b64",
   "metadata": {},
   "source": [
    "## Tuples!"
   ]
  },
  {
   "cell_type": "code",
   "execution_count": 115,
   "id": "c347f00e",
   "metadata": {},
   "outputs": [],
   "source": [
    "t = (\"valore1\", 2, None, True, False, False, 3.14)"
   ]
  },
  {
   "cell_type": "code",
   "execution_count": 117,
   "id": "58d0eb70",
   "metadata": {},
   "outputs": [
    {
     "data": {
      "text/plain": [
       "7"
      ]
     },
     "execution_count": 117,
     "metadata": {},
     "output_type": "execute_result"
    }
   ],
   "source": [
    "len(t)"
   ]
  },
  {
   "cell_type": "markdown",
   "id": "c64454b7",
   "metadata": {},
   "source": [
    "The same indexing we used for strings applies here!"
   ]
  },
  {
   "cell_type": "code",
   "execution_count": 119,
   "id": "4d8ea7ad",
   "metadata": {},
   "outputs": [
    {
     "data": {
      "text/plain": [
       "('valore1', 2, None, True)"
      ]
     },
     "execution_count": 119,
     "metadata": {},
     "output_type": "execute_result"
    }
   ],
   "source": [
    "t[0:4]"
   ]
  },
  {
   "cell_type": "code",
   "execution_count": 120,
   "id": "dc7c47fa",
   "metadata": {},
   "outputs": [
    {
     "data": {
      "text/plain": [
       "('valore1', None, False, 3.14)"
      ]
     },
     "execution_count": 120,
     "metadata": {},
     "output_type": "execute_result"
    }
   ],
   "source": [
    "t[::2]"
   ]
  },
  {
   "cell_type": "code",
   "execution_count": 121,
   "id": "eabc5fef",
   "metadata": {},
   "outputs": [
    {
     "data": {
      "text/plain": [
       "('valore1', 2, None, True, False, False, 3.14)"
      ]
     },
     "execution_count": 121,
     "metadata": {},
     "output_type": "execute_result"
    }
   ],
   "source": [
    "t"
   ]
  },
  {
   "cell_type": "code",
   "execution_count": 122,
   "id": "33ec18e7",
   "metadata": {},
   "outputs": [
    {
     "data": {
      "text/plain": [
       "(3.14, False, False, True, None, 2, 'valore1')"
      ]
     },
     "execution_count": 122,
     "metadata": {},
     "output_type": "execute_result"
    }
   ],
   "source": [
    "t[::-1]"
   ]
  },
  {
   "cell_type": "markdown",
   "id": "07a3e003",
   "metadata": {},
   "source": [
    "Much like strings, tuples are also immutable"
   ]
  },
  {
   "cell_type": "code",
   "execution_count": 123,
   "id": "d2372dde",
   "metadata": {},
   "outputs": [
    {
     "ename": "TypeError",
     "evalue": "'tuple' object does not support item assignment",
     "output_type": "error",
     "traceback": [
      "\u001b[0;31m---------------------------------------------------------------------------\u001b[0m",
      "\u001b[0;31mTypeError\u001b[0m                                 Traceback (most recent call last)",
      "Input \u001b[0;32mIn [123]\u001b[0m, in \u001b[0;36m<cell line: 1>\u001b[0;34m()\u001b[0m\n\u001b[0;32m----> 1\u001b[0m t[\u001b[38;5;241m2\u001b[39m] \u001b[38;5;241m=\u001b[39m \u001b[38;5;124m\"\u001b[39m\u001b[38;5;124mX\u001b[39m\u001b[38;5;124m\"\u001b[39m\n",
      "\u001b[0;31mTypeError\u001b[0m: 'tuple' object does not support item assignment"
     ]
    }
   ],
   "source": [
    "t[2] = \"X\""
   ]
  },
  {
   "cell_type": "code",
   "execution_count": 136,
   "id": "67c3098c",
   "metadata": {},
   "outputs": [
    {
     "name": "stdout",
     "output_type": "stream",
     "text": [
      "a=4 b=5 c=6 d=7\n"
     ]
    }
   ],
   "source": [
    "print(f\"{a=} {b=} {c=} {d=}\")"
   ]
  },
  {
   "cell_type": "markdown",
   "id": "5d1e6c20",
   "metadata": {},
   "source": [
    "Tuple creation (\"packing\")"
   ]
  },
  {
   "cell_type": "code",
   "execution_count": 139,
   "id": "47d20430",
   "metadata": {},
   "outputs": [],
   "source": [
    "t2 = a, b, c, d"
   ]
  },
  {
   "cell_type": "code",
   "execution_count": 144,
   "id": "1e90c318",
   "metadata": {},
   "outputs": [],
   "source": [
    "s_val = f\"{t2=}\""
   ]
  },
  {
   "cell_type": "code",
   "execution_count": 146,
   "id": "31931230",
   "metadata": {},
   "outputs": [
    {
     "data": {
      "text/plain": [
       "15"
      ]
     },
     "execution_count": 146,
     "metadata": {},
     "output_type": "execute_result"
    }
   ],
   "source": [
    "len(s_val)"
   ]
  },
  {
   "cell_type": "code",
   "execution_count": 145,
   "id": "9f15a01a",
   "metadata": {},
   "outputs": [
    {
     "name": "stdout",
     "output_type": "stream",
     "text": [
      "t2=(4, 5, 6, 7)\n"
     ]
    }
   ],
   "source": [
    "print(s_val)"
   ]
  },
  {
   "cell_type": "code",
   "execution_count": 127,
   "id": "d143c6c1",
   "metadata": {},
   "outputs": [
    {
     "data": {
      "text/plain": [
       "(4, 5, 6, 7)"
      ]
     },
     "execution_count": 127,
     "metadata": {},
     "output_type": "execute_result"
    }
   ],
   "source": [
    "t2"
   ]
  },
  {
   "cell_type": "markdown",
   "id": "75c71945",
   "metadata": {},
   "source": [
    "Tuple unpacking: we can assign multiple variables at the same time, by taking values from a tuple"
   ]
  },
  {
   "cell_type": "code",
   "execution_count": 141,
   "id": "70307f51",
   "metadata": {},
   "outputs": [],
   "source": [
    "x, y, z, w = t2"
   ]
  },
  {
   "cell_type": "markdown",
   "id": "63567647",
   "metadata": {},
   "source": [
    "Of course, we need to unpack the tuple into the right number of variables. If not, we get errors"
   ]
  },
  {
   "cell_type": "code",
   "execution_count": 142,
   "id": "8c68d135",
   "metadata": {},
   "outputs": [
    {
     "ename": "ValueError",
     "evalue": "too many values to unpack (expected 3)",
     "output_type": "error",
     "traceback": [
      "\u001b[0;31m---------------------------------------------------------------------------\u001b[0m",
      "\u001b[0;31mValueError\u001b[0m                                Traceback (most recent call last)",
      "Input \u001b[0;32mIn [142]\u001b[0m, in \u001b[0;36m<cell line: 1>\u001b[0;34m()\u001b[0m\n\u001b[0;32m----> 1\u001b[0m x, y, z \u001b[38;5;241m=\u001b[39m t2\n",
      "\u001b[0;31mValueError\u001b[0m: too many values to unpack (expected 3)"
     ]
    }
   ],
   "source": [
    "x, y, z = t2 # we expected 3 variables, tuple has 4 values"
   ]
  },
  {
   "cell_type": "code",
   "execution_count": 143,
   "id": "c1d88f70",
   "metadata": {},
   "outputs": [
    {
     "ename": "ValueError",
     "evalue": "not enough values to unpack (expected 5, got 4)",
     "output_type": "error",
     "traceback": [
      "\u001b[0;31m---------------------------------------------------------------------------\u001b[0m",
      "\u001b[0;31mValueError\u001b[0m                                Traceback (most recent call last)",
      "Input \u001b[0;32mIn [143]\u001b[0m, in \u001b[0;36m<cell line: 1>\u001b[0;34m()\u001b[0m\n\u001b[0;32m----> 1\u001b[0m x, y, z, w, k \u001b[38;5;241m=\u001b[39m t2\n",
      "\u001b[0;31mValueError\u001b[0m: not enough values to unpack (expected 5, got 4)"
     ]
    }
   ],
   "source": [
    "x, y, z, w, k = t2  # we expected 5 variables, tuple has 4 values"
   ]
  },
  {
   "cell_type": "code",
   "execution_count": 131,
   "id": "5dba51ef",
   "metadata": {},
   "outputs": [
    {
     "name": "stdout",
     "output_type": "stream",
     "text": [
      "x=4, y=5, z=6, w=7\n"
     ]
    }
   ],
   "source": [
    "print(f\"{x=}, {y=}, {z=}, {w=}\")"
   ]
  },
  {
   "cell_type": "code",
   "execution_count": 147,
   "id": "86a80646",
   "metadata": {},
   "outputs": [],
   "source": [
    "def somma_e_prodotto(x, y):\n",
    "    return (x + y, y * x) "
   ]
  },
  {
   "cell_type": "code",
   "execution_count": 149,
   "id": "d1bc49ee",
   "metadata": {},
   "outputs": [],
   "source": [
    "def somma_e_prodotto(x, y):\n",
    "    # when we return multiple values in a function, we are really \n",
    "    # just returning a tuple with many values inside of it\n",
    "    return x + y, y * x "
   ]
  },
  {
   "cell_type": "code",
   "execution_count": 151,
   "id": "611751ad",
   "metadata": {},
   "outputs": [],
   "source": [
    "t3 = somma_e_prodotto(5, 3) # we can unpack the results easily"
   ]
  },
  {
   "cell_type": "code",
   "execution_count": 152,
   "id": "9d8c4b2f",
   "metadata": {},
   "outputs": [],
   "source": [
    "s, p = t3"
   ]
  },
  {
   "cell_type": "code",
   "execution_count": 153,
   "id": "68cc4b50",
   "metadata": {},
   "outputs": [],
   "source": [
    "s, p = somma_e_prodotto(5, 3)"
   ]
  },
  {
   "cell_type": "code",
   "execution_count": 154,
   "id": "ed51edf1",
   "metadata": {},
   "outputs": [
    {
     "name": "stdout",
     "output_type": "stream",
     "text": [
      "s=8, p=15\n"
     ]
    }
   ],
   "source": [
    "print(f\"{s=}, {p=}\")"
   ]
  },
  {
   "cell_type": "code",
   "execution_count": 155,
   "id": "3a87e850",
   "metadata": {},
   "outputs": [],
   "source": [
    "a = 4\n",
    "b = 5"
   ]
  },
  {
   "cell_type": "markdown",
   "id": "0ea7cebb",
   "metadata": {},
   "source": [
    "Swapping values -- we need a temporary support variable!"
   ]
  },
  {
   "cell_type": "code",
   "execution_count": 156,
   "id": "36a6716c",
   "metadata": {},
   "outputs": [],
   "source": [
    "tmp = a\n",
    "a = b\n",
    "b = tmp"
   ]
  },
  {
   "cell_type": "code",
   "execution_count": 157,
   "id": "403f55cd",
   "metadata": {},
   "outputs": [
    {
     "data": {
      "text/plain": [
       "(5, 4)"
      ]
     },
     "execution_count": 157,
     "metadata": {},
     "output_type": "execute_result"
    }
   ],
   "source": [
    "a, b"
   ]
  },
  {
   "cell_type": "markdown",
   "id": "6777e6a4",
   "metadata": {},
   "source": [
    "Apparently with tuple unpacking we no longer need it... "
   ]
  },
  {
   "cell_type": "markdown",
   "id": "471011a9",
   "metadata": {},
   "source": [
    "print(f\"{a=}, {b=}\")\n",
    "a, b = b, a\n",
    "print(f\"{a=}, {b=}\")"
   ]
  },
  {
   "cell_type": "markdown",
   "id": "2dcd06f3",
   "metadata": {},
   "source": [
    "But we are really just creating a tuple as a support variable."
   ]
  },
  {
   "cell_type": "code",
   "execution_count": 159,
   "id": "8d88a33b",
   "metadata": {},
   "outputs": [],
   "source": [
    "tupla_tmp = (b, a)\n",
    "# a, b = tupla_tmp\n",
    "a = tupla_tmp[0]\n",
    "b = tupla_tmp[1]"
   ]
  },
  {
   "cell_type": "code",
   "execution_count": 162,
   "id": "d3a03d20",
   "metadata": {},
   "outputs": [],
   "source": [
    "l = [ \"valore1\", \"val2\", 3, 4, True, False, (3,2,1) ]"
   ]
  },
  {
   "cell_type": "code",
   "execution_count": 163,
   "id": "b74b891f",
   "metadata": {},
   "outputs": [
    {
     "data": {
      "text/plain": [
       "['valore1', 'val2', 3, 4, True, False, (3, 2, 1)]"
      ]
     },
     "execution_count": 163,
     "metadata": {},
     "output_type": "execute_result"
    }
   ],
   "source": [
    "l"
   ]
  },
  {
   "cell_type": "code",
   "execution_count": 164,
   "id": "febc912a",
   "metadata": {},
   "outputs": [],
   "source": [
    "ll = [ # list of lists -- why not?\n",
    "    [1, 2, 3], \n",
    "    [4, 5, 6], \n",
    "    [7, 8, 9]\n",
    "]"
   ]
  },
  {
   "cell_type": "code",
   "execution_count": 165,
   "id": "2416b390",
   "metadata": {},
   "outputs": [
    {
     "data": {
      "text/plain": [
       "[[1, 2, 3], [4, 5, 6], [7, 8, 9]]"
      ]
     },
     "execution_count": 165,
     "metadata": {},
     "output_type": "execute_result"
    }
   ],
   "source": [
    "ll"
   ]
  },
  {
   "cell_type": "code",
   "execution_count": 166,
   "id": "e3e88586",
   "metadata": {},
   "outputs": [
    {
     "data": {
      "text/plain": [
       "['valore1', 'val2', 3, 4, True, False, (3, 2, 1)]"
      ]
     },
     "execution_count": 166,
     "metadata": {},
     "output_type": "execute_result"
    }
   ],
   "source": [
    "l"
   ]
  },
  {
   "cell_type": "code",
   "execution_count": 167,
   "id": "67d89481",
   "metadata": {},
   "outputs": [],
   "source": [
    "l[0] = \"VALORE1\""
   ]
  },
  {
   "cell_type": "code",
   "execution_count": 168,
   "id": "eef2b7ae",
   "metadata": {},
   "outputs": [
    {
     "data": {
      "text/plain": [
       "['VALORE1', 'val2', 3, 4, True, False, (3, 2, 1)]"
      ]
     },
     "execution_count": 168,
     "metadata": {},
     "output_type": "execute_result"
    }
   ],
   "source": [
    "l"
   ]
  },
  {
   "cell_type": "markdown",
   "id": "f24c8268",
   "metadata": {},
   "source": [
    "We can change lists: change values, add them, remove them!\n",
    "* .append(value)\n",
    "* .insert(position, value)\n",
    "* .pop(position)\n",
    "* .remove(value)"
   ]
  },
  {
   "cell_type": "code",
   "execution_count": 169,
   "id": "4729b1a1",
   "metadata": {},
   "outputs": [],
   "source": [
    "l.append(3)"
   ]
  },
  {
   "cell_type": "code",
   "execution_count": 170,
   "id": "a9f2bb52",
   "metadata": {},
   "outputs": [],
   "source": [
    "l = []"
   ]
  },
  {
   "cell_type": "code",
   "execution_count": 171,
   "id": "dc80b90b",
   "metadata": {},
   "outputs": [
    {
     "name": "stdout",
     "output_type": "stream",
     "text": [
      "[]\n"
     ]
    }
   ],
   "source": [
    "print(l)"
   ]
  },
  {
   "cell_type": "code",
   "execution_count": 172,
   "id": "3ea97e82",
   "metadata": {
    "scrolled": true
   },
   "outputs": [
    {
     "name": "stdout",
     "output_type": "stream",
     "text": [
      "[1]\n",
      "[1, 2]\n",
      "[1, 2, 3]\n"
     ]
    }
   ],
   "source": [
    "l.append(1)\n",
    "print(l)\n",
    "l.append(2)\n",
    "print(l)\n",
    "l.append(3)\n",
    "print(l)"
   ]
  },
  {
   "cell_type": "code",
   "execution_count": 173,
   "id": "8e9a7c08",
   "metadata": {},
   "outputs": [],
   "source": [
    "l.insert(1, 1.5)"
   ]
  },
  {
   "cell_type": "code",
   "execution_count": 174,
   "id": "5c963bf5",
   "metadata": {},
   "outputs": [
    {
     "data": {
      "text/plain": [
       "[1, 1.5, 2, 3]"
      ]
     },
     "execution_count": 174,
     "metadata": {},
     "output_type": "execute_result"
    }
   ],
   "source": [
    "l"
   ]
  },
  {
   "cell_type": "code",
   "execution_count": 175,
   "id": "aea61597",
   "metadata": {},
   "outputs": [
    {
     "data": {
      "text/plain": [
       "3"
      ]
     },
     "execution_count": 175,
     "metadata": {},
     "output_type": "execute_result"
    }
   ],
   "source": [
    "l.pop()"
   ]
  },
  {
   "cell_type": "code",
   "execution_count": 177,
   "id": "5f7865ad",
   "metadata": {},
   "outputs": [
    {
     "name": "stdout",
     "output_type": "stream",
     "text": [
      "l=[1, 1.5, 2]\n"
     ]
    }
   ],
   "source": [
    "print(f\"{l=}\")"
   ]
  },
  {
   "cell_type": "code",
   "execution_count": 178,
   "id": "12a3273b",
   "metadata": {},
   "outputs": [
    {
     "data": {
      "text/plain": [
       "2"
      ]
     },
     "execution_count": 178,
     "metadata": {},
     "output_type": "execute_result"
    }
   ],
   "source": [
    "l.pop()"
   ]
  },
  {
   "cell_type": "code",
   "execution_count": 179,
   "id": "0ddb4f00",
   "metadata": {},
   "outputs": [
    {
     "name": "stdout",
     "output_type": "stream",
     "text": [
      "l=[1, 1.5]\n"
     ]
    }
   ],
   "source": [
    "print(f\"{l=}\")\n"
   ]
  },
  {
   "cell_type": "code",
   "execution_count": 180,
   "id": "16f9fc3e",
   "metadata": {},
   "outputs": [],
   "source": [
    "l.remove(1.5) # togliere in base al valore"
   ]
  },
  {
   "cell_type": "code",
   "execution_count": 181,
   "id": "21fab9f8",
   "metadata": {},
   "outputs": [
    {
     "data": {
      "text/plain": [
       "[1]"
      ]
     },
     "execution_count": 181,
     "metadata": {},
     "output_type": "execute_result"
    }
   ],
   "source": [
    "l"
   ]
  },
  {
   "cell_type": "code",
   "execution_count": 185,
   "id": "c55e7f86",
   "metadata": {},
   "outputs": [],
   "source": [
    "voti = [ 30, 27, 27, 22, 18, \"INS\", 28, 18, 18 ]"
   ]
  },
  {
   "cell_type": "code",
   "execution_count": 187,
   "id": "0cf8f1eb",
   "metadata": {},
   "outputs": [
    {
     "data": {
      "text/plain": [
       "9"
      ]
     },
     "execution_count": 187,
     "metadata": {},
     "output_type": "execute_result"
    }
   ],
   "source": [
    "len(voti)"
   ]
  },
  {
   "cell_type": "markdown",
   "id": "dd11fe66",
   "metadata": {},
   "source": [
    "We can check what's inside of a list.\n",
    "* .count(value) returns the number of times a value is contained in a list\n",
    "* .index(value) returns the index of the first instance of value inside of a list (error if not found)\n",
    "* value in l boolean (whether value is containd in list `l`"
   ]
  },
  {
   "cell_type": "code",
   "execution_count": 188,
   "id": "b51d0647",
   "metadata": {},
   "outputs": [
    {
     "data": {
      "text/plain": [
       "1"
      ]
     },
     "execution_count": 188,
     "metadata": {},
     "output_type": "execute_result"
    }
   ],
   "source": [
    "voti.count(30)"
   ]
  },
  {
   "cell_type": "code",
   "execution_count": 189,
   "id": "645d6881",
   "metadata": {},
   "outputs": [
    {
     "data": {
      "text/plain": [
       "3"
      ]
     },
     "execution_count": 189,
     "metadata": {},
     "output_type": "execute_result"
    }
   ],
   "source": [
    "voti.count(18)"
   ]
  },
  {
   "cell_type": "code",
   "execution_count": 191,
   "id": "0706ce95",
   "metadata": {},
   "outputs": [
    {
     "data": {
      "text/plain": [
       "4"
      ]
     },
     "execution_count": 191,
     "metadata": {},
     "output_type": "execute_result"
    }
   ],
   "source": [
    "voti.index(18)"
   ]
  },
  {
   "cell_type": "code",
   "execution_count": 192,
   "id": "17faca84",
   "metadata": {},
   "outputs": [
    {
     "data": {
      "text/plain": [
       "0"
      ]
     },
     "execution_count": 192,
     "metadata": {},
     "output_type": "execute_result"
    }
   ],
   "source": [
    "voti[::-1].index(18)"
   ]
  },
  {
   "cell_type": "code",
   "execution_count": null,
   "id": "22178954",
   "metadata": {},
   "outputs": [],
   "source": []
  },
  {
   "cell_type": "code",
   "execution_count": 193,
   "id": "bb902e98",
   "metadata": {},
   "outputs": [
    {
     "data": {
      "text/plain": [
       "[1, 2, 3, 4, 5]"
      ]
     },
     "execution_count": 193,
     "metadata": {},
     "output_type": "execute_result"
    }
   ],
   "source": [
    "l"
   ]
  },
  {
   "cell_type": "code",
   "execution_count": 195,
   "id": "aa14c64e",
   "metadata": {},
   "outputs": [],
   "source": [
    "del l[2:4]"
   ]
  },
  {
   "cell_type": "code",
   "execution_count": 196,
   "id": "f393017b",
   "metadata": {},
   "outputs": [
    {
     "data": {
      "text/plain": [
       "[1, 2, 5]"
      ]
     },
     "execution_count": 196,
     "metadata": {},
     "output_type": "execute_result"
    }
   ],
   "source": [
    "l"
   ]
  },
  {
   "cell_type": "code",
   "execution_count": 197,
   "id": "b7c79f0c",
   "metadata": {},
   "outputs": [],
   "source": [
    "l = [1, 2, 3, 4, 5]"
   ]
  },
  {
   "cell_type": "code",
   "execution_count": 198,
   "id": "95a0c7c9",
   "metadata": {},
   "outputs": [],
   "source": [
    "l[2:4] = ['a','b','c']"
   ]
  },
  {
   "cell_type": "code",
   "execution_count": 199,
   "id": "d914f227",
   "metadata": {},
   "outputs": [
    {
     "data": {
      "text/plain": [
       "[1, 2, 'a', 'b', 'c', 5]"
      ]
     },
     "execution_count": 199,
     "metadata": {},
     "output_type": "execute_result"
    }
   ],
   "source": [
    "l"
   ]
  },
  {
   "cell_type": "code",
   "execution_count": 200,
   "id": "4ecd02f7",
   "metadata": {},
   "outputs": [
    {
     "data": {
      "text/plain": [
       "[1, 2, 'a', 'b', 'c', 5]"
      ]
     },
     "execution_count": 200,
     "metadata": {},
     "output_type": "execute_result"
    }
   ],
   "source": [
    "l"
   ]
  },
  {
   "cell_type": "code",
   "execution_count": 201,
   "id": "5ea20a2b",
   "metadata": {},
   "outputs": [
    {
     "data": {
      "text/plain": [
       "True"
      ]
     },
     "execution_count": 201,
     "metadata": {},
     "output_type": "execute_result"
    }
   ],
   "source": [
    "\"a\" in l"
   ]
  },
  {
   "cell_type": "code",
   "execution_count": 202,
   "id": "1e687bf5",
   "metadata": {},
   "outputs": [
    {
     "data": {
      "text/plain": [
       "True"
      ]
     },
     "execution_count": 202,
     "metadata": {},
     "output_type": "execute_result"
    }
   ],
   "source": [
    "\"c\" in l"
   ]
  },
  {
   "cell_type": "code",
   "execution_count": 203,
   "id": "cc2efd53",
   "metadata": {},
   "outputs": [
    {
     "data": {
      "text/plain": [
       "False"
      ]
     },
     "execution_count": 203,
     "metadata": {},
     "output_type": "execute_result"
    }
   ],
   "source": [
    "\"d\" in l"
   ]
  },
  {
   "cell_type": "code",
   "execution_count": 205,
   "id": "569bb5bb",
   "metadata": {},
   "outputs": [
    {
     "data": {
      "text/plain": [
       "False"
      ]
     },
     "execution_count": 205,
     "metadata": {},
     "output_type": "execute_result"
    }
   ],
   "source": [
    "19 in voti"
   ]
  },
  {
   "cell_type": "code",
   "execution_count": 206,
   "id": "17696e02",
   "metadata": {},
   "outputs": [
    {
     "data": {
      "text/plain": [
       "True"
      ]
     },
     "execution_count": 206,
     "metadata": {},
     "output_type": "execute_result"
    }
   ],
   "source": [
    "30 in voti"
   ]
  },
  {
   "cell_type": "code",
   "execution_count": 208,
   "id": "d236a25c",
   "metadata": {},
   "outputs": [
    {
     "name": "stdout",
     "output_type": "stream",
     "text": [
      "qualcuno ha preso 30\n"
     ]
    }
   ],
   "source": [
    "if 30 in voti:\n",
    "    print(\"qualcuno ha preso 30\")\n",
    "if 19 in voti:\n",
    "    print(\"qualcuno ha preso 19\")"
   ]
  },
  {
   "cell_type": "code",
   "execution_count": 211,
   "id": "f496b62a",
   "metadata": {},
   "outputs": [
    {
     "name": "stdout",
     "output_type": "stream",
     "text": [
      "1\n",
      "2\n",
      "a\n",
      "b\n",
      "c\n",
      "5\n"
     ]
    }
   ],
   "source": [
    "for i in l:\n",
    "    print(i)"
   ]
  },
  {
   "cell_type": "code",
   "execution_count": 212,
   "id": "26d2ede0",
   "metadata": {},
   "outputs": [
    {
     "name": "stdout",
     "output_type": "stream",
     "text": [
      "1\n",
      "2\n",
      "a\n",
      "b\n",
      "c\n",
      "5\n"
     ]
    }
   ],
   "source": [
    "for i in range(len(l)):\n",
    "    print(l[i])"
   ]
  },
  {
   "cell_type": "code",
   "execution_count": 219,
   "id": "6bf9a0e0",
   "metadata": {},
   "outputs": [
    {
     "data": {
      "text/plain": [
       "[2, 4, 6, 8, 10, 12, 14, 16, 18, 20]"
      ]
     },
     "execution_count": 219,
     "metadata": {},
     "output_type": "execute_result"
    }
   ],
   "source": [
    "list(range(2, 21, 2))"
   ]
  },
  {
   "cell_type": "code",
   "execution_count": null,
   "id": "5b896965",
   "metadata": {},
   "outputs": [],
   "source": []
  }
 ],
 "metadata": {
  "kernelspec": {
   "display_name": "Python 3 (ipykernel)",
   "language": "python",
   "name": "python3"
  },
  "language_info": {
   "codemirror_mode": {
    "name": "ipython",
    "version": 3
   },
   "file_extension": ".py",
   "mimetype": "text/x-python",
   "name": "python",
   "nbconvert_exporter": "python",
   "pygments_lexer": "ipython3",
   "version": "3.9.10"
  }
 },
 "nbformat": 4,
 "nbformat_minor": 5
}
