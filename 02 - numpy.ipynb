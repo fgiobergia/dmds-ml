{
 "cells": [
  {
   "cell_type": "code",
   "execution_count": 1,
   "id": "d3743521",
   "metadata": {},
   "outputs": [],
   "source": [
    "import numpy as np"
   ]
  },
  {
   "cell_type": "code",
   "execution_count": 4,
   "id": "63c301a3",
   "metadata": {},
   "outputs": [],
   "source": [
    "l = [1, 2, 3]"
   ]
  },
  {
   "cell_type": "code",
   "execution_count": 27,
   "id": "bb18316d",
   "metadata": {},
   "outputs": [],
   "source": [
    "a = np.array(l)"
   ]
  },
  {
   "cell_type": "code",
   "execution_count": 28,
   "id": "c477bd6a",
   "metadata": {},
   "outputs": [
    {
     "data": {
      "text/plain": [
       "array([1, 2, 3])"
      ]
     },
     "execution_count": 28,
     "metadata": {},
     "output_type": "execute_result"
    }
   ],
   "source": [
    "a"
   ]
  },
  {
   "cell_type": "code",
   "execution_count": 6,
   "id": "7f106f65",
   "metadata": {},
   "outputs": [
    {
     "data": {
      "text/plain": [
       "[1, 2, 3]"
      ]
     },
     "execution_count": 6,
     "metadata": {},
     "output_type": "execute_result"
    }
   ],
   "source": [
    "l"
   ]
  },
  {
   "cell_type": "code",
   "execution_count": 7,
   "id": "c29bab84",
   "metadata": {},
   "outputs": [
    {
     "data": {
      "text/plain": [
       "array([1, 2, 3])"
      ]
     },
     "execution_count": 7,
     "metadata": {},
     "output_type": "execute_result"
    }
   ],
   "source": [
    "a"
   ]
  },
  {
   "cell_type": "code",
   "execution_count": 23,
   "id": "8abd0705",
   "metadata": {},
   "outputs": [],
   "source": [
    "X = np.array([\n",
    "    [1.1, 2, 3],\n",
    "    [4, 5, 6],\n",
    "    [7, 8, 9]\n",
    "], dtype=np.int8)"
   ]
  },
  {
   "cell_type": "code",
   "execution_count": 32,
   "id": "85a04db4",
   "metadata": {},
   "outputs": [
    {
     "data": {
      "text/plain": [
       "(3, 3)"
      ]
     },
     "execution_count": 32,
     "metadata": {},
     "output_type": "execute_result"
    }
   ],
   "source": [
    "X.shape"
   ]
  },
  {
   "cell_type": "code",
   "execution_count": 33,
   "id": "345d0cdc",
   "metadata": {},
   "outputs": [
    {
     "data": {
      "text/plain": [
       "(3,)"
      ]
     },
     "execution_count": 33,
     "metadata": {},
     "output_type": "execute_result"
    }
   ],
   "source": [
    "np.array([1,2,3]).shape"
   ]
  },
  {
   "cell_type": "code",
   "execution_count": 34,
   "id": "40790c49",
   "metadata": {},
   "outputs": [
    {
     "data": {
      "text/plain": [
       "(3, 1)"
      ]
     },
     "execution_count": 34,
     "metadata": {},
     "output_type": "execute_result"
    }
   ],
   "source": [
    "np.array([\n",
    "    [1],\n",
    "    [2],\n",
    "    [3]\n",
    "]).shape"
   ]
  },
  {
   "cell_type": "code",
   "execution_count": 35,
   "id": "2ca2280e",
   "metadata": {},
   "outputs": [
    {
     "data": {
      "text/plain": [
       "array([[0., 0., 0., 0., 0.],\n",
       "       [0., 0., 0., 0., 0.],\n",
       "       [0., 0., 0., 0., 0.]])"
      ]
     },
     "execution_count": 35,
     "metadata": {},
     "output_type": "execute_result"
    }
   ],
   "source": [
    "np.zeros((3, 5))"
   ]
  },
  {
   "cell_type": "code",
   "execution_count": 36,
   "id": "f33df256",
   "metadata": {},
   "outputs": [
    {
     "data": {
      "text/plain": [
       "array([[1., 1., 1., 1., 1.],\n",
       "       [1., 1., 1., 1., 1.],\n",
       "       [1., 1., 1., 1., 1.]])"
      ]
     },
     "execution_count": 36,
     "metadata": {},
     "output_type": "execute_result"
    }
   ],
   "source": [
    "np.ones((3, 5))"
   ]
  },
  {
   "cell_type": "code",
   "execution_count": 37,
   "id": "8ab0d265",
   "metadata": {},
   "outputs": [
    {
     "data": {
      "text/plain": [
       "array([[72, 72, 72, 72, 72],\n",
       "       [72, 72, 72, 72, 72],\n",
       "       [72, 72, 72, 72, 72]])"
      ]
     },
     "execution_count": 37,
     "metadata": {},
     "output_type": "execute_result"
    }
   ],
   "source": [
    "np.full((3, 5), 72)"
   ]
  },
  {
   "cell_type": "code",
   "execution_count": 47,
   "id": "4435d35e",
   "metadata": {},
   "outputs": [
    {
     "data": {
      "text/plain": [
       "array([1, 2, 3, 4])"
      ]
     },
     "execution_count": 47,
     "metadata": {},
     "output_type": "execute_result"
    }
   ],
   "source": [
    "np.array(list(range(1, 5)))"
   ]
  },
  {
   "cell_type": "code",
   "execution_count": 44,
   "id": "5e69cab0",
   "metadata": {},
   "outputs": [
    {
     "data": {
      "text/plain": [
       "array([1.2, 1.4, 1.6, 1.8, 2. , 2.2, 2.4, 2.6, 2.8, 3. , 3.2, 3.4, 3.6,\n",
       "       3.8, 4. , 4.2, 4.4, 4.6, 4.8])"
      ]
     },
     "execution_count": 44,
     "metadata": {},
     "output_type": "execute_result"
    }
   ],
   "source": [
    "np.arange(1.2, 5, 0.2)"
   ]
  },
  {
   "cell_type": "code",
   "execution_count": 49,
   "id": "2dad30a7",
   "metadata": {},
   "outputs": [
    {
     "data": {
      "text/plain": [
       "array([1.2       , 1.51666667, 1.83333333, 2.15      , 2.46666667,\n",
       "       2.78333333, 3.1       , 3.41666667, 3.73333333, 4.05      ,\n",
       "       4.36666667, 4.68333333, 5.        ])"
      ]
     },
     "execution_count": 49,
     "metadata": {},
     "output_type": "execute_result"
    }
   ],
   "source": [
    "np.linspace(1.2, 5, 13)"
   ]
  },
  {
   "cell_type": "code",
   "execution_count": 50,
   "id": "f8d86099",
   "metadata": {},
   "outputs": [
    {
     "data": {
      "text/plain": [
       "array([[0.75094696, 0.2533214 , 0.26167151, 0.09851545],\n",
       "       [0.84785186, 0.2675751 , 0.04582266, 0.91642144],\n",
       "       [0.53377031, 0.09172654, 0.46481283, 0.61831209],\n",
       "       [0.4978981 , 0.00331339, 0.3035245 , 0.50084358],\n",
       "       [0.70600825, 0.74328615, 0.77390463, 0.61484807]])"
      ]
     },
     "execution_count": 50,
     "metadata": {},
     "output_type": "execute_result"
    }
   ],
   "source": [
    "np.random.random((5, 4))"
   ]
  },
  {
   "cell_type": "code",
   "execution_count": 51,
   "id": "aa1181e3",
   "metadata": {},
   "outputs": [],
   "source": [
    "import matplotlib.pyplot as plt\n",
    "%matplotlib inline"
   ]
  },
  {
   "cell_type": "code",
   "execution_count": 55,
   "id": "deba0501",
   "metadata": {},
   "outputs": [],
   "source": [
    "x = np.random.random(10000)"
   ]
  },
  {
   "cell_type": "code",
   "execution_count": 57,
   "id": "24069b9f",
   "metadata": {},
   "outputs": [
    {
     "data": {
      "image/png": "[encoded data removed]",
      "text/plain": [
       "<Figure size 432x288 with 1 Axes>"
      ]
     },
     "metadata": {
      "needs_background": "light"
     },
     "output_type": "display_data"
    }
   ],
   "source": [
    "plt.hist(x, bins=20);"
   ]
  },
  {
   "cell_type": "code",
   "execution_count": 58,
   "id": "677f3e9d",
   "metadata": {},
   "outputs": [
    {
     "data": {
      "text/plain": [
       "array([[11.76463836,  5.81588978, 12.49238858,  9.13216154],\n",
       "       [12.98920667,  7.1576142 ,  8.26891534, 13.81269903],\n",
       "       [11.84872899,  8.38000807,  8.37406759,  3.40714907],\n",
       "       [11.71095461, 14.76745009,  9.0421909 , 14.78177093],\n",
       "       [10.79046741,  9.97364294, 11.60728765,  8.7379084 ]])"
      ]
     },
     "execution_count": 58,
     "metadata": {},
     "output_type": "execute_result"
    }
   ],
   "source": [
    "np.random.normal(10, 3, (5, 4))"
   ]
  },
  {
   "cell_type": "code",
   "execution_count": 63,
   "id": "58013c3f",
   "metadata": {},
   "outputs": [],
   "source": [
    "x = np.random.normal(10, 3, 10000)"
   ]
  },
  {
   "cell_type": "code",
   "execution_count": 64,
   "id": "9b79cddf",
   "metadata": {},
   "outputs": [
    {
     "data": {
      "image/png": "[encoded data removed]",
      "text/plain": [
       "<Figure size 432x288 with 1 Axes>"
      ]
     },
     "metadata": {
      "needs_background": "light"
     },
     "output_type": "display_data"
    }
   ],
   "source": [
    "plt.hist(x, bins=20);"
   ]
  },
  {
   "cell_type": "code",
   "execution_count": 66,
   "id": "d1c8f27a",
   "metadata": {},
   "outputs": [
    {
     "data": {
      "text/plain": [
       "array([10.        , 11.44827586, 12.89655172, 14.34482759, 15.79310345,\n",
       "       17.24137931, 18.68965517, 20.13793103, 21.5862069 , 23.03448276,\n",
       "       24.48275862, 25.93103448, 27.37931034, 28.82758621, 30.27586207,\n",
       "       31.72413793, 33.17241379, 34.62068966, 36.06896552, 37.51724138,\n",
       "       38.96551724, 40.4137931 , 41.86206897, 43.31034483, 44.75862069,\n",
       "       46.20689655, 47.65517241, 49.10344828, 50.55172414, 52.        ])"
      ]
     },
     "execution_count": 66,
     "metadata": {},
     "output_type": "execute_result"
    }
   ],
   "source": [
    "np.linspace(10, 52, 30)"
   ]
  },
  {
   "cell_type": "code",
   "execution_count": 67,
   "id": "07788731",
   "metadata": {},
   "outputs": [],
   "source": [
    "X = np.random.random((15, 5, 4, 7, 9))"
   ]
  },
  {
   "cell_type": "code",
   "execution_count": 69,
   "id": "d0ed6ead",
   "metadata": {},
   "outputs": [
    {
     "data": {
      "text/plain": [
       "(15, 5, 4, 7, 9)"
      ]
     },
     "execution_count": 69,
     "metadata": {},
     "output_type": "execute_result"
    }
   ],
   "source": [
    "X.shape"
   ]
  },
  {
   "cell_type": "code",
   "execution_count": 70,
   "id": "3eb01813",
   "metadata": {},
   "outputs": [
    {
     "data": {
      "text/plain": [
       "5"
      ]
     },
     "execution_count": 70,
     "metadata": {},
     "output_type": "execute_result"
    }
   ],
   "source": [
    "X.ndim"
   ]
  },
  {
   "cell_type": "code",
   "execution_count": 72,
   "id": "bc5c62e3",
   "metadata": {},
   "outputs": [],
   "source": [
    "import math"
   ]
  },
  {
   "cell_type": "code",
   "execution_count": 77,
   "id": "58cb90d8",
   "metadata": {},
   "outputs": [],
   "source": [
    "l = [ [ [ 1, 2, 3] , [4,5,6], [7,8,9]], [ [ 1, 2, 3] , [4,5,6], [7,8,9]], [ [ 1, 2, 3] , [4,5,6], [7,8,9]] ]\n",
    "cos_l = []\n",
    "\n",
    "for matrice in l:\n",
    "    mat = []\n",
    "    for riga in matrice:\n",
    "        row = []\n",
    "        for col in riga:\n",
    "            row.append(math.cos(col))\n",
    "        cos_l.append(row)\n",
    "    cos_l.append(mat)"
   ]
  },
  {
   "cell_type": "code",
   "execution_count": 78,
   "id": "d585af5c",
   "metadata": {},
   "outputs": [
    {
     "data": {
      "text/plain": [
       "[[0.5403023058681398, -0.4161468365471424, -0.9899924966004454],\n",
       " [-0.6536436208636119, 0.2836621854632263, 0.9601702866503661],\n",
       " [0.7539022543433046, -0.14550003380861354, -0.9111302618846769],\n",
       " [],\n",
       " [0.5403023058681398, -0.4161468365471424, -0.9899924966004454],\n",
       " [-0.6536436208636119, 0.2836621854632263, 0.9601702866503661],\n",
       " [0.7539022543433046, -0.14550003380861354, -0.9111302618846769],\n",
       " [],\n",
       " [0.5403023058681398, -0.4161468365471424, -0.9899924966004454],\n",
       " [-0.6536436208636119, 0.2836621854632263, 0.9601702866503661],\n",
       " [0.7539022543433046, -0.14550003380861354, -0.9111302618846769],\n",
       " []]"
      ]
     },
     "execution_count": 78,
     "metadata": {},
     "output_type": "execute_result"
    }
   ],
   "source": [
    "cos_l"
   ]
  },
  {
   "cell_type": "code",
   "execution_count": 79,
   "id": "bdb63b37",
   "metadata": {},
   "outputs": [
    {
     "data": {
      "text/plain": [
       "[[[1, 2, 3], [4, 5, 6], [7, 8, 9]],\n",
       " [[1, 2, 3], [4, 5, 6], [7, 8, 9]],\n",
       " [[1, 2, 3], [4, 5, 6], [7, 8, 9]]]"
      ]
     },
     "execution_count": 79,
     "metadata": {},
     "output_type": "execute_result"
    }
   ],
   "source": [
    "l"
   ]
  },
  {
   "cell_type": "code",
   "execution_count": 80,
   "id": "cc41a2e2",
   "metadata": {},
   "outputs": [],
   "source": [
    "m = np.array(l)"
   ]
  },
  {
   "cell_type": "code",
   "execution_count": 82,
   "id": "adbffd65",
   "metadata": {},
   "outputs": [
    {
     "data": {
      "text/plain": [
       "(3, 3, 3)"
      ]
     },
     "execution_count": 82,
     "metadata": {},
     "output_type": "execute_result"
    }
   ],
   "source": [
    "m.shape"
   ]
  },
  {
   "cell_type": "code",
   "execution_count": 86,
   "id": "3176daa8",
   "metadata": {},
   "outputs": [
    {
     "data": {
      "text/plain": [
       "array([[[0.54030231, 0.41614684, 0.9899925 ],\n",
       "        [0.65364362, 0.28366219, 0.96017029],\n",
       "        [0.75390225, 0.14550003, 0.91113026]],\n",
       "\n",
       "       [[0.54030231, 0.41614684, 0.9899925 ],\n",
       "        [0.65364362, 0.28366219, 0.96017029],\n",
       "        [0.75390225, 0.14550003, 0.91113026]],\n",
       "\n",
       "       [[0.54030231, 0.41614684, 0.9899925 ],\n",
       "        [0.65364362, 0.28366219, 0.96017029],\n",
       "        [0.75390225, 0.14550003, 0.91113026]]])"
      ]
     },
     "execution_count": 86,
     "metadata": {},
     "output_type": "execute_result"
    }
   ],
   "source": [
    "np.abs(np.cos(m))"
   ]
  },
  {
   "cell_type": "code",
   "execution_count": 92,
   "id": "3757e152",
   "metadata": {},
   "outputs": [],
   "source": [
    "A = np.ones((4, 3), dtype=int)\n",
    "\n",
    "B = np.full((4, 3), 5.2)"
   ]
  },
  {
   "cell_type": "code",
   "execution_count": 93,
   "id": "07000a5c",
   "metadata": {},
   "outputs": [
    {
     "data": {
      "text/plain": [
       "array([[1, 1, 1],\n",
       "       [1, 1, 1],\n",
       "       [1, 1, 1],\n",
       "       [1, 1, 1]])"
      ]
     },
     "execution_count": 93,
     "metadata": {},
     "output_type": "execute_result"
    }
   ],
   "source": [
    "A\n"
   ]
  },
  {
   "cell_type": "code",
   "execution_count": 94,
   "id": "4464c514",
   "metadata": {},
   "outputs": [
    {
     "data": {
      "text/plain": [
       "array([[5.2, 5.2, 5.2],\n",
       "       [5.2, 5.2, 5.2],\n",
       "       [5.2, 5.2, 5.2],\n",
       "       [5.2, 5.2, 5.2]])"
      ]
     },
     "execution_count": 94,
     "metadata": {},
     "output_type": "execute_result"
    }
   ],
   "source": [
    "B"
   ]
  },
  {
   "cell_type": "code",
   "execution_count": 95,
   "id": "6dfa1bce",
   "metadata": {},
   "outputs": [
    {
     "data": {
      "text/plain": [
       "array([[6.2, 6.2, 6.2],\n",
       "       [6.2, 6.2, 6.2],\n",
       "       [6.2, 6.2, 6.2],\n",
       "       [6.2, 6.2, 6.2]])"
      ]
     },
     "execution_count": 95,
     "metadata": {},
     "output_type": "execute_result"
    }
   ],
   "source": [
    "A + B"
   ]
  },
  {
   "cell_type": "code",
   "execution_count": 91,
   "id": "ff376254",
   "metadata": {},
   "outputs": [
    {
     "data": {
      "text/plain": [
       "array([[-4.2, -4.2, -4.2],\n",
       "       [-4.2, -4.2, -4.2],\n",
       "       [-4.2, -4.2, -4.2],\n",
       "       [-4.2, -4.2, -4.2]])"
      ]
     },
     "execution_count": 91,
     "metadata": {},
     "output_type": "execute_result"
    }
   ],
   "source": [
    "A - B"
   ]
  },
  {
   "cell_type": "code",
   "execution_count": 99,
   "id": "34b49dcd",
   "metadata": {},
   "outputs": [
    {
     "data": {
      "text/plain": [
       "6.020675592954827e-05"
      ]
     },
     "execution_count": 99,
     "metadata": {},
     "output_type": "execute_result"
    }
   ],
   "source": [
    "np.min(X)"
   ]
  },
  {
   "cell_type": "code",
   "execution_count": 100,
   "id": "c50fead1",
   "metadata": {},
   "outputs": [
    {
     "data": {
      "text/plain": [
       "0.9999499262648744"
      ]
     },
     "execution_count": 100,
     "metadata": {},
     "output_type": "execute_result"
    }
   ],
   "source": [
    "np.max(X)"
   ]
  },
  {
   "cell_type": "code",
   "execution_count": 101,
   "id": "c4185dcb",
   "metadata": {},
   "outputs": [
    {
     "data": {
      "text/plain": [
       "0.4979559335281699"
      ]
     },
     "execution_count": 101,
     "metadata": {},
     "output_type": "execute_result"
    }
   ],
   "source": [
    "np.mean(X)"
   ]
  },
  {
   "cell_type": "code",
   "execution_count": 102,
   "id": "8dabd3f1",
   "metadata": {},
   "outputs": [
    {
     "data": {
      "text/plain": [
       "9411.367143682412"
      ]
     },
     "execution_count": 102,
     "metadata": {},
     "output_type": "execute_result"
    }
   ],
   "source": [
    "np.sum(X)"
   ]
  },
  {
   "cell_type": "code",
   "execution_count": 145,
   "id": "fe10614b",
   "metadata": {},
   "outputs": [],
   "source": [
    "from sklearn.datasets import load_iris"
   ]
  },
  {
   "cell_type": "code",
   "execution_count": 204,
   "id": "f3385c1d",
   "metadata": {},
   "outputs": [],
   "source": [
    "X, y = load_iris(return_X_y=True)"
   ]
  },
  {
   "cell_type": "code",
   "execution_count": 147,
   "id": "117499ca",
   "metadata": {},
   "outputs": [
    {
     "data": {
      "text/plain": [
       "numpy.ndarray"
      ]
     },
     "execution_count": 147,
     "metadata": {},
     "output_type": "execute_result"
    }
   ],
   "source": [
    "type(X)"
   ]
  },
  {
   "cell_type": "code",
   "execution_count": 148,
   "id": "282be2f2",
   "metadata": {},
   "outputs": [
    {
     "data": {
      "text/plain": [
       "(150, 4)"
      ]
     },
     "execution_count": 148,
     "metadata": {},
     "output_type": "execute_result"
    }
   ],
   "source": [
    "X.shape"
   ]
  },
  {
   "cell_type": "code",
   "execution_count": 149,
   "id": "c0437078",
   "metadata": {},
   "outputs": [
    {
     "data": {
      "text/plain": [
       "(array([5.84333333, 3.05733333, 3.758     , 1.19933333]),\n",
       " array([0.82530129, 0.43441097, 1.75940407, 0.75969263]))"
      ]
     },
     "execution_count": 149,
     "metadata": {},
     "output_type": "execute_result"
    }
   ],
   "source": [
    "np.mean(X, axis=0), np.std(X, axis=0)"
   ]
  },
  {
   "cell_type": "code",
   "execution_count": 150,
   "id": "8dd6b307",
   "metadata": {},
   "outputs": [
    {
     "data": {
      "text/plain": [
       "(array([5.84333333, 3.05733333, 3.758     , 1.19933333]),\n",
       " array([0.82530129, 0.43441097, 1.75940407, 0.75969263]))"
      ]
     },
     "execution_count": 150,
     "metadata": {},
     "output_type": "execute_result"
    }
   ],
   "source": [
    "X.mean(axis=0), X.std(axis=0)"
   ]
  },
  {
   "cell_type": "code",
   "execution_count": 113,
   "id": "232ba49b",
   "metadata": {},
   "outputs": [],
   "source": [
    "X = np.random.random((5, 4, 9, 2))"
   ]
  },
  {
   "cell_type": "code",
   "execution_count": 115,
   "id": "1eb4a931",
   "metadata": {},
   "outputs": [
    {
     "data": {
      "text/plain": [
       "(5, 4, 9, 2)"
      ]
     },
     "execution_count": 115,
     "metadata": {},
     "output_type": "execute_result"
    }
   ],
   "source": [
    "X.shape"
   ]
  },
  {
   "cell_type": "code",
   "execution_count": 117,
   "id": "b77f2506",
   "metadata": {},
   "outputs": [
    {
     "data": {
      "text/plain": [
       "(5, 4)"
      ]
     },
     "execution_count": 117,
     "metadata": {},
     "output_type": "execute_result"
    }
   ],
   "source": [
    "X.sum(axis=2).mean(axis=2).shape"
   ]
  },
  {
   "cell_type": "code",
   "execution_count": 122,
   "id": "c6ac0882",
   "metadata": {},
   "outputs": [],
   "source": [
    "X = np.random.random(10,)"
   ]
  },
  {
   "cell_type": "code",
   "execution_count": 124,
   "id": "fe930294",
   "metadata": {},
   "outputs": [],
   "source": [
    "X = np.random.random((5, 3))\n"
   ]
  },
  {
   "cell_type": "code",
   "execution_count": 126,
   "id": "98a41ffb",
   "metadata": {},
   "outputs": [
    {
     "data": {
      "text/plain": [
       "array([[0.72130993, 0.61196514, 0.69705156],\n",
       "       [0.00963223, 0.74840227, 0.06390394],\n",
       "       [0.05515045, 0.5700574 , 0.46213293],\n",
       "       [0.36391905, 0.33100197, 0.65288236],\n",
       "       [0.02212851, 0.30145759, 0.8886354 ]])"
      ]
     },
     "execution_count": 126,
     "metadata": {},
     "output_type": "execute_result"
    }
   ],
   "source": [
    "X"
   ]
  },
  {
   "cell_type": "code",
   "execution_count": 125,
   "id": "6be7bbf8",
   "metadata": {},
   "outputs": [
    {
     "data": {
      "text/plain": [
       "array([[0.61196514, 0.69705156, 0.72130993],\n",
       "       [0.00963223, 0.06390394, 0.74840227],\n",
       "       [0.05515045, 0.46213293, 0.5700574 ],\n",
       "       [0.33100197, 0.36391905, 0.65288236],\n",
       "       [0.02212851, 0.30145759, 0.8886354 ]])"
      ]
     },
     "execution_count": 125,
     "metadata": {},
     "output_type": "execute_result"
    }
   ],
   "source": [
    "np.sort(X)"
   ]
  },
  {
   "cell_type": "code",
   "execution_count": 127,
   "id": "584b8993",
   "metadata": {},
   "outputs": [
    {
     "data": {
      "text/plain": [
       "array([[0.00963223, 0.30145759, 0.06390394],\n",
       "       [0.02212851, 0.33100197, 0.46213293],\n",
       "       [0.05515045, 0.5700574 , 0.65288236],\n",
       "       [0.36391905, 0.61196514, 0.69705156],\n",
       "       [0.72130993, 0.74840227, 0.8886354 ]])"
      ]
     },
     "execution_count": 127,
     "metadata": {},
     "output_type": "execute_result"
    }
   ],
   "source": [
    "np.sort(X, axis=0)"
   ]
  },
  {
   "cell_type": "code",
   "execution_count": 128,
   "id": "345ef1bf",
   "metadata": {},
   "outputs": [
    {
     "data": {
      "text/plain": [
       "array([0.34127781, 0.95830671, 0.66882196, 0.4205779 , 0.77434059])"
      ]
     },
     "execution_count": 128,
     "metadata": {},
     "output_type": "execute_result"
    }
   ],
   "source": [
    "A = np.random.random((5, 4))\n",
    "b = np.random.random(4)\n",
    "\n",
    "np.dot(A, b)"
   ]
  },
  {
   "cell_type": "code",
   "execution_count": 129,
   "id": "092a1629",
   "metadata": {},
   "outputs": [
    {
     "data": {
      "text/plain": [
       "2.094084440017967"
      ]
     },
     "execution_count": 129,
     "metadata": {},
     "output_type": "execute_result"
    }
   ],
   "source": [
    "a = np.random.random(4)\n",
    "b = np.random.random(4)\n",
    "\n",
    "np.dot(a, b)"
   ]
  },
  {
   "cell_type": "code",
   "execution_count": 131,
   "id": "2ba9cde6",
   "metadata": {},
   "outputs": [
    {
     "data": {
      "text/plain": [
       "(array([0.99014005, 0.92205101, 0.447086  , 0.1309476 ]),\n",
       " array([0.93642169, 0.82854355, 0.73206615, 0.57763472]))"
      ]
     },
     "execution_count": 131,
     "metadata": {},
     "output_type": "execute_result"
    }
   ],
   "source": [
    "a, b"
   ]
  },
  {
   "cell_type": "code",
   "execution_count": 133,
   "id": "6ee0a3f0",
   "metadata": {},
   "outputs": [
    {
     "data": {
      "text/plain": [
       "(5, 10)"
      ]
     },
     "execution_count": 133,
     "metadata": {},
     "output_type": "execute_result"
    }
   ],
   "source": [
    "A = np.random.random((5, 4))\n",
    "B = np.random.random((4, 10))\n",
    "\n",
    "np.dot(A, B).shape"
   ]
  },
  {
   "cell_type": "code",
   "execution_count": 141,
   "id": "d1c523f1",
   "metadata": {},
   "outputs": [],
   "source": [
    "X = np.array([[1,2],[3,4]])\n",
    "y = np.array([1,2,3])"
   ]
  },
  {
   "cell_type": "code",
   "execution_count": 142,
   "id": "a4430f56",
   "metadata": {},
   "outputs": [
    {
     "ename": "ValueError",
     "evalue": "operands could not be broadcast together with shapes (2,2) (3,) ",
     "output_type": "error",
     "traceback": [
      "\u001b[0;31m---------------------------------------------------------------------------\u001b[0m",
      "\u001b[0;31mValueError\u001b[0m                                Traceback (most recent call last)",
      "Input \u001b[0;32mIn [142]\u001b[0m, in \u001b[0;36m<cell line: 1>\u001b[0;34m()\u001b[0m\n\u001b[0;32m----> 1\u001b[0m \u001b[43mX\u001b[49m\u001b[43m \u001b[49m\u001b[38;5;241;43m+\u001b[39;49m\u001b[43m \u001b[49m\u001b[43my\u001b[49m\n",
      "\u001b[0;31mValueError\u001b[0m: operands could not be broadcast together with shapes (2,2) (3,) "
     ]
    }
   ],
   "source": [
    "X + y"
   ]
  },
  {
   "cell_type": "code",
   "execution_count": 144,
   "id": "6902b0b2",
   "metadata": {},
   "outputs": [
    {
     "data": {
      "text/plain": [
       "array([[1, 2],\n",
       "       [3, 4]])"
      ]
     },
     "execution_count": 144,
     "metadata": {},
     "output_type": "execute_result"
    }
   ],
   "source": [
    "X"
   ]
  },
  {
   "cell_type": "code",
   "execution_count": 152,
   "id": "e7ed9799",
   "metadata": {},
   "outputs": [
    {
     "data": {
      "text/plain": [
       "(150, 4)"
      ]
     },
     "execution_count": 152,
     "metadata": {},
     "output_type": "execute_result"
    }
   ],
   "source": [
    "X.shape"
   ]
  },
  {
   "cell_type": "code",
   "execution_count": 155,
   "id": "d69b3ae1",
   "metadata": {},
   "outputs": [],
   "source": [
    "means = X.mean(axis=0)\n",
    "stds = X.std(axis=0)"
   ]
  },
  {
   "cell_type": "code",
   "execution_count": 160,
   "id": "7eccf556",
   "metadata": {},
   "outputs": [],
   "source": [
    "X_std = (X - means) / stds"
   ]
  },
  {
   "cell_type": "code",
   "execution_count": 162,
   "id": "44bb55f6",
   "metadata": {},
   "outputs": [
    {
     "data": {
      "text/plain": [
       "(150, 4)"
      ]
     },
     "execution_count": 162,
     "metadata": {},
     "output_type": "execute_result"
    }
   ],
   "source": [
    "X_std.shape"
   ]
  },
  {
   "cell_type": "code",
   "execution_count": 164,
   "id": "86579e96",
   "metadata": {},
   "outputs": [
    {
     "data": {
      "text/plain": [
       "array([1., 1., 1., 1.])"
      ]
     },
     "execution_count": 164,
     "metadata": {},
     "output_type": "execute_result"
    }
   ],
   "source": [
    "X_std.std(axis=0)"
   ]
  },
  {
   "cell_type": "code",
   "execution_count": 167,
   "id": "346819dc",
   "metadata": {},
   "outputs": [],
   "source": [
    "X_std_wrong = (X - X.mean()) / X.std()"
   ]
  },
  {
   "cell_type": "code",
   "execution_count": 168,
   "id": "cbaf6c0b",
   "metadata": {},
   "outputs": [
    {
     "data": {
      "text/plain": [
       "array([ 1.20517856, -0.20628118,  0.1486947 , -1.14759208])"
      ]
     },
     "execution_count": 168,
     "metadata": {},
     "output_type": "execute_result"
    }
   ],
   "source": [
    "X_std_wrong.mean(axis=0)"
   ]
  },
  {
   "cell_type": "code",
   "execution_count": 169,
   "id": "f552f42d",
   "metadata": {},
   "outputs": [
    {
     "data": {
      "text/plain": [
       "array([0.418119  , 0.22008384, 0.89135965, 0.38487996])"
      ]
     },
     "execution_count": 169,
     "metadata": {},
     "output_type": "execute_result"
    }
   ],
   "source": [
    "X_std_wrong.std(axis=0)"
   ]
  },
  {
   "cell_type": "code",
   "execution_count": 170,
   "id": "5a92649d",
   "metadata": {},
   "outputs": [
    {
     "data": {
      "text/plain": [
       "1.1842378929335003e-16"
      ]
     },
     "execution_count": 170,
     "metadata": {},
     "output_type": "execute_result"
    }
   ],
   "source": [
    "X_std_wrong.mean()"
   ]
  },
  {
   "cell_type": "code",
   "execution_count": 171,
   "id": "c3719caa",
   "metadata": {},
   "outputs": [
    {
     "data": {
      "text/plain": [
       "1.0"
      ]
     },
     "execution_count": 171,
     "metadata": {},
     "output_type": "execute_result"
    }
   ],
   "source": [
    "X_std_wrong.std()"
   ]
  },
  {
   "cell_type": "code",
   "execution_count": 183,
   "id": "5f818c87",
   "metadata": {},
   "outputs": [],
   "source": [
    "X = np.random.random((8, 5))"
   ]
  },
  {
   "cell_type": "code",
   "execution_count": 184,
   "id": "a6ede937",
   "metadata": {},
   "outputs": [
    {
     "data": {
      "text/plain": [
       "array([[0.14038744, 0.09434182, 0.61885725, 0.26978383, 0.49632974],\n",
       "       [0.03998129, 0.72023483, 0.506415  , 0.85657587, 0.77549651],\n",
       "       [0.2552465 , 0.06658223, 0.56049441, 0.78811605, 0.99242904],\n",
       "       [0.9804003 , 0.94563883, 0.93624967, 0.53092866, 0.67525212],\n",
       "       [0.81261695, 0.12755052, 0.60381797, 0.44645387, 0.17242829],\n",
       "       [0.23549281, 0.65685297, 0.38079466, 0.62107514, 0.42888546],\n",
       "       [0.46358471, 0.63455489, 0.08010474, 0.15514   , 0.33131981],\n",
       "       [0.84127359, 0.95406753, 0.08598669, 0.68372323, 0.4239196 ]])"
      ]
     },
     "execution_count": 184,
     "metadata": {},
     "output_type": "execute_result"
    }
   ],
   "source": [
    "X"
   ]
  },
  {
   "cell_type": "code",
   "execution_count": 189,
   "id": "d9f6b3d5",
   "metadata": {},
   "outputs": [
    {
     "data": {
      "text/plain": [
       "array([[0.506415  , 0.85657587],\n",
       "       [0.56049441, 0.78811605]])"
      ]
     },
     "execution_count": 189,
     "metadata": {},
     "output_type": "execute_result"
    }
   ],
   "source": [
    "X[1:3, 2:4]"
   ]
  },
  {
   "cell_type": "code",
   "execution_count": 190,
   "id": "dc4fd510",
   "metadata": {},
   "outputs": [
    {
     "data": {
      "text/plain": [
       "array([0.23549281, 0.65685297, 0.38079466, 0.62107514, 0.42888546])"
      ]
     },
     "execution_count": 190,
     "metadata": {},
     "output_type": "execute_result"
    }
   ],
   "source": [
    "X[5]"
   ]
  },
  {
   "cell_type": "code",
   "execution_count": 192,
   "id": "6392f3b5",
   "metadata": {},
   "outputs": [
    {
     "data": {
      "text/plain": [
       "array([0.09434182, 0.72023483, 0.06658223, 0.94563883, 0.12755052,\n",
       "       0.65685297, 0.63455489, 0.95406753])"
      ]
     },
     "execution_count": 192,
     "metadata": {},
     "output_type": "execute_result"
    }
   ],
   "source": [
    "X[:, 1]"
   ]
  },
  {
   "cell_type": "code",
   "execution_count": 193,
   "id": "5d218b24",
   "metadata": {},
   "outputs": [],
   "source": [
    "X = np.array([\n",
    "    [1,2],\n",
    "    [3,4]\n",
    "])"
   ]
  },
  {
   "cell_type": "code",
   "execution_count": 194,
   "id": "6160df79",
   "metadata": {},
   "outputs": [
    {
     "data": {
      "text/plain": [
       "array([[1, 2],\n",
       "       [3, 4]])"
      ]
     },
     "execution_count": 194,
     "metadata": {},
     "output_type": "execute_result"
    }
   ],
   "source": [
    "X"
   ]
  },
  {
   "cell_type": "code",
   "execution_count": 195,
   "id": "a26690fe",
   "metadata": {},
   "outputs": [],
   "source": [
    "mask = np.array([\n",
    "    [True, False],\n",
    "    [False, True]\n",
    "])"
   ]
  },
  {
   "cell_type": "code",
   "execution_count": 196,
   "id": "2a9cb2ad",
   "metadata": {},
   "outputs": [
    {
     "data": {
      "text/plain": [
       "array([1, 4])"
      ]
     },
     "execution_count": 196,
     "metadata": {},
     "output_type": "execute_result"
    }
   ],
   "source": [
    "X[mask]"
   ]
  },
  {
   "cell_type": "code",
   "execution_count": 3,
   "id": "ae389051",
   "metadata": {},
   "outputs": [],
   "source": [
    "X = np.random.random((200, 10))"
   ]
  },
  {
   "cell_type": "code",
   "execution_count": 4,
   "id": "e4a1c8f3",
   "metadata": {},
   "outputs": [],
   "source": [
    "mask = X > 0.5"
   ]
  },
  {
   "cell_type": "code",
   "execution_count": 5,
   "id": "0c23b7b5",
   "metadata": {},
   "outputs": [
    {
     "data": {
      "text/plain": [
       "array([0.74782411, 0.6974019 , 0.89240092, ..., 0.68092336, 0.70531907,\n",
       "       0.9593503 ])"
      ]
     },
     "execution_count": 5,
     "metadata": {},
     "output_type": "execute_result"
    }
   ],
   "source": [
    "X[X > X.mean(axis=0)]"
   ]
  },
  {
   "cell_type": "code",
   "execution_count": 6,
   "id": "b41afba7",
   "metadata": {},
   "outputs": [
    {
     "data": {
      "text/plain": [
       "array([[0.74782411, 0.6974019 , 0.89240092, ..., 0.92830976, 0.50529341,\n",
       "        0.63873053],\n",
       "       [0.70579248, 0.04210301, 0.25079819, ..., 0.48655872, 0.82413036,\n",
       "        0.23103425],\n",
       "       [0.40157983, 0.95784378, 0.34558629, ..., 0.68107874, 0.90163866,\n",
       "        0.32912379],\n",
       "       ...,\n",
       "       [0.6900668 , 0.29899144, 0.40226943, ..., 0.48081432, 0.34054623,\n",
       "        0.34025969],\n",
       "       [0.84424917, 0.6704496 , 0.73496268, ..., 0.27044893, 0.0153045 ,\n",
       "        0.92513242],\n",
       "       [0.77733242, 0.10423134, 0.90086555, ..., 0.9593503 , 0.03143441,\n",
       "        0.13546718]])"
      ]
     },
     "execution_count": 6,
     "metadata": {},
     "output_type": "execute_result"
    }
   ],
   "source": [
    "X"
   ]
  },
  {
   "cell_type": "code",
   "execution_count": 7,
   "id": "1fd8b511",
   "metadata": {},
   "outputs": [
    {
     "ename": "NameError",
     "evalue": "name 'y' is not defined",
     "output_type": "error",
     "traceback": [
      "\u001b[0;31m---------------------------------------------------------------------------\u001b[0m",
      "\u001b[0;31mNameError\u001b[0m                                 Traceback (most recent call last)",
      "Input \u001b[0;32mIn [7]\u001b[0m, in \u001b[0;36m<cell line: 1>\u001b[0;34m()\u001b[0m\n\u001b[0;32m----> 1\u001b[0m X[\u001b[43my\u001b[49m\u001b[38;5;241m==\u001b[39m\u001b[38;5;241m2\u001b[39m]\u001b[38;5;241m.\u001b[39mmean(axis\u001b[38;5;241m=\u001b[39m\u001b[38;5;241m0\u001b[39m)\n",
      "\u001b[0;31mNameError\u001b[0m: name 'y' is not defined"
     ]
    }
   ],
   "source": [
    "X[y==2].mean(axis=0)"
   ]
  },
  {
   "cell_type": "code",
   "execution_count": 8,
   "id": "29ce2f7a",
   "metadata": {},
   "outputs": [],
   "source": [
    "A = np.random.random((4, 3))\n",
    "B = np.random.random((4, 7))\n",
    "C = np.random.random((7, 3))"
   ]
  },
  {
   "cell_type": "code",
   "execution_count": 9,
   "id": "eae6e68a",
   "metadata": {},
   "outputs": [
    {
     "name": "stdout",
     "output_type": "stream",
     "text": [
      "[[0.09859458 0.39514812 0.67922319]\n",
      " [0.71844789 0.81360947 0.19317838]\n",
      " [0.8402884  0.94859653 0.79183805]\n",
      " [0.70786467 0.17625026 0.11864272]]\n"
     ]
    }
   ],
   "source": [
    "print(A)"
   ]
  },
  {
   "cell_type": "code",
   "execution_count": 10,
   "id": "123c25d8",
   "metadata": {},
   "outputs": [
    {
     "name": "stdout",
     "output_type": "stream",
     "text": [
      "[[0.87293956 0.23206204 0.27281219 0.71472158 0.17893005 0.34741422\n",
      "  0.01325521]\n",
      " [0.96829091 0.61816851 0.64228846 0.35892075 0.72324939 0.72194289\n",
      "  0.06007949]\n",
      " [0.81872497 0.16470426 0.25832904 0.43399123 0.08627658 0.73804625\n",
      "  0.55203766]\n",
      " [0.84801637 0.59407355 0.7507616  0.98512648 0.22329564 0.16064367\n",
      "  0.07898321]]\n"
     ]
    }
   ],
   "source": [
    "print(B)"
   ]
  },
  {
   "cell_type": "code",
   "execution_count": 11,
   "id": "b66d5310",
   "metadata": {},
   "outputs": [
    {
     "name": "stdout",
     "output_type": "stream",
     "text": [
      "[[0.02191918 0.60841625 0.18167091]\n",
      " [0.93538323 0.36214287 0.65831751]\n",
      " [0.64947252 0.60496529 0.62458941]\n",
      " [0.90052069 0.6281567  0.84148894]\n",
      " [0.03031873 0.68134153 0.99755572]\n",
      " [0.36748826 0.54179845 0.57058802]\n",
      " [0.64495029 0.77760868 0.50287438]]\n"
     ]
    }
   ],
   "source": [
    "print(C)"
   ]
  },
  {
   "cell_type": "code",
   "execution_count": 12,
   "id": "eefba394",
   "metadata": {},
   "outputs": [
    {
     "data": {
      "text/plain": [
       "array([[0.09859458, 0.39514812, 0.67922319, 0.87293956, 0.23206204,\n",
       "        0.27281219, 0.71472158, 0.17893005, 0.34741422, 0.01325521],\n",
       "       [0.71844789, 0.81360947, 0.19317838, 0.96829091, 0.61816851,\n",
       "        0.64228846, 0.35892075, 0.72324939, 0.72194289, 0.06007949],\n",
       "       [0.8402884 , 0.94859653, 0.79183805, 0.81872497, 0.16470426,\n",
       "        0.25832904, 0.43399123, 0.08627658, 0.73804625, 0.55203766],\n",
       "       [0.70786467, 0.17625026, 0.11864272, 0.84801637, 0.59407355,\n",
       "        0.7507616 , 0.98512648, 0.22329564, 0.16064367, 0.07898321]])"
      ]
     },
     "execution_count": 12,
     "metadata": {},
     "output_type": "execute_result"
    }
   ],
   "source": [
    "np.hstack([ A, B ])"
   ]
  },
  {
   "cell_type": "code",
   "execution_count": 13,
   "id": "b484b83f",
   "metadata": {},
   "outputs": [
    {
     "data": {
      "text/plain": [
       "(4, 10)"
      ]
     },
     "execution_count": 13,
     "metadata": {},
     "output_type": "execute_result"
    }
   ],
   "source": [
    "np.hstack([ A, B ]).shape"
   ]
  },
  {
   "cell_type": "code",
   "execution_count": 14,
   "id": "8e5360ae",
   "metadata": {},
   "outputs": [
    {
     "data": {
      "text/plain": [
       "array([[0.09859458, 0.39514812, 0.67922319],\n",
       "       [0.71844789, 0.81360947, 0.19317838],\n",
       "       [0.8402884 , 0.94859653, 0.79183805],\n",
       "       [0.70786467, 0.17625026, 0.11864272],\n",
       "       [0.02191918, 0.60841625, 0.18167091],\n",
       "       [0.93538323, 0.36214287, 0.65831751],\n",
       "       [0.64947252, 0.60496529, 0.62458941],\n",
       "       [0.90052069, 0.6281567 , 0.84148894],\n",
       "       [0.03031873, 0.68134153, 0.99755572],\n",
       "       [0.36748826, 0.54179845, 0.57058802],\n",
       "       [0.64495029, 0.77760868, 0.50287438]])"
      ]
     },
     "execution_count": 14,
     "metadata": {},
     "output_type": "execute_result"
    }
   ],
   "source": [
    "np.vstack([ A, C ])"
   ]
  },
  {
   "cell_type": "code",
   "execution_count": 15,
   "id": "f926fd5d",
   "metadata": {},
   "outputs": [
    {
     "data": {
      "text/plain": [
       "(11, 3)"
      ]
     },
     "execution_count": 15,
     "metadata": {},
     "output_type": "execute_result"
    }
   ],
   "source": [
    "np.vstack([ A, C ]).shape"
   ]
  },
  {
   "cell_type": "code",
   "execution_count": 16,
   "id": "fb693358",
   "metadata": {},
   "outputs": [
    {
     "data": {
      "text/plain": [
       "array([[0.02191918, 0.60841625, 0.18167091],\n",
       "       [0.93538323, 0.36214287, 0.65831751],\n",
       "       [0.64947252, 0.60496529, 0.62458941],\n",
       "       [0.90052069, 0.6281567 , 0.84148894],\n",
       "       [0.03031873, 0.68134153, 0.99755572],\n",
       "       [0.36748826, 0.54179845, 0.57058802],\n",
       "       [0.64495029, 0.77760868, 0.50287438],\n",
       "       [0.09859458, 0.39514812, 0.67922319],\n",
       "       [0.71844789, 0.81360947, 0.19317838],\n",
       "       [0.8402884 , 0.94859653, 0.79183805],\n",
       "       [0.70786467, 0.17625026, 0.11864272]])"
      ]
     },
     "execution_count": 16,
     "metadata": {},
     "output_type": "execute_result"
    }
   ],
   "source": [
    "np.vstack([ C, A ])"
   ]
  },
  {
   "cell_type": "markdown",
   "id": "45c99e71",
   "metadata": {},
   "source": [
    "## Divisione dataset in training e test"
   ]
  },
  {
   "cell_type": "code",
   "execution_count": 17,
   "id": "d1a8b45f",
   "metadata": {},
   "outputs": [],
   "source": [
    "import pandas as pd\n",
    "\n",
    "df = pd.read_csv(\n",
    "\"https://archive.ics.uci.edu/ml/machine-learning-databases/iris/iris.data\",\n",
    "header=None,\n",
    ")"
   ]
  },
  {
   "cell_type": "code",
   "execution_count": 19,
   "id": "bc3260df",
   "metadata": {},
   "outputs": [
    {
     "data": {
      "text/plain": [
       "(150, 5)"
      ]
     },
     "execution_count": 19,
     "metadata": {},
     "output_type": "execute_result"
    }
   ],
   "source": [
    "df.values.shape"
   ]
  },
  {
   "cell_type": "code",
   "execution_count": 20,
   "id": "e9888fd7",
   "metadata": {},
   "outputs": [],
   "source": [
    "X = df.values[:, :4]\n",
    "y = df.values[:, 4]"
   ]
  },
  {
   "cell_type": "code",
   "execution_count": 29,
   "id": "0893a4ba",
   "metadata": {},
   "outputs": [],
   "source": [
    "X_train, X_test = np.vsplit(X, [120])\n",
    "y_train, y_test = np.hsplit(y, [120])"
   ]
  },
  {
   "cell_type": "code",
   "execution_count": 27,
   "id": "4fd7e095",
   "metadata": {},
   "outputs": [
    {
     "data": {
      "text/plain": [
       "(30, 4)"
      ]
     },
     "execution_count": 27,
     "metadata": {},
     "output_type": "execute_result"
    }
   ],
   "source": [
    "X_test.shape"
   ]
  },
  {
   "cell_type": "code",
   "execution_count": 31,
   "id": "6184280b",
   "metadata": {},
   "outputs": [
    {
     "data": {
      "text/plain": [
       "((120,), (30,))"
      ]
     },
     "execution_count": 31,
     "metadata": {},
     "output_type": "execute_result"
    }
   ],
   "source": [
    "y_train.shape, y_test.shape"
   ]
  },
  {
   "cell_type": "code",
   "execution_count": 33,
   "id": "3a12096d",
   "metadata": {},
   "outputs": [
    {
     "data": {
      "text/plain": [
       "array(['Iris-setosa', 'Iris-setosa', 'Iris-setosa', 'Iris-setosa',\n",
       "       'Iris-setosa', 'Iris-setosa', 'Iris-setosa', 'Iris-setosa',\n",
       "       'Iris-setosa', 'Iris-setosa', 'Iris-setosa', 'Iris-setosa',\n",
       "       'Iris-setosa', 'Iris-setosa', 'Iris-setosa', 'Iris-setosa',\n",
       "       'Iris-setosa', 'Iris-setosa', 'Iris-setosa', 'Iris-setosa',\n",
       "       'Iris-setosa', 'Iris-setosa', 'Iris-setosa', 'Iris-setosa',\n",
       "       'Iris-setosa', 'Iris-setosa', 'Iris-setosa', 'Iris-setosa',\n",
       "       'Iris-setosa', 'Iris-setosa', 'Iris-setosa', 'Iris-setosa',\n",
       "       'Iris-setosa', 'Iris-setosa', 'Iris-setosa', 'Iris-setosa',\n",
       "       'Iris-setosa', 'Iris-setosa', 'Iris-setosa', 'Iris-setosa',\n",
       "       'Iris-setosa', 'Iris-setosa', 'Iris-setosa', 'Iris-setosa',\n",
       "       'Iris-setosa', 'Iris-setosa', 'Iris-setosa', 'Iris-setosa',\n",
       "       'Iris-setosa', 'Iris-setosa', 'Iris-versicolor', 'Iris-versicolor',\n",
       "       'Iris-versicolor', 'Iris-versicolor', 'Iris-versicolor',\n",
       "       'Iris-versicolor', 'Iris-versicolor', 'Iris-versicolor',\n",
       "       'Iris-versicolor', 'Iris-versicolor', 'Iris-versicolor',\n",
       "       'Iris-versicolor', 'Iris-versicolor', 'Iris-versicolor',\n",
       "       'Iris-versicolor', 'Iris-versicolor', 'Iris-versicolor',\n",
       "       'Iris-versicolor', 'Iris-versicolor', 'Iris-versicolor',\n",
       "       'Iris-versicolor', 'Iris-versicolor', 'Iris-versicolor',\n",
       "       'Iris-versicolor', 'Iris-versicolor', 'Iris-versicolor',\n",
       "       'Iris-versicolor', 'Iris-versicolor', 'Iris-versicolor',\n",
       "       'Iris-versicolor', 'Iris-versicolor', 'Iris-versicolor',\n",
       "       'Iris-versicolor', 'Iris-versicolor', 'Iris-versicolor',\n",
       "       'Iris-versicolor', 'Iris-versicolor', 'Iris-versicolor',\n",
       "       'Iris-versicolor', 'Iris-versicolor', 'Iris-versicolor',\n",
       "       'Iris-versicolor', 'Iris-versicolor', 'Iris-versicolor',\n",
       "       'Iris-versicolor', 'Iris-versicolor', 'Iris-versicolor',\n",
       "       'Iris-versicolor', 'Iris-versicolor', 'Iris-versicolor',\n",
       "       'Iris-virginica', 'Iris-virginica', 'Iris-virginica',\n",
       "       'Iris-virginica', 'Iris-virginica', 'Iris-virginica',\n",
       "       'Iris-virginica', 'Iris-virginica', 'Iris-virginica',\n",
       "       'Iris-virginica', 'Iris-virginica', 'Iris-virginica',\n",
       "       'Iris-virginica', 'Iris-virginica', 'Iris-virginica',\n",
       "       'Iris-virginica', 'Iris-virginica', 'Iris-virginica',\n",
       "       'Iris-virginica', 'Iris-virginica', 'Iris-virginica',\n",
       "       'Iris-virginica', 'Iris-virginica', 'Iris-virginica',\n",
       "       'Iris-virginica', 'Iris-virginica', 'Iris-virginica',\n",
       "       'Iris-virginica', 'Iris-virginica', 'Iris-virginica',\n",
       "       'Iris-virginica', 'Iris-virginica', 'Iris-virginica',\n",
       "       'Iris-virginica', 'Iris-virginica', 'Iris-virginica',\n",
       "       'Iris-virginica', 'Iris-virginica', 'Iris-virginica',\n",
       "       'Iris-virginica', 'Iris-virginica', 'Iris-virginica',\n",
       "       'Iris-virginica', 'Iris-virginica', 'Iris-virginica',\n",
       "       'Iris-virginica', 'Iris-virginica', 'Iris-virginica',\n",
       "       'Iris-virginica', 'Iris-virginica'], dtype=object)"
      ]
     },
     "execution_count": 33,
     "metadata": {},
     "output_type": "execute_result"
    }
   ],
   "source": [
    "y"
   ]
  },
  {
   "cell_type": "code",
   "execution_count": 34,
   "id": "49bb388b",
   "metadata": {},
   "outputs": [],
   "source": [
    "np.random.seed(42)"
   ]
  },
  {
   "cell_type": "code",
   "execution_count": 35,
   "id": "6708498d",
   "metadata": {},
   "outputs": [
    {
     "data": {
      "text/plain": [
       "array([0.37454012, 0.95071431, 0.73199394, 0.59865848, 0.15601864,\n",
       "       0.15599452, 0.05808361, 0.86617615, 0.60111501, 0.70807258])"
      ]
     },
     "execution_count": 35,
     "metadata": {},
     "output_type": "execute_result"
    }
   ],
   "source": [
    "np.random.random(10)"
   ]
  },
  {
   "cell_type": "code",
   "execution_count": 36,
   "id": "417909a8",
   "metadata": {},
   "outputs": [],
   "source": [
    "np.random.seed(42)"
   ]
  },
  {
   "cell_type": "code",
   "execution_count": 37,
   "id": "07ebe77e",
   "metadata": {},
   "outputs": [
    {
     "data": {
      "text/plain": [
       "array([0.37454012, 0.95071431, 0.73199394, 0.59865848, 0.15601864,\n",
       "       0.15599452, 0.05808361, 0.86617615, 0.60111501, 0.70807258])"
      ]
     },
     "execution_count": 37,
     "metadata": {},
     "output_type": "execute_result"
    }
   ],
   "source": [
    "np.random.random(10)"
   ]
  },
  {
   "cell_type": "markdown",
   "id": "4ef2120b",
   "metadata": {},
   "source": [
    "opzione 1 - creo una maschera binaria con ~ 80 valori True,  20 valori False"
   ]
  },
  {
   "cell_type": "code",
   "execution_count": 61,
   "id": "b712af61",
   "metadata": {},
   "outputs": [],
   "source": [
    "mask_continua = np.random.random(150)\n"
   ]
  },
  {
   "cell_type": "code",
   "execution_count": 62,
   "id": "55b741ff",
   "metadata": {},
   "outputs": [],
   "source": [
    "mask_bool = mask_continua > 0.2"
   ]
  },
  {
   "cell_type": "code",
   "execution_count": 64,
   "id": "1ff1788b",
   "metadata": {},
   "outputs": [],
   "source": [
    "X_train = X[mask_bool]\n",
    "y_train = y[mask_bool]\n",
    "\n",
    "X_test = X[~mask_bool]\n",
    "y_test = y[~mask_bool]"
   ]
  },
  {
   "cell_type": "code",
   "execution_count": 72,
   "id": "e7053db6",
   "metadata": {},
   "outputs": [
    {
     "name": "stdout",
     "output_type": "stream",
     "text": [
      "Iris-versicolor 42 8\n",
      "Iris-virginica 40 10\n",
      "Iris-setosa 35 15\n"
     ]
    }
   ],
   "source": [
    "for i in set(y):\n",
    "    print(i, (y_train == i).sum(), (y_test == i).sum())"
   ]
  },
  {
   "cell_type": "code",
   "execution_count": 77,
   "id": "0cc310f3",
   "metadata": {},
   "outputs": [],
   "source": [
    "mask = np.zeros(150, dtype=bool)\n",
    "mask[:120] = True\n",
    "\n",
    "np.random.shuffle(mask)"
   ]
  },
  {
   "cell_type": "code",
   "execution_count": 79,
   "id": "26726289",
   "metadata": {},
   "outputs": [],
   "source": [
    "X_train = X[mask]\n",
    "y_train = y[mask]\n",
    "X_test = X[~mask]\n",
    "y_test = y[~mask]"
   ]
  },
  {
   "cell_type": "code",
   "execution_count": 81,
   "id": "83ec0120",
   "metadata": {},
   "outputs": [
    {
     "data": {
      "text/plain": [
       "((120, 4), (30, 4))"
      ]
     },
     "execution_count": 81,
     "metadata": {},
     "output_type": "execute_result"
    }
   ],
   "source": [
    "X_train.shape, X_test.shape"
   ]
  },
  {
   "cell_type": "code",
   "execution_count": 80,
   "id": "fb37bf63",
   "metadata": {},
   "outputs": [
    {
     "name": "stdout",
     "output_type": "stream",
     "text": [
      "Iris-versicolor 39 11\n",
      "Iris-virginica 42 8\n",
      "Iris-setosa 39 11\n"
     ]
    }
   ],
   "source": [
    "for i in set(y):\n",
    "    print(i, (y_train == i).sum(), (y_test == i).sum())"
   ]
  },
  {
   "cell_type": "code",
   "execution_count": 83,
   "id": "70e741d6",
   "metadata": {},
   "outputs": [
    {
     "data": {
      "text/plain": [
       "array([[5.4, 3.9, 1.7, 0.4],\n",
       "       [5.0, 3.6, 1.4, 0.2],\n",
       "       [4.9, 3.1, 1.5, 0.1],\n",
       "       [5.8, 4.0, 1.2, 0.2]], dtype=object)"
      ]
     },
     "execution_count": 83,
     "metadata": {},
     "output_type": "execute_result"
    }
   ],
   "source": [
    "X[[5, 4, 9, 14]]"
   ]
  },
  {
   "cell_type": "code",
   "execution_count": 88,
   "id": "17fa7c3a",
   "metadata": {},
   "outputs": [
    {
     "data": {
      "text/plain": [
       "array([ 81,  87, 112,  99, 117,  22,  39,  30,  48,  92,  64, 123, 114,\n",
       "        56,  41,  84,  36,  78,   3,   2, 108,  35,   1,  95,  65, 118,\n",
       "        79,   7,  70,  14,  25,   5, 122,  82,  50,  94,  76,  51,  31,\n",
       "        61,  13, 105,  29,  69, 106,  15, 103,  96, 130, 145,  12,  44,\n",
       "        11, 137,  16, 110, 111,  57, 121,  43,  80,  28,  23,  24,  60,\n",
       "       143,  90,  10, 127,   0, 128, 138,  66,  89, 101, 119, 142,  75,\n",
       "        68, 113, 134,  58,  37,  27, 124, 131,  40, 102,  26,  53, 126,\n",
       "        73,  38, 116,  91,  98,  74,   9, 139, 149,  85, 120,  88,  42,\n",
       "       136,  20,   4,   6,  19,  67,  49,  45, 135, 107, 147,  33,  34,\n",
       "        62,  21, 125,  55,  32, 115,  77,  59, 109, 146,  18,  17, 132,\n",
       "        46, 100, 133,  71,  93, 104, 140, 129,  54,  52,  97,   8,  86,\n",
       "       144,  63, 141, 148,  83,  47,  72])"
      ]
     },
     "execution_count": 88,
     "metadata": {},
     "output_type": "execute_result"
    }
   ],
   "source": [
    "indice"
   ]
  },
  {
   "cell_type": "code",
   "execution_count": 85,
   "id": "e290bc04",
   "metadata": {},
   "outputs": [],
   "source": [
    "indice = np.random.choice(150, replace=False, size=150)\n",
    "X = X[indice]\n",
    "y = y[indice]"
   ]
  },
  {
   "cell_type": "code",
   "execution_count": 86,
   "id": "9209998a",
   "metadata": {},
   "outputs": [],
   "source": [
    "X_train, X_test = np.vsplit(X, [120])\n",
    "y_train, y_test = np.hsplit(y, [120])"
   ]
  },
  {
   "cell_type": "code",
   "execution_count": 89,
   "id": "a36f77b5",
   "metadata": {},
   "outputs": [],
   "source": [
    "from sklearn.model_selection import train_test_split"
   ]
  },
  {
   "cell_type": "code",
   "execution_count": 90,
   "id": "8fd62165",
   "metadata": {},
   "outputs": [],
   "source": [
    "X_train, X_test, y_train, y_test = train_test_split(X, y, train_size=0.8, random_state=42, stratify=y)"
   ]
  },
  {
   "cell_type": "code",
   "execution_count": 91,
   "id": "09f09f9a",
   "metadata": {},
   "outputs": [
    {
     "name": "stdout",
     "output_type": "stream",
     "text": [
      "Iris-versicolor 40 10\n",
      "Iris-virginica 40 10\n",
      "Iris-setosa 40 10\n"
     ]
    }
   ],
   "source": [
    "for i in set(y):\n",
    "    print(i, (y_train == i).sum(), (y_test == i).sum())"
   ]
  },
  {
   "cell_type": "code",
   "execution_count": 93,
   "id": "d9d04778",
   "metadata": {},
   "outputs": [
    {
     "data": {
      "text/plain": [
       "array([[ 1,  2,  3,  4],\n",
       "       [ 5,  6,  7,  8],\n",
       "       [ 9, 10, 11, 12],\n",
       "       [13, 14, 15, 16]])"
      ]
     },
     "execution_count": 93,
     "metadata": {},
     "output_type": "execute_result"
    }
   ],
   "source": [
    "np.arange(1, 17).reshape(4,4)"
   ]
  },
  {
   "cell_type": "code",
   "execution_count": 97,
   "id": "d6cd8f5c",
   "metadata": {},
   "outputs": [],
   "source": [
    "df = pd.read_csv(\"https://raw.githubusercontent.com/dbdmg/data-science-lab/master/datasets/mnist_test.csv\", nrows=2)"
   ]
  },
  {
   "cell_type": "code",
   "execution_count": 114,
   "id": "fa1ea1cd",
   "metadata": {},
   "outputs": [],
   "source": [
    "y = df.values[:, 0]\n",
    "X = df.values[:, 1:]"
   ]
  },
  {
   "cell_type": "code",
   "execution_count": 115,
   "id": "504ea907",
   "metadata": {},
   "outputs": [],
   "source": [
    "X_r = X.reshape(-1, 28, 28)"
   ]
  },
  {
   "cell_type": "code",
   "execution_count": 116,
   "id": "43ed5105",
   "metadata": {},
   "outputs": [
    {
     "data": {
      "text/plain": [
       "<matplotlib.image.AxesImage at 0x12bd886a0>"
      ]
     },
     "execution_count": 116,
     "metadata": {},
     "output_type": "execute_result"
    },
    {
     "data": {
      "image/png": "[encoded data removed]",
      "text/plain": [
       "<Figure size 432x288 with 1 Axes>"
      ]
     },
     "metadata": {
      "needs_background": "light"
     },
     "output_type": "display_data"
    }
   ],
   "source": [
    "plt.imshow(X[0].reshape(1, 784))"
   ]
  },
  {
   "cell_type": "code",
   "execution_count": 117,
   "id": "5a2c20c5",
   "metadata": {},
   "outputs": [
    {
     "data": {
      "text/plain": [
       "<matplotlib.image.AxesImage at 0x12bdd3e80>"
      ]
     },
     "execution_count": 117,
     "metadata": {},
     "output_type": "execute_result"
    },
    {
     "data": {
      "image/png": "[encoded data removed]",
      "text/plain": [
       "<Figure size 432x288 with 1 Axes>"
      ]
     },
     "metadata": {
      "needs_background": "light"
     },
     "output_type": "display_data"
    }
   ],
   "source": [
    "import matplotlib.pyplot as plt\n",
    "\n",
    "plt.imshow(X_r[0], cmap=\"PuRd\")"
   ]
  },
  {
   "cell_type": "code",
   "execution_count": 118,
   "id": "fc9d1af6",
   "metadata": {},
   "outputs": [
    {
     "data": {
      "text/plain": [
       "<matplotlib.image.AxesImage at 0x12be2f4f0>"
      ]
     },
     "execution_count": 118,
     "metadata": {},
     "output_type": "execute_result"
    },
    {
     "data": {
      "image/png": "[encoded data removed]",
      "text/plain": [
       "<Figure size 432x288 with 1 Axes>"
      ]
     },
     "metadata": {
      "needs_background": "light"
     },
     "output_type": "display_data"
    }
   ],
   "source": [
    "plt.imshow(X_r[1], cmap=\"PuRd\")"
   ]
  },
  {
   "cell_type": "code",
   "execution_count": 120,
   "id": "71934d04",
   "metadata": {},
   "outputs": [
    {
     "data": {
      "text/plain": [
       "array([0, 0, 0, ..., 0, 0, 0])"
      ]
     },
     "execution_count": 120,
     "metadata": {},
     "output_type": "execute_result"
    }
   ],
   "source": [
    "X.flatten()"
   ]
  },
  {
   "cell_type": "code",
   "execution_count": 124,
   "id": "ef177511",
   "metadata": {},
   "outputs": [],
   "source": [
    "X = X.astype(float)"
   ]
  },
  {
   "cell_type": "code",
   "execution_count": 125,
   "id": "faef7a5e",
   "metadata": {},
   "outputs": [],
   "source": [
    "X[0,2] = np.nan"
   ]
  },
  {
   "cell_type": "code",
   "execution_count": 127,
   "id": "565ec6bf",
   "metadata": {},
   "outputs": [
    {
     "data": {
      "text/plain": [
       "(2, 784)"
      ]
     },
     "execution_count": 127,
     "metadata": {},
     "output_type": "execute_result"
    }
   ],
   "source": [
    "X.shape"
   ]
  },
  {
   "cell_type": "code",
   "execution_count": 129,
   "id": "c0d0c348",
   "metadata": {},
   "outputs": [
    {
     "data": {
      "text/plain": [
       "array([[ 0.,  0., nan, ...,  0.,  0.,  0.],\n",
       "       [ 0.,  0.,  0., ...,  0.,  0.,  0.]])"
      ]
     },
     "execution_count": 129,
     "metadata": {},
     "output_type": "execute_result"
    }
   ],
   "source": [
    "X"
   ]
  },
  {
   "cell_type": "code",
   "execution_count": 131,
   "id": "6f4d625d",
   "metadata": {},
   "outputs": [
    {
     "data": {
      "text/plain": [
       "array([False,  True])"
      ]
     },
     "execution_count": 131,
     "metadata": {},
     "output_type": "execute_result"
    }
   ],
   "source": []
  },
  {
   "cell_type": "code",
   "execution_count": 135,
   "id": "60a4d623",
   "metadata": {},
   "outputs": [
    {
     "data": {
      "text/plain": [
       "array([[0., 0., 0., ..., 0., 0., 0.],\n",
       "       [0., 0., 0., ..., 0., 0., 0.]])"
      ]
     },
     "execution_count": 135,
     "metadata": {},
     "output_type": "execute_result"
    }
   ],
   "source": [
    "X[:, ~np.isnan(X).any(axis=0)]"
   ]
  },
  {
   "cell_type": "code",
   "execution_count": 132,
   "id": "3646b455",
   "metadata": {},
   "outputs": [
    {
     "data": {
      "text/plain": [
       "array([[  0.,   0.,   0.,   0.,   0.,   0.,   0.,   0.,   0.,   0.,   0.,\n",
       "          0.,   0.,   0.,   0.,   0.,   0.,   0.,   0.,   0.,   0.,   0.,\n",
       "          0.,   0.,   0.,   0.,   0.,   0.,   0.,   0.,   0.,   0.,   0.,\n",
       "          0.,   0.,   0.,   0.,   0.,   0.,   0.,   0.,   0.,   0.,   0.,\n",
       "          0.,   0.,   0.,   0.,   0.,   0.,   0.,   0.,   0.,   0.,   0.,\n",
       "          0.,   0.,   0.,   0.,   0.,   0.,   0.,   0.,   0.,   0.,   0.,\n",
       "          0.,   0.,   0.,   0.,   0.,   0.,   0.,   0.,   0.,   0.,   0.,\n",
       "          0.,   0.,   0.,   0.,   0.,   0.,   0.,   0.,   0.,   0.,   0.,\n",
       "          0.,   0.,   0.,   0.,   0.,   0.,   0.,   0.,   0.,   0.,   0.,\n",
       "          0.,   0.,   0.,   0.,   0.,   0.,   0.,   0.,   0.,   0.,   0.,\n",
       "          0.,   0.,   0.,   0.,   0.,   0.,   0.,   0.,   0.,   0.,   0.,\n",
       "          0.,   0.,   0.,   0.,   0.,   0.,   0.,  38., 254., 109.,   0.,\n",
       "          0.,   0.,   0.,   0.,   0.,   0.,   0.,   0.,   0.,   0.,   0.,\n",
       "          0.,   0.,   0.,   0.,   0.,   0.,   0.,   0.,   0.,   0.,   0.,\n",
       "          0.,   0.,  87., 252.,  82.,   0.,   0.,   0.,   0.,   0.,   0.,\n",
       "          0.,   0.,   0.,   0.,   0.,   0.,   0.,   0.,   0.,   0.,   0.,\n",
       "          0.,   0.,   0.,   0.,   0.,   0.,   0.,   0., 135., 241.,   0.,\n",
       "          0.,   0.,   0.,   0.,   0.,   0.,   0.,   0.,   0.,   0.,   0.,\n",
       "          0.,   0.,   0.,   0.,   0.,   0.,   0.,   0.,   0.,   0.,   0.,\n",
       "          0.,   0.,  45., 244., 150.,   0.,   0.,   0.,   0.,   0.,   0.,\n",
       "          0.,   0.,   0.,   0.,   0.,   0.,   0.,   0.,   0.,   0.,   0.,\n",
       "          0.,   0.,   0.,   0.,   0.,   0.,   0.,   0.,  84., 254.,  63.,\n",
       "          0.,   0.,   0.,   0.,   0.,   0.,   0.,   0.,   0.,   0.,   0.,\n",
       "          0.,   0.,   0.,   0.,   0.,   0.,   0.,   0.,   0.,   0.,   0.,\n",
       "          0.,   0.,   0., 202., 223.,  11.,   0.,   0.,   0.,   0.,   0.,\n",
       "          0.,   0.,   0.,   0.,   0.,   0.,   0.,   0.,   0.,   0.,   0.,\n",
       "          0.,   0.,   0.,   0.,   0.,   0.,   0.,   0.,  32., 254., 216.,\n",
       "          0.,   0.,   0.,   0.,   0.,   0.,   0.,   0.,   0.,   0.,   0.,\n",
       "          0.,   0.,   0.,   0.,   0.,   0.,   0.,   0.,   0.,   0.,   0.,\n",
       "          0.,   0.,   0.,  95., 254., 195.,   0.,   0.,   0.,   0.,   0.,\n",
       "          0.,   0.,   0.,   0.,   0.,   0.,   0.,   0.,   0.,   0.,   0.,\n",
       "          0.,   0.,   0.,   0.,   0.,   0.,   0.,   0.,   0., 140., 254.,\n",
       "         77.,   0.,   0.,   0.,   0.,   0.,   0.,   0.,   0.,   0.,   0.,\n",
       "          0.,   0.,   0.,   0.,   0.,   0.,   0.,   0.,   0.,   0.,   0.,\n",
       "          0.,   0.,   0.,  57., 237., 205.,   8.,   0.,   0.,   0.,   0.,\n",
       "          0.,   0.,   0.,   0.,   0.,   0.,   0.,   0.,   0.,   0.,   0.,\n",
       "          0.,   0.,   0.,   0.,   0.,   0.,   0.,   0.,   0., 124., 255.,\n",
       "        165.,   0.,   0.,   0.,   0.,   0.,   0.,   0.,   0.,   0.,   0.,\n",
       "          0.,   0.,   0.,   0.,   0.,   0.,   0.,   0.,   0.,   0.,   0.,\n",
       "          0.,   0.,   0.,   0., 171., 254.,  81.,   0.,   0.,   0.,   0.,\n",
       "          0.,   0.,   0.,   0.,   0.,   0.,   0.,   0.,   0.,   0.,   0.,\n",
       "          0.,   0.,   0.,   0.,   0.,   0.,   0.,   0.,   0.,  24., 232.,\n",
       "        215.,   0.,   0.,   0.,   0.,   0.,   0.,   0.,   0.,   0.,   0.,\n",
       "          0.,   0.,   0.,   0.,   0.,   0.,   0.,   0.,   0.,   0.,   0.,\n",
       "          0.,   0.,   0.,   0., 120., 254., 159.,   0.,   0.,   0.,   0.,\n",
       "          0.,   0.,   0.,   0.,   0.,   0.,   0.,   0.,   0.,   0.,   0.,\n",
       "          0.,   0.,   0.,   0.,   0.,   0.,   0.,   0.,   0.,   0., 151.,\n",
       "        254., 142.,   0.,   0.,   0.,   0.,   0.,   0.,   0.,   0.,   0.,\n",
       "          0.,   0.,   0.,   0.,   0.,   0.,   0.,   0.,   0.,   0.,   0.,\n",
       "          0.,   0.,   0.,   0.,   0., 228., 254.,  66.,   0.,   0.,   0.,\n",
       "          0.,   0.,   0.,   0.,   0.,   0.,   0.,   0.,   0.,   0.,   0.,\n",
       "          0.,   0.,   0.,   0.,   0.,   0.,   0.,   0.,   0.,   0.,  61.,\n",
       "        251., 254.,  66.,   0.,   0.,   0.,   0.,   0.,   0.,   0.,   0.,\n",
       "          0.,   0.,   0.,   0.,   0.,   0.,   0.,   0.,   0.,   0.,   0.,\n",
       "          0.,   0.,   0.,   0.,   0., 141., 254., 205.,   3.,   0.,   0.,\n",
       "          0.,   0.,   0.,   0.,   0.,   0.,   0.,   0.,   0.,   0.,   0.,\n",
       "          0.,   0.,   0.,   0.,   0.,   0.,   0.,   0.,   0.,   0.,  10.,\n",
       "        215., 254., 121.,   0.,   0.,   0.,   0.,   0.,   0.,   0.,   0.,\n",
       "          0.,   0.,   0.,   0.,   0.,   0.,   0.,   0.,   0.,   0.,   0.,\n",
       "          0.,   0.,   0.,   0.,   0.,   5., 198., 176.,  10.,   0.,   0.,\n",
       "          0.,   0.,   0.,   0.,   0.,   0.,   0.,   0.,   0.,   0.,   0.,\n",
       "          0.,   0.,   0.,   0.,   0.,   0.,   0.,   0.,   0.,   0.,   0.,\n",
       "          0.,   0.,   0.,   0.,   0.,   0.,   0.,   0.,   0.,   0.,   0.,\n",
       "          0.,   0.,   0.,   0.,   0.,   0.,   0.,   0.,   0.,   0.,   0.,\n",
       "          0.,   0.,   0.,   0.,   0.,   0.,   0.,   0.,   0.,   0.,   0.,\n",
       "          0.,   0.,   0.,   0.,   0.,   0.,   0.,   0.,   0.,   0.,   0.,\n",
       "          0.,   0.,   0.,   0.,   0.,   0.,   0.,   0.,   0.,   0.,   0.,\n",
       "          0.,   0.,   0.,   0.,   0.,   0.,   0.,   0.,   0.,   0.,   0.,\n",
       "          0.,   0.,   0.,   0.,   0.,   0.,   0.,   0.,   0.,   0.,   0.,\n",
       "          0.,   0.,   0.,   0.,   0.,   0.,   0.,   0.,   0.,   0.,   0.,\n",
       "          0.,   0.,   0.,   0.,   0.,   0.,   0.,   0.,   0.,   0.,   0.,\n",
       "          0.,   0.,   0.]])"
      ]
     },
     "execution_count": 132,
     "metadata": {},
     "output_type": "execute_result"
    }
   ],
   "source": [
    "X[~np.isnan(X).any(axis=0)]"
   ]
  },
  {
   "cell_type": "code",
   "execution_count": null,
   "id": "56d6baba",
   "metadata": {},
   "outputs": [],
   "source": []
  }
 ],
 "metadata": {
  "kernelspec": {
   "display_name": "Python 3 (ipykernel)",
   "language": "python",
   "name": "python3"
  },
  "language_info": {
   "codemirror_mode": {
    "name": "ipython",
    "version": 3
   },
   "file_extension": ".py",
   "mimetype": "text/x-python",
   "name": "python",
   "nbconvert_exporter": "python",
   "pygments_lexer": "ipython3",
   "version": "3.9.10"
  }
 },
 "nbformat": 4,
 "nbformat_minor": 5
}
