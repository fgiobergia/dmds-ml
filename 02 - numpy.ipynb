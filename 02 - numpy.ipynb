{
 "cells": [
  {
   "cell_type": "code",
   "execution_count": 3,
   "id": "d3743521",
   "metadata": {},
   "outputs": [],
   "source": [
    "import numpy as np"
   ]
  },
  {
   "cell_type": "code",
   "execution_count": 4,
   "id": "63c301a3",
   "metadata": {},
   "outputs": [],
   "source": [
    "l = [1, 2, 3]"
   ]
  },
  {
   "cell_type": "code",
   "execution_count": 27,
   "id": "bb18316d",
   "metadata": {},
   "outputs": [],
   "source": [
    "a = np.array(l)"
   ]
  },
  {
   "cell_type": "code",
   "execution_count": 28,
   "id": "c477bd6a",
   "metadata": {},
   "outputs": [
    {
     "data": {
      "text/plain": [
       "array([1, 2, 3])"
      ]
     },
     "execution_count": 28,
     "metadata": {},
     "output_type": "execute_result"
    }
   ],
   "source": [
    "a"
   ]
  },
  {
   "cell_type": "code",
   "execution_count": 6,
   "id": "7f106f65",
   "metadata": {},
   "outputs": [
    {
     "data": {
      "text/plain": [
       "[1, 2, 3]"
      ]
     },
     "execution_count": 6,
     "metadata": {},
     "output_type": "execute_result"
    }
   ],
   "source": [
    "l"
   ]
  },
  {
   "cell_type": "code",
   "execution_count": 7,
   "id": "c29bab84",
   "metadata": {},
   "outputs": [
    {
     "data": {
      "text/plain": [
       "array([1, 2, 3])"
      ]
     },
     "execution_count": 7,
     "metadata": {},
     "output_type": "execute_result"
    }
   ],
   "source": [
    "a"
   ]
  },
  {
   "cell_type": "code",
   "execution_count": 23,
   "id": "8abd0705",
   "metadata": {},
   "outputs": [],
   "source": [
    "X = np.array([\n",
    "    [1.1, 2, 3],\n",
    "    [4, 5, 6],\n",
    "    [7, 8, 9]\n",
    "], dtype=np.int8)"
   ]
  },
  {
   "cell_type": "code",
   "execution_count": 32,
   "id": "85a04db4",
   "metadata": {},
   "outputs": [
    {
     "data": {
      "text/plain": [
       "(3, 3)"
      ]
     },
     "execution_count": 32,
     "metadata": {},
     "output_type": "execute_result"
    }
   ],
   "source": [
    "X.shape"
   ]
  },
  {
   "cell_type": "code",
   "execution_count": 33,
   "id": "345d0cdc",
   "metadata": {},
   "outputs": [
    {
     "data": {
      "text/plain": [
       "(3,)"
      ]
     },
     "execution_count": 33,
     "metadata": {},
     "output_type": "execute_result"
    }
   ],
   "source": [
    "np.array([1,2,3]).shape"
   ]
  },
  {
   "cell_type": "code",
   "execution_count": 34,
   "id": "40790c49",
   "metadata": {},
   "outputs": [
    {
     "data": {
      "text/plain": [
       "(3, 1)"
      ]
     },
     "execution_count": 34,
     "metadata": {},
     "output_type": "execute_result"
    }
   ],
   "source": [
    "np.array([\n",
    "    [1],\n",
    "    [2],\n",
    "    [3]\n",
    "]).shape"
   ]
  },
  {
   "cell_type": "code",
   "execution_count": 35,
   "id": "2ca2280e",
   "metadata": {},
   "outputs": [
    {
     "data": {
      "text/plain": [
       "array([[0., 0., 0., 0., 0.],\n",
       "       [0., 0., 0., 0., 0.],\n",
       "       [0., 0., 0., 0., 0.]])"
      ]
     },
     "execution_count": 35,
     "metadata": {},
     "output_type": "execute_result"
    }
   ],
   "source": [
    "np.zeros((3, 5))"
   ]
  },
  {
   "cell_type": "code",
   "execution_count": 36,
   "id": "f33df256",
   "metadata": {},
   "outputs": [
    {
     "data": {
      "text/plain": [
       "array([[1., 1., 1., 1., 1.],\n",
       "       [1., 1., 1., 1., 1.],\n",
       "       [1., 1., 1., 1., 1.]])"
      ]
     },
     "execution_count": 36,
     "metadata": {},
     "output_type": "execute_result"
    }
   ],
   "source": [
    "np.ones((3, 5))"
   ]
  },
  {
   "cell_type": "code",
   "execution_count": 37,
   "id": "8ab0d265",
   "metadata": {},
   "outputs": [
    {
     "data": {
      "text/plain": [
       "array([[72, 72, 72, 72, 72],\n",
       "       [72, 72, 72, 72, 72],\n",
       "       [72, 72, 72, 72, 72]])"
      ]
     },
     "execution_count": 37,
     "metadata": {},
     "output_type": "execute_result"
    }
   ],
   "source": [
    "np.full((3, 5), 72)"
   ]
  },
  {
   "cell_type": "code",
   "execution_count": 47,
   "id": "4435d35e",
   "metadata": {},
   "outputs": [
    {
     "data": {
      "text/plain": [
       "array([1, 2, 3, 4])"
      ]
     },
     "execution_count": 47,
     "metadata": {},
     "output_type": "execute_result"
    }
   ],
   "source": [
    "np.array(list(range(1, 5)))"
   ]
  },
  {
   "cell_type": "code",
   "execution_count": 44,
   "id": "5e69cab0",
   "metadata": {},
   "outputs": [
    {
     "data": {
      "text/plain": [
       "array([1.2, 1.4, 1.6, 1.8, 2. , 2.2, 2.4, 2.6, 2.8, 3. , 3.2, 3.4, 3.6,\n",
       "       3.8, 4. , 4.2, 4.4, 4.6, 4.8])"
      ]
     },
     "execution_count": 44,
     "metadata": {},
     "output_type": "execute_result"
    }
   ],
   "source": [
    "np.arange(1.2, 5, 0.2)"
   ]
  },
  {
   "cell_type": "code",
   "execution_count": 49,
   "id": "2dad30a7",
   "metadata": {},
   "outputs": [
    {
     "data": {
      "text/plain": [
       "array([1.2       , 1.51666667, 1.83333333, 2.15      , 2.46666667,\n",
       "       2.78333333, 3.1       , 3.41666667, 3.73333333, 4.05      ,\n",
       "       4.36666667, 4.68333333, 5.        ])"
      ]
     },
     "execution_count": 49,
     "metadata": {},
     "output_type": "execute_result"
    }
   ],
   "source": [
    "np.linspace(1.2, 5, 13)"
   ]
  },
  {
   "cell_type": "code",
   "execution_count": 50,
   "id": "f8d86099",
   "metadata": {},
   "outputs": [
    {
     "data": {
      "text/plain": [
       "array([[0.75094696, 0.2533214 , 0.26167151, 0.09851545],\n",
       "       [0.84785186, 0.2675751 , 0.04582266, 0.91642144],\n",
       "       [0.53377031, 0.09172654, 0.46481283, 0.61831209],\n",
       "       [0.4978981 , 0.00331339, 0.3035245 , 0.50084358],\n",
       "       [0.70600825, 0.74328615, 0.77390463, 0.61484807]])"
      ]
     },
     "execution_count": 50,
     "metadata": {},
     "output_type": "execute_result"
    }
   ],
   "source": [
    "np.random.random((5, 4))"
   ]
  },
  {
   "cell_type": "code",
   "execution_count": 51,
   "id": "aa1181e3",
   "metadata": {},
   "outputs": [],
   "source": [
    "import matplotlib.pyplot as plt\n",
    "%matplotlib inline"
   ]
  },
  {
   "cell_type": "code",
   "execution_count": 55,
   "id": "deba0501",
   "metadata": {},
   "outputs": [],
   "source": [
    "x = np.random.random(10000)"
   ]
  },
  {
   "cell_type": "code",
   "execution_count": 57,
   "id": "24069b9f",
   "metadata": {},
   "outputs": [
    {
     "data": {
      "image/png": "[encoded data removed]",
      "text/plain": [
       "<Figure size 432x288 with 1 Axes>"
      ]
     },
     "metadata": {
      "needs_background": "light"
     },
     "output_type": "display_data"
    }
   ],
   "source": [
    "plt.hist(x, bins=20);"
   ]
  },
  {
   "cell_type": "code",
   "execution_count": 58,
   "id": "677f3e9d",
   "metadata": {},
   "outputs": [
    {
     "data": {
      "text/plain": [
       "array([[11.76463836,  5.81588978, 12.49238858,  9.13216154],\n",
       "       [12.98920667,  7.1576142 ,  8.26891534, 13.81269903],\n",
       "       [11.84872899,  8.38000807,  8.37406759,  3.40714907],\n",
       "       [11.71095461, 14.76745009,  9.0421909 , 14.78177093],\n",
       "       [10.79046741,  9.97364294, 11.60728765,  8.7379084 ]])"
      ]
     },
     "execution_count": 58,
     "metadata": {},
     "output_type": "execute_result"
    }
   ],
   "source": [
    "np.random.normal(10, 3, (5, 4))"
   ]
  },
  {
   "cell_type": "code",
   "execution_count": 63,
   "id": "58013c3f",
   "metadata": {},
   "outputs": [],
   "source": [
    "x = np.random.normal(10, 3, 10000)"
   ]
  },
  {
   "cell_type": "code",
   "execution_count": 64,
   "id": "9b79cddf",
   "metadata": {},
   "outputs": [
    {
     "data": {
      "image/png": "[encoded data removed]",
      "text/plain": [
       "<Figure size 432x288 with 1 Axes>"
      ]
     },
     "metadata": {
      "needs_background": "light"
     },
     "output_type": "display_data"
    }
   ],
   "source": [
    "plt.hist(x, bins=20);"
   ]
  },
  {
   "cell_type": "code",
   "execution_count": 66,
   "id": "d1c8f27a",
   "metadata": {},
   "outputs": [
    {
     "data": {
      "text/plain": [
       "array([10.        , 11.44827586, 12.89655172, 14.34482759, 15.79310345,\n",
       "       17.24137931, 18.68965517, 20.13793103, 21.5862069 , 23.03448276,\n",
       "       24.48275862, 25.93103448, 27.37931034, 28.82758621, 30.27586207,\n",
       "       31.72413793, 33.17241379, 34.62068966, 36.06896552, 37.51724138,\n",
       "       38.96551724, 40.4137931 , 41.86206897, 43.31034483, 44.75862069,\n",
       "       46.20689655, 47.65517241, 49.10344828, 50.55172414, 52.        ])"
      ]
     },
     "execution_count": 66,
     "metadata": {},
     "output_type": "execute_result"
    }
   ],
   "source": [
    "np.linspace(10, 52, 30)"
   ]
  },
  {
   "cell_type": "code",
   "execution_count": 67,
   "id": "07788731",
   "metadata": {},
   "outputs": [],
   "source": [
    "X = np.random.random((15, 5, 4, 7, 9))"
   ]
  },
  {
   "cell_type": "code",
   "execution_count": 69,
   "id": "d0ed6ead",
   "metadata": {},
   "outputs": [
    {
     "data": {
      "text/plain": [
       "(15, 5, 4, 7, 9)"
      ]
     },
     "execution_count": 69,
     "metadata": {},
     "output_type": "execute_result"
    }
   ],
   "source": [
    "X.shape"
   ]
  },
  {
   "cell_type": "code",
   "execution_count": 70,
   "id": "3eb01813",
   "metadata": {},
   "outputs": [
    {
     "data": {
      "text/plain": [
       "5"
      ]
     },
     "execution_count": 70,
     "metadata": {},
     "output_type": "execute_result"
    }
   ],
   "source": [
    "X.ndim"
   ]
  },
  {
   "cell_type": "code",
   "execution_count": 72,
   "id": "bc5c62e3",
   "metadata": {},
   "outputs": [],
   "source": [
    "import math"
   ]
  },
  {
   "cell_type": "code",
   "execution_count": 77,
   "id": "58cb90d8",
   "metadata": {},
   "outputs": [],
   "source": [
    "l = [ [ [ 1, 2, 3] , [4,5,6], [7,8,9]], [ [ 1, 2, 3] , [4,5,6], [7,8,9]], [ [ 1, 2, 3] , [4,5,6], [7,8,9]] ]\n",
    "cos_l = []\n",
    "\n",
    "for matrice in l:\n",
    "    mat = []\n",
    "    for riga in matrice:\n",
    "        row = []\n",
    "        for col in riga:\n",
    "            row.append(math.cos(col))\n",
    "        cos_l.append(row)\n",
    "    cos_l.append(mat)"
   ]
  },
  {
   "cell_type": "code",
   "execution_count": 78,
   "id": "d585af5c",
   "metadata": {},
   "outputs": [
    {
     "data": {
      "text/plain": [
       "[[0.5403023058681398, -0.4161468365471424, -0.9899924966004454],\n",
       " [-0.6536436208636119, 0.2836621854632263, 0.9601702866503661],\n",
       " [0.7539022543433046, -0.14550003380861354, -0.9111302618846769],\n",
       " [],\n",
       " [0.5403023058681398, -0.4161468365471424, -0.9899924966004454],\n",
       " [-0.6536436208636119, 0.2836621854632263, 0.9601702866503661],\n",
       " [0.7539022543433046, -0.14550003380861354, -0.9111302618846769],\n",
       " [],\n",
       " [0.5403023058681398, -0.4161468365471424, -0.9899924966004454],\n",
       " [-0.6536436208636119, 0.2836621854632263, 0.9601702866503661],\n",
       " [0.7539022543433046, -0.14550003380861354, -0.9111302618846769],\n",
       " []]"
      ]
     },
     "execution_count": 78,
     "metadata": {},
     "output_type": "execute_result"
    }
   ],
   "source": [
    "cos_l"
   ]
  },
  {
   "cell_type": "code",
   "execution_count": 79,
   "id": "bdb63b37",
   "metadata": {},
   "outputs": [
    {
     "data": {
      "text/plain": [
       "[[[1, 2, 3], [4, 5, 6], [7, 8, 9]],\n",
       " [[1, 2, 3], [4, 5, 6], [7, 8, 9]],\n",
       " [[1, 2, 3], [4, 5, 6], [7, 8, 9]]]"
      ]
     },
     "execution_count": 79,
     "metadata": {},
     "output_type": "execute_result"
    }
   ],
   "source": [
    "l"
   ]
  },
  {
   "cell_type": "code",
   "execution_count": 80,
   "id": "cc41a2e2",
   "metadata": {},
   "outputs": [],
   "source": [
    "m = np.array(l)"
   ]
  },
  {
   "cell_type": "code",
   "execution_count": 82,
   "id": "adbffd65",
   "metadata": {},
   "outputs": [
    {
     "data": {
      "text/plain": [
       "(3, 3, 3)"
      ]
     },
     "execution_count": 82,
     "metadata": {},
     "output_type": "execute_result"
    }
   ],
   "source": [
    "m.shape"
   ]
  },
  {
   "cell_type": "code",
   "execution_count": 86,
   "id": "3176daa8",
   "metadata": {},
   "outputs": [
    {
     "data": {
      "text/plain": [
       "array([[[0.54030231, 0.41614684, 0.9899925 ],\n",
       "        [0.65364362, 0.28366219, 0.96017029],\n",
       "        [0.75390225, 0.14550003, 0.91113026]],\n",
       "\n",
       "       [[0.54030231, 0.41614684, 0.9899925 ],\n",
       "        [0.65364362, 0.28366219, 0.96017029],\n",
       "        [0.75390225, 0.14550003, 0.91113026]],\n",
       "\n",
       "       [[0.54030231, 0.41614684, 0.9899925 ],\n",
       "        [0.65364362, 0.28366219, 0.96017029],\n",
       "        [0.75390225, 0.14550003, 0.91113026]]])"
      ]
     },
     "execution_count": 86,
     "metadata": {},
     "output_type": "execute_result"
    }
   ],
   "source": [
    "np.abs(np.cos(m))"
   ]
  },
  {
   "cell_type": "code",
   "execution_count": 92,
   "id": "3757e152",
   "metadata": {},
   "outputs": [],
   "source": [
    "A = np.ones((4, 3), dtype=int)\n",
    "\n",
    "B = np.full((4, 3), 5.2)"
   ]
  },
  {
   "cell_type": "code",
   "execution_count": 93,
   "id": "07000a5c",
   "metadata": {},
   "outputs": [
    {
     "data": {
      "text/plain": [
       "array([[1, 1, 1],\n",
       "       [1, 1, 1],\n",
       "       [1, 1, 1],\n",
       "       [1, 1, 1]])"
      ]
     },
     "execution_count": 93,
     "metadata": {},
     "output_type": "execute_result"
    }
   ],
   "source": [
    "A\n"
   ]
  },
  {
   "cell_type": "code",
   "execution_count": 94,
   "id": "4464c514",
   "metadata": {},
   "outputs": [
    {
     "data": {
      "text/plain": [
       "array([[5.2, 5.2, 5.2],\n",
       "       [5.2, 5.2, 5.2],\n",
       "       [5.2, 5.2, 5.2],\n",
       "       [5.2, 5.2, 5.2]])"
      ]
     },
     "execution_count": 94,
     "metadata": {},
     "output_type": "execute_result"
    }
   ],
   "source": [
    "B"
   ]
  },
  {
   "cell_type": "code",
   "execution_count": 95,
   "id": "6dfa1bce",
   "metadata": {},
   "outputs": [
    {
     "data": {
      "text/plain": [
       "array([[6.2, 6.2, 6.2],\n",
       "       [6.2, 6.2, 6.2],\n",
       "       [6.2, 6.2, 6.2],\n",
       "       [6.2, 6.2, 6.2]])"
      ]
     },
     "execution_count": 95,
     "metadata": {},
     "output_type": "execute_result"
    }
   ],
   "source": [
    "A + B"
   ]
  },
  {
   "cell_type": "code",
   "execution_count": 91,
   "id": "ff376254",
   "metadata": {},
   "outputs": [
    {
     "data": {
      "text/plain": [
       "array([[-4.2, -4.2, -4.2],\n",
       "       [-4.2, -4.2, -4.2],\n",
       "       [-4.2, -4.2, -4.2],\n",
       "       [-4.2, -4.2, -4.2]])"
      ]
     },
     "execution_count": 91,
     "metadata": {},
     "output_type": "execute_result"
    }
   ],
   "source": [
    "A - B"
   ]
  },
  {
   "cell_type": "code",
   "execution_count": 99,
   "id": "34b49dcd",
   "metadata": {},
   "outputs": [
    {
     "data": {
      "text/plain": [
       "6.020675592954827e-05"
      ]
     },
     "execution_count": 99,
     "metadata": {},
     "output_type": "execute_result"
    }
   ],
   "source": [
    "np.min(X)"
   ]
  },
  {
   "cell_type": "code",
   "execution_count": 100,
   "id": "c50fead1",
   "metadata": {},
   "outputs": [
    {
     "data": {
      "text/plain": [
       "0.9999499262648744"
      ]
     },
     "execution_count": 100,
     "metadata": {},
     "output_type": "execute_result"
    }
   ],
   "source": [
    "np.max(X)"
   ]
  },
  {
   "cell_type": "code",
   "execution_count": 101,
   "id": "c4185dcb",
   "metadata": {},
   "outputs": [
    {
     "data": {
      "text/plain": [
       "0.4979559335281699"
      ]
     },
     "execution_count": 101,
     "metadata": {},
     "output_type": "execute_result"
    }
   ],
   "source": [
    "np.mean(X)"
   ]
  },
  {
   "cell_type": "code",
   "execution_count": 102,
   "id": "8dabd3f1",
   "metadata": {},
   "outputs": [
    {
     "data": {
      "text/plain": [
       "9411.367143682412"
      ]
     },
     "execution_count": 102,
     "metadata": {},
     "output_type": "execute_result"
    }
   ],
   "source": [
    "np.sum(X)"
   ]
  },
  {
   "cell_type": "code",
   "execution_count": 145,
   "id": "fe10614b",
   "metadata": {},
   "outputs": [],
   "source": [
    "from sklearn.datasets import load_iris"
   ]
  },
  {
   "cell_type": "code",
   "execution_count": 204,
   "id": "f3385c1d",
   "metadata": {},
   "outputs": [],
   "source": [
    "X, y = load_iris(return_X_y=True)"
   ]
  },
  {
   "cell_type": "code",
   "execution_count": 147,
   "id": "117499ca",
   "metadata": {},
   "outputs": [
    {
     "data": {
      "text/plain": [
       "numpy.ndarray"
      ]
     },
     "execution_count": 147,
     "metadata": {},
     "output_type": "execute_result"
    }
   ],
   "source": [
    "type(X)"
   ]
  },
  {
   "cell_type": "code",
   "execution_count": 148,
   "id": "282be2f2",
   "metadata": {},
   "outputs": [
    {
     "data": {
      "text/plain": [
       "(150, 4)"
      ]
     },
     "execution_count": 148,
     "metadata": {},
     "output_type": "execute_result"
    }
   ],
   "source": [
    "X.shape"
   ]
  },
  {
   "cell_type": "code",
   "execution_count": 149,
   "id": "c0437078",
   "metadata": {},
   "outputs": [
    {
     "data": {
      "text/plain": [
       "(array([5.84333333, 3.05733333, 3.758     , 1.19933333]),\n",
       " array([0.82530129, 0.43441097, 1.75940407, 0.75969263]))"
      ]
     },
     "execution_count": 149,
     "metadata": {},
     "output_type": "execute_result"
    }
   ],
   "source": [
    "np.mean(X, axis=0), np.std(X, axis=0)"
   ]
  },
  {
   "cell_type": "code",
   "execution_count": 150,
   "id": "8dd6b307",
   "metadata": {},
   "outputs": [
    {
     "data": {
      "text/plain": [
       "(array([5.84333333, 3.05733333, 3.758     , 1.19933333]),\n",
       " array([0.82530129, 0.43441097, 1.75940407, 0.75969263]))"
      ]
     },
     "execution_count": 150,
     "metadata": {},
     "output_type": "execute_result"
    }
   ],
   "source": [
    "X.mean(axis=0), X.std(axis=0)"
   ]
  },
  {
   "cell_type": "code",
   "execution_count": 113,
   "id": "232ba49b",
   "metadata": {},
   "outputs": [],
   "source": [
    "X = np.random.random((5, 4, 9, 2))"
   ]
  },
  {
   "cell_type": "code",
   "execution_count": 115,
   "id": "1eb4a931",
   "metadata": {},
   "outputs": [
    {
     "data": {
      "text/plain": [
       "(5, 4, 9, 2)"
      ]
     },
     "execution_count": 115,
     "metadata": {},
     "output_type": "execute_result"
    }
   ],
   "source": [
    "X.shape"
   ]
  },
  {
   "cell_type": "code",
   "execution_count": 117,
   "id": "b77f2506",
   "metadata": {},
   "outputs": [
    {
     "data": {
      "text/plain": [
       "(5, 4)"
      ]
     },
     "execution_count": 117,
     "metadata": {},
     "output_type": "execute_result"
    }
   ],
   "source": [
    "X.sum(axis=2).mean(axis=2).shape"
   ]
  },
  {
   "cell_type": "code",
   "execution_count": 122,
   "id": "c6ac0882",
   "metadata": {},
   "outputs": [],
   "source": [
    "X = np.random.random(10,)"
   ]
  },
  {
   "cell_type": "code",
   "execution_count": 124,
   "id": "fe930294",
   "metadata": {},
   "outputs": [],
   "source": [
    "X = np.random.random((5, 3))\n"
   ]
  },
  {
   "cell_type": "code",
   "execution_count": 126,
   "id": "98a41ffb",
   "metadata": {},
   "outputs": [
    {
     "data": {
      "text/plain": [
       "array([[0.72130993, 0.61196514, 0.69705156],\n",
       "       [0.00963223, 0.74840227, 0.06390394],\n",
       "       [0.05515045, 0.5700574 , 0.46213293],\n",
       "       [0.36391905, 0.33100197, 0.65288236],\n",
       "       [0.02212851, 0.30145759, 0.8886354 ]])"
      ]
     },
     "execution_count": 126,
     "metadata": {},
     "output_type": "execute_result"
    }
   ],
   "source": [
    "X"
   ]
  },
  {
   "cell_type": "code",
   "execution_count": 125,
   "id": "6be7bbf8",
   "metadata": {},
   "outputs": [
    {
     "data": {
      "text/plain": [
       "array([[0.61196514, 0.69705156, 0.72130993],\n",
       "       [0.00963223, 0.06390394, 0.74840227],\n",
       "       [0.05515045, 0.46213293, 0.5700574 ],\n",
       "       [0.33100197, 0.36391905, 0.65288236],\n",
       "       [0.02212851, 0.30145759, 0.8886354 ]])"
      ]
     },
     "execution_count": 125,
     "metadata": {},
     "output_type": "execute_result"
    }
   ],
   "source": [
    "np.sort(X)"
   ]
  },
  {
   "cell_type": "code",
   "execution_count": 127,
   "id": "584b8993",
   "metadata": {},
   "outputs": [
    {
     "data": {
      "text/plain": [
       "array([[0.00963223, 0.30145759, 0.06390394],\n",
       "       [0.02212851, 0.33100197, 0.46213293],\n",
       "       [0.05515045, 0.5700574 , 0.65288236],\n",
       "       [0.36391905, 0.61196514, 0.69705156],\n",
       "       [0.72130993, 0.74840227, 0.8886354 ]])"
      ]
     },
     "execution_count": 127,
     "metadata": {},
     "output_type": "execute_result"
    }
   ],
   "source": [
    "np.sort(X, axis=0)"
   ]
  },
  {
   "cell_type": "code",
   "execution_count": 128,
   "id": "345ef1bf",
   "metadata": {},
   "outputs": [
    {
     "data": {
      "text/plain": [
       "array([0.34127781, 0.95830671, 0.66882196, 0.4205779 , 0.77434059])"
      ]
     },
     "execution_count": 128,
     "metadata": {},
     "output_type": "execute_result"
    }
   ],
   "source": [
    "A = np.random.random((5, 4))\n",
    "b = np.random.random(4)\n",
    "\n",
    "np.dot(A, b)"
   ]
  },
  {
   "cell_type": "code",
   "execution_count": 129,
   "id": "092a1629",
   "metadata": {},
   "outputs": [
    {
     "data": {
      "text/plain": [
       "2.094084440017967"
      ]
     },
     "execution_count": 129,
     "metadata": {},
     "output_type": "execute_result"
    }
   ],
   "source": [
    "a = np.random.random(4)\n",
    "b = np.random.random(4)\n",
    "\n",
    "np.dot(a, b)"
   ]
  },
  {
   "cell_type": "code",
   "execution_count": 131,
   "id": "2ba9cde6",
   "metadata": {},
   "outputs": [
    {
     "data": {
      "text/plain": [
       "(array([0.99014005, 0.92205101, 0.447086  , 0.1309476 ]),\n",
       " array([0.93642169, 0.82854355, 0.73206615, 0.57763472]))"
      ]
     },
     "execution_count": 131,
     "metadata": {},
     "output_type": "execute_result"
    }
   ],
   "source": [
    "a, b"
   ]
  },
  {
   "cell_type": "code",
   "execution_count": 133,
   "id": "6ee0a3f0",
   "metadata": {},
   "outputs": [
    {
     "data": {
      "text/plain": [
       "(5, 10)"
      ]
     },
     "execution_count": 133,
     "metadata": {},
     "output_type": "execute_result"
    }
   ],
   "source": [
    "A = np.random.random((5, 4))\n",
    "B = np.random.random((4, 10))\n",
    "\n",
    "np.dot(A, B).shape"
   ]
  },
  {
   "cell_type": "code",
   "execution_count": 141,
   "id": "d1c523f1",
   "metadata": {},
   "outputs": [],
   "source": [
    "X = np.array([[1,2],[3,4]])\n",
    "y = np.array([1,2,3])"
   ]
  },
  {
   "cell_type": "code",
   "execution_count": 142,
   "id": "a4430f56",
   "metadata": {},
   "outputs": [
    {
     "ename": "ValueError",
     "evalue": "operands could not be broadcast together with shapes (2,2) (3,) ",
     "output_type": "error",
     "traceback": [
      "\u001b[0;31m---------------------------------------------------------------------------\u001b[0m",
      "\u001b[0;31mValueError\u001b[0m                                Traceback (most recent call last)",
      "Input \u001b[0;32mIn [142]\u001b[0m, in \u001b[0;36m<cell line: 1>\u001b[0;34m()\u001b[0m\n\u001b[0;32m----> 1\u001b[0m \u001b[43mX\u001b[49m\u001b[43m \u001b[49m\u001b[38;5;241;43m+\u001b[39;49m\u001b[43m \u001b[49m\u001b[43my\u001b[49m\n",
      "\u001b[0;31mValueError\u001b[0m: operands could not be broadcast together with shapes (2,2) (3,) "
     ]
    }
   ],
   "source": [
    "X + y"
   ]
  },
  {
   "cell_type": "code",
   "execution_count": 144,
   "id": "6902b0b2",
   "metadata": {},
   "outputs": [
    {
     "data": {
      "text/plain": [
       "array([[1, 2],\n",
       "       [3, 4]])"
      ]
     },
     "execution_count": 144,
     "metadata": {},
     "output_type": "execute_result"
    }
   ],
   "source": [
    "X"
   ]
  },
  {
   "cell_type": "code",
   "execution_count": 152,
   "id": "e7ed9799",
   "metadata": {},
   "outputs": [
    {
     "data": {
      "text/plain": [
       "(150, 4)"
      ]
     },
     "execution_count": 152,
     "metadata": {},
     "output_type": "execute_result"
    }
   ],
   "source": [
    "X.shape"
   ]
  },
  {
   "cell_type": "code",
   "execution_count": 155,
   "id": "d69b3ae1",
   "metadata": {},
   "outputs": [],
   "source": [
    "means = X.mean(axis=0)\n",
    "stds = X.std(axis=0)"
   ]
  },
  {
   "cell_type": "code",
   "execution_count": 160,
   "id": "7eccf556",
   "metadata": {},
   "outputs": [],
   "source": [
    "X_std = (X - means) / stds"
   ]
  },
  {
   "cell_type": "code",
   "execution_count": 162,
   "id": "44bb55f6",
   "metadata": {},
   "outputs": [
    {
     "data": {
      "text/plain": [
       "(150, 4)"
      ]
     },
     "execution_count": 162,
     "metadata": {},
     "output_type": "execute_result"
    }
   ],
   "source": [
    "X_std.shape"
   ]
  },
  {
   "cell_type": "code",
   "execution_count": 164,
   "id": "86579e96",
   "metadata": {},
   "outputs": [
    {
     "data": {
      "text/plain": [
       "array([1., 1., 1., 1.])"
      ]
     },
     "execution_count": 164,
     "metadata": {},
     "output_type": "execute_result"
    }
   ],
   "source": [
    "X_std.std(axis=0)"
   ]
  },
  {
   "cell_type": "code",
   "execution_count": 167,
   "id": "346819dc",
   "metadata": {},
   "outputs": [],
   "source": [
    "X_std_wrong = (X - X.mean()) / X.std()"
   ]
  },
  {
   "cell_type": "code",
   "execution_count": 168,
   "id": "cbaf6c0b",
   "metadata": {},
   "outputs": [
    {
     "data": {
      "text/plain": [
       "array([ 1.20517856, -0.20628118,  0.1486947 , -1.14759208])"
      ]
     },
     "execution_count": 168,
     "metadata": {},
     "output_type": "execute_result"
    }
   ],
   "source": [
    "X_std_wrong.mean(axis=0)"
   ]
  },
  {
   "cell_type": "code",
   "execution_count": 169,
   "id": "f552f42d",
   "metadata": {},
   "outputs": [
    {
     "data": {
      "text/plain": [
       "array([0.418119  , 0.22008384, 0.89135965, 0.38487996])"
      ]
     },
     "execution_count": 169,
     "metadata": {},
     "output_type": "execute_result"
    }
   ],
   "source": [
    "X_std_wrong.std(axis=0)"
   ]
  },
  {
   "cell_type": "code",
   "execution_count": 170,
   "id": "5a92649d",
   "metadata": {},
   "outputs": [
    {
     "data": {
      "text/plain": [
       "1.1842378929335003e-16"
      ]
     },
     "execution_count": 170,
     "metadata": {},
     "output_type": "execute_result"
    }
   ],
   "source": [
    "X_std_wrong.mean()"
   ]
  },
  {
   "cell_type": "code",
   "execution_count": 171,
   "id": "c3719caa",
   "metadata": {},
   "outputs": [
    {
     "data": {
      "text/plain": [
       "1.0"
      ]
     },
     "execution_count": 171,
     "metadata": {},
     "output_type": "execute_result"
    }
   ],
   "source": [
    "X_std_wrong.std()"
   ]
  },
  {
   "cell_type": "code",
   "execution_count": 183,
   "id": "5f818c87",
   "metadata": {},
   "outputs": [],
   "source": [
    "X = np.random.random((8, 5))"
   ]
  },
  {
   "cell_type": "code",
   "execution_count": 184,
   "id": "a6ede937",
   "metadata": {},
   "outputs": [
    {
     "data": {
      "text/plain": [
       "array([[0.14038744, 0.09434182, 0.61885725, 0.26978383, 0.49632974],\n",
       "       [0.03998129, 0.72023483, 0.506415  , 0.85657587, 0.77549651],\n",
       "       [0.2552465 , 0.06658223, 0.56049441, 0.78811605, 0.99242904],\n",
       "       [0.9804003 , 0.94563883, 0.93624967, 0.53092866, 0.67525212],\n",
       "       [0.81261695, 0.12755052, 0.60381797, 0.44645387, 0.17242829],\n",
       "       [0.23549281, 0.65685297, 0.38079466, 0.62107514, 0.42888546],\n",
       "       [0.46358471, 0.63455489, 0.08010474, 0.15514   , 0.33131981],\n",
       "       [0.84127359, 0.95406753, 0.08598669, 0.68372323, 0.4239196 ]])"
      ]
     },
     "execution_count": 184,
     "metadata": {},
     "output_type": "execute_result"
    }
   ],
   "source": [
    "X"
   ]
  },
  {
   "cell_type": "code",
   "execution_count": 189,
   "id": "d9f6b3d5",
   "metadata": {},
   "outputs": [
    {
     "data": {
      "text/plain": [
       "array([[0.506415  , 0.85657587],\n",
       "       [0.56049441, 0.78811605]])"
      ]
     },
     "execution_count": 189,
     "metadata": {},
     "output_type": "execute_result"
    }
   ],
   "source": [
    "X[1:3, 2:4]"
   ]
  },
  {
   "cell_type": "code",
   "execution_count": 190,
   "id": "dc4fd510",
   "metadata": {},
   "outputs": [
    {
     "data": {
      "text/plain": [
       "array([0.23549281, 0.65685297, 0.38079466, 0.62107514, 0.42888546])"
      ]
     },
     "execution_count": 190,
     "metadata": {},
     "output_type": "execute_result"
    }
   ],
   "source": [
    "X[5]"
   ]
  },
  {
   "cell_type": "code",
   "execution_count": 192,
   "id": "6392f3b5",
   "metadata": {},
   "outputs": [
    {
     "data": {
      "text/plain": [
       "array([0.09434182, 0.72023483, 0.06658223, 0.94563883, 0.12755052,\n",
       "       0.65685297, 0.63455489, 0.95406753])"
      ]
     },
     "execution_count": 192,
     "metadata": {},
     "output_type": "execute_result"
    }
   ],
   "source": [
    "X[:, 1]"
   ]
  },
  {
   "cell_type": "code",
   "execution_count": 193,
   "id": "5d218b24",
   "metadata": {},
   "outputs": [],
   "source": [
    "X = np.array([\n",
    "    [1,2],\n",
    "    [3,4]\n",
    "])"
   ]
  },
  {
   "cell_type": "code",
   "execution_count": 194,
   "id": "6160df79",
   "metadata": {},
   "outputs": [
    {
     "data": {
      "text/plain": [
       "array([[1, 2],\n",
       "       [3, 4]])"
      ]
     },
     "execution_count": 194,
     "metadata": {},
     "output_type": "execute_result"
    }
   ],
   "source": [
    "X"
   ]
  },
  {
   "cell_type": "code",
   "execution_count": 195,
   "id": "a26690fe",
   "metadata": {},
   "outputs": [],
   "source": [
    "mask = np.array([\n",
    "    [True, False],\n",
    "    [False, True]\n",
    "])"
   ]
  },
  {
   "cell_type": "code",
   "execution_count": 196,
   "id": "2a9cb2ad",
   "metadata": {},
   "outputs": [
    {
     "data": {
      "text/plain": [
       "array([1, 4])"
      ]
     },
     "execution_count": 196,
     "metadata": {},
     "output_type": "execute_result"
    }
   ],
   "source": [
    "X[mask]"
   ]
  },
  {
   "cell_type": "code",
   "execution_count": 197,
   "id": "ae389051",
   "metadata": {},
   "outputs": [],
   "source": [
    "X = np.random.random((200, 10))"
   ]
  },
  {
   "cell_type": "code",
   "execution_count": 200,
   "id": "e4a1c8f3",
   "metadata": {},
   "outputs": [],
   "source": [
    "mask = X > 0.5"
   ]
  },
  {
   "cell_type": "code",
   "execution_count": 203,
   "id": "0c23b7b5",
   "metadata": {},
   "outputs": [
    {
     "data": {
      "text/plain": [
       "array([0.8641452 , 0.82375083, 0.78594274, ..., 0.99851383, 0.55956172,\n",
       "       0.61428254])"
      ]
     },
     "execution_count": 203,
     "metadata": {},
     "output_type": "execute_result"
    }
   ],
   "source": [
    "X[X > X.mean(axis=0)]"
   ]
  },
  {
   "cell_type": "code",
   "execution_count": 208,
   "id": "b41afba7",
   "metadata": {},
   "outputs": [
    {
     "data": {
      "text/plain": [
       "array([[5.1, 3.5, 1.4, 0.2],\n",
       "       [4.9, 3. , 1.4, 0.2],\n",
       "       [4.7, 3.2, 1.3, 0.2],\n",
       "       [4.6, 3.1, 1.5, 0.2],\n",
       "       [5. , 3.6, 1.4, 0.2],\n",
       "       [5.4, 3.9, 1.7, 0.4],\n",
       "       [4.6, 3.4, 1.4, 0.3],\n",
       "       [5. , 3.4, 1.5, 0.2],\n",
       "       [4.4, 2.9, 1.4, 0.2],\n",
       "       [4.9, 3.1, 1.5, 0.1],\n",
       "       [5.4, 3.7, 1.5, 0.2],\n",
       "       [4.8, 3.4, 1.6, 0.2],\n",
       "       [4.8, 3. , 1.4, 0.1],\n",
       "       [4.3, 3. , 1.1, 0.1],\n",
       "       [5.8, 4. , 1.2, 0.2],\n",
       "       [5.7, 4.4, 1.5, 0.4],\n",
       "       [5.4, 3.9, 1.3, 0.4],\n",
       "       [5.1, 3.5, 1.4, 0.3],\n",
       "       [5.7, 3.8, 1.7, 0.3],\n",
       "       [5.1, 3.8, 1.5, 0.3],\n",
       "       [5.4, 3.4, 1.7, 0.2],\n",
       "       [5.1, 3.7, 1.5, 0.4],\n",
       "       [4.6, 3.6, 1. , 0.2],\n",
       "       [5.1, 3.3, 1.7, 0.5],\n",
       "       [4.8, 3.4, 1.9, 0.2],\n",
       "       [5. , 3. , 1.6, 0.2],\n",
       "       [5. , 3.4, 1.6, 0.4],\n",
       "       [5.2, 3.5, 1.5, 0.2],\n",
       "       [5.2, 3.4, 1.4, 0.2],\n",
       "       [4.7, 3.2, 1.6, 0.2],\n",
       "       [4.8, 3.1, 1.6, 0.2],\n",
       "       [5.4, 3.4, 1.5, 0.4],\n",
       "       [5.2, 4.1, 1.5, 0.1],\n",
       "       [5.5, 4.2, 1.4, 0.2],\n",
       "       [4.9, 3.1, 1.5, 0.2],\n",
       "       [5. , 3.2, 1.2, 0.2],\n",
       "       [5.5, 3.5, 1.3, 0.2],\n",
       "       [4.9, 3.6, 1.4, 0.1],\n",
       "       [4.4, 3. , 1.3, 0.2],\n",
       "       [5.1, 3.4, 1.5, 0.2],\n",
       "       [5. , 3.5, 1.3, 0.3],\n",
       "       [4.5, 2.3, 1.3, 0.3],\n",
       "       [4.4, 3.2, 1.3, 0.2],\n",
       "       [5. , 3.5, 1.6, 0.6],\n",
       "       [5.1, 3.8, 1.9, 0.4],\n",
       "       [4.8, 3. , 1.4, 0.3],\n",
       "       [5.1, 3.8, 1.6, 0.2],\n",
       "       [4.6, 3.2, 1.4, 0.2],\n",
       "       [5.3, 3.7, 1.5, 0.2],\n",
       "       [5. , 3.3, 1.4, 0.2],\n",
       "       [7. , 3.2, 4.7, 1.4],\n",
       "       [6.4, 3.2, 4.5, 1.5],\n",
       "       [6.9, 3.1, 4.9, 1.5],\n",
       "       [5.5, 2.3, 4. , 1.3],\n",
       "       [6.5, 2.8, 4.6, 1.5],\n",
       "       [5.7, 2.8, 4.5, 1.3],\n",
       "       [6.3, 3.3, 4.7, 1.6],\n",
       "       [4.9, 2.4, 3.3, 1. ],\n",
       "       [6.6, 2.9, 4.6, 1.3],\n",
       "       [5.2, 2.7, 3.9, 1.4],\n",
       "       [5. , 2. , 3.5, 1. ],\n",
       "       [5.9, 3. , 4.2, 1.5],\n",
       "       [6. , 2.2, 4. , 1. ],\n",
       "       [6.1, 2.9, 4.7, 1.4],\n",
       "       [5.6, 2.9, 3.6, 1.3],\n",
       "       [6.7, 3.1, 4.4, 1.4],\n",
       "       [5.6, 3. , 4.5, 1.5],\n",
       "       [5.8, 2.7, 4.1, 1. ],\n",
       "       [6.2, 2.2, 4.5, 1.5],\n",
       "       [5.6, 2.5, 3.9, 1.1],\n",
       "       [5.9, 3.2, 4.8, 1.8],\n",
       "       [6.1, 2.8, 4. , 1.3],\n",
       "       [6.3, 2.5, 4.9, 1.5],\n",
       "       [6.1, 2.8, 4.7, 1.2],\n",
       "       [6.4, 2.9, 4.3, 1.3],\n",
       "       [6.6, 3. , 4.4, 1.4],\n",
       "       [6.8, 2.8, 4.8, 1.4],\n",
       "       [6.7, 3. , 5. , 1.7],\n",
       "       [6. , 2.9, 4.5, 1.5],\n",
       "       [5.7, 2.6, 3.5, 1. ],\n",
       "       [5.5, 2.4, 3.8, 1.1],\n",
       "       [5.5, 2.4, 3.7, 1. ],\n",
       "       [5.8, 2.7, 3.9, 1.2],\n",
       "       [6. , 2.7, 5.1, 1.6],\n",
       "       [5.4, 3. , 4.5, 1.5],\n",
       "       [6. , 3.4, 4.5, 1.6],\n",
       "       [6.7, 3.1, 4.7, 1.5],\n",
       "       [6.3, 2.3, 4.4, 1.3],\n",
       "       [5.6, 3. , 4.1, 1.3],\n",
       "       [5.5, 2.5, 4. , 1.3],\n",
       "       [5.5, 2.6, 4.4, 1.2],\n",
       "       [6.1, 3. , 4.6, 1.4],\n",
       "       [5.8, 2.6, 4. , 1.2],\n",
       "       [5. , 2.3, 3.3, 1. ],\n",
       "       [5.6, 2.7, 4.2, 1.3],\n",
       "       [5.7, 3. , 4.2, 1.2],\n",
       "       [5.7, 2.9, 4.2, 1.3],\n",
       "       [6.2, 2.9, 4.3, 1.3],\n",
       "       [5.1, 2.5, 3. , 1.1],\n",
       "       [5.7, 2.8, 4.1, 1.3],\n",
       "       [6.3, 3.3, 6. , 2.5],\n",
       "       [5.8, 2.7, 5.1, 1.9],\n",
       "       [7.1, 3. , 5.9, 2.1],\n",
       "       [6.3, 2.9, 5.6, 1.8],\n",
       "       [6.5, 3. , 5.8, 2.2],\n",
       "       [7.6, 3. , 6.6, 2.1],\n",
       "       [4.9, 2.5, 4.5, 1.7],\n",
       "       [7.3, 2.9, 6.3, 1.8],\n",
       "       [6.7, 2.5, 5.8, 1.8],\n",
       "       [7.2, 3.6, 6.1, 2.5],\n",
       "       [6.5, 3.2, 5.1, 2. ],\n",
       "       [6.4, 2.7, 5.3, 1.9],\n",
       "       [6.8, 3. , 5.5, 2.1],\n",
       "       [5.7, 2.5, 5. , 2. ],\n",
       "       [5.8, 2.8, 5.1, 2.4],\n",
       "       [6.4, 3.2, 5.3, 2.3],\n",
       "       [6.5, 3. , 5.5, 1.8],\n",
       "       [7.7, 3.8, 6.7, 2.2],\n",
       "       [7.7, 2.6, 6.9, 2.3],\n",
       "       [6. , 2.2, 5. , 1.5],\n",
       "       [6.9, 3.2, 5.7, 2.3],\n",
       "       [5.6, 2.8, 4.9, 2. ],\n",
       "       [7.7, 2.8, 6.7, 2. ],\n",
       "       [6.3, 2.7, 4.9, 1.8],\n",
       "       [6.7, 3.3, 5.7, 2.1],\n",
       "       [7.2, 3.2, 6. , 1.8],\n",
       "       [6.2, 2.8, 4.8, 1.8],\n",
       "       [6.1, 3. , 4.9, 1.8],\n",
       "       [6.4, 2.8, 5.6, 2.1],\n",
       "       [7.2, 3. , 5.8, 1.6],\n",
       "       [7.4, 2.8, 6.1, 1.9],\n",
       "       [7.9, 3.8, 6.4, 2. ],\n",
       "       [6.4, 2.8, 5.6, 2.2],\n",
       "       [6.3, 2.8, 5.1, 1.5],\n",
       "       [6.1, 2.6, 5.6, 1.4],\n",
       "       [7.7, 3. , 6.1, 2.3],\n",
       "       [6.3, 3.4, 5.6, 2.4],\n",
       "       [6.4, 3.1, 5.5, 1.8],\n",
       "       [6. , 3. , 4.8, 1.8],\n",
       "       [6.9, 3.1, 5.4, 2.1],\n",
       "       [6.7, 3.1, 5.6, 2.4],\n",
       "       [6.9, 3.1, 5.1, 2.3],\n",
       "       [5.8, 2.7, 5.1, 1.9],\n",
       "       [6.8, 3.2, 5.9, 2.3],\n",
       "       [6.7, 3.3, 5.7, 2.5],\n",
       "       [6.7, 3. , 5.2, 2.3],\n",
       "       [6.3, 2.5, 5. , 1.9],\n",
       "       [6.5, 3. , 5.2, 2. ],\n",
       "       [6.2, 3.4, 5.4, 2.3],\n",
       "       [5.9, 3. , 5.1, 1.8]])"
      ]
     },
     "execution_count": 208,
     "metadata": {},
     "output_type": "execute_result"
    }
   ],
   "source": [
    "X"
   ]
  },
  {
   "cell_type": "code",
   "execution_count": 215,
   "id": "d248910a",
   "metadata": {},
   "outputs": [
    {
     "data": {
      "text/plain": [
       "array([6.588, 2.974, 5.552, 2.026])"
      ]
     },
     "execution_count": 215,
     "metadata": {},
     "output_type": "execute_result"
    }
   ],
   "source": [
    "X[y==2].mean(axis=0)"
   ]
  }
 ],
 "metadata": {
  "kernelspec": {
   "display_name": "Python 3 (ipykernel)",
   "language": "python",
   "name": "python3"
  },
  "language_info": {
   "codemirror_mode": {
    "name": "ipython",
    "version": 3
   },
   "file_extension": ".py",
   "mimetype": "text/x-python",
   "name": "python",
   "nbconvert_exporter": "python",
   "pygments_lexer": "ipython3",
   "version": "3.9.10"
  }
 },
 "nbformat": 4,
 "nbformat_minor": 5
}
