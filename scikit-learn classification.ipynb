{
 "cells": [
  {
   "cell_type": "code",
   "execution_count": 69,
   "id": "0c7117b7",
   "metadata": {},
   "outputs": [],
   "source": [
    "from sklearn.preprocessing import MinMaxScaler"
   ]
  },
  {
   "cell_type": "code",
   "execution_count": 70,
   "id": "5492076b",
   "metadata": {},
   "outputs": [],
   "source": [
    "import numpy as np"
   ]
  },
  {
   "cell_type": "code",
   "execution_count": 71,
   "id": "5bb55574",
   "metadata": {},
   "outputs": [],
   "source": [
    "X = np.random.random((150, 4))"
   ]
  },
  {
   "cell_type": "code",
   "execution_count": 72,
   "id": "151435a3",
   "metadata": {},
   "outputs": [],
   "source": [
    "mm = MinMaxScaler() # crea un oggetto di classe MinMaxScaler"
   ]
  },
  {
   "cell_type": "code",
   "execution_count": 73,
   "id": "33bd32fa",
   "metadata": {},
   "outputs": [
    {
     "data": {
      "text/plain": [
       "array([[0.33258856, 0.32025862, 0.95246052, 0.70989592],\n",
       "       [0.94801754, 0.36990691, 0.56296142, 0.25989774],\n",
       "       [0.31040091, 0.38137147, 0.68836358, 0.24071729],\n",
       "       [0.2895084 , 0.46227704, 0.38036663, 0.99078475],\n",
       "       [0.69954132, 0.53302965, 0.12948051, 0.9331258 ],\n",
       "       [0.32812748, 0.54883513, 0.56930253, 0.09704821],\n",
       "       [0.12044121, 0.69805739, 0.25559809, 0.80688406],\n",
       "       [0.68974046, 0.64317452, 0.61975509, 0.07949448],\n",
       "       [0.88970813, 0.63106931, 0.33438557, 0.39423244],\n",
       "       [0.1467584 , 0.67622578, 0.70524239, 0.20239926],\n",
       "       [0.54518297, 0.11225446, 0.36874664, 0.76981952],\n",
       "       [0.1380464 , 0.16640666, 0.12971802, 0.94488871],\n",
       "       [0.97445707, 0.07230818, 0.44223922, 0.0149185 ],\n",
       "       [0.50193549, 0.4115316 , 0.93997504, 0.34414989],\n",
       "       [0.36467921, 0.96699175, 0.03716111, 0.89573493],\n",
       "       [0.49952774, 0.92657475, 0.9480397 , 0.03322267],\n",
       "       [0.21777235, 0.14851477, 0.06105744, 0.88956318],\n",
       "       [0.84156833, 0.02001073, 0.29183386, 0.15919059],\n",
       "       [0.91140145, 0.37975307, 0.37166895, 0.24459567],\n",
       "       [0.98484034, 0.35242691, 0.46753686, 0.79535414],\n",
       "       [0.63182886, 0.04464091, 0.13233798, 0.56289556],\n",
       "       [0.27018597, 0.25528332, 0.69924987, 0.41033632],\n",
       "       [0.05288135, 0.06212732, 0.99835969, 0.26630063],\n",
       "       [0.16665608, 0.87446655, 0.79833065, 0.60944974],\n",
       "       [0.98702781, 0.48148207, 0.36224997, 0.55682771],\n",
       "       [0.87035145, 0.94252468, 0.09866664, 0.46977103],\n",
       "       [0.74839119, 0.52242741, 0.83467901, 0.27742326],\n",
       "       [0.12309296, 0.16740193, 0.49963925, 0.2849116 ],\n",
       "       [0.39715484, 0.07541175, 0.52224722, 0.35757783],\n",
       "       [0.30977047, 0.38903506, 0.46499207, 0.12773764],\n",
       "       [0.39612388, 0.6173914 , 0.03645488, 0.58228077],\n",
       "       [0.69018677, 0.92236014, 0.16057325, 0.68323721],\n",
       "       [0.95675714, 0.4540075 , 0.63780382, 0.63406133],\n",
       "       [0.7145409 , 0.13190215, 0.45438663, 0.21099125],\n",
       "       [0.36032931, 0.43211908, 0.68084016, 0.41399764],\n",
       "       [0.67690132, 0.92791313, 0.47016798, 0.18073138],\n",
       "       [0.4434722 , 0.56999808, 0.78213573, 0.65585424],\n",
       "       [0.79397783, 0.49504859, 0.48261004, 0.51599048],\n",
       "       [0.74339738, 0.50533442, 0.71378262, 0.25536255],\n",
       "       [0.9830419 , 0.68201049, 0.73427595, 0.20181162],\n",
       "       [0.32303066, 0.26050678, 0.78739215, 0.67244026],\n",
       "       [0.81347192, 0.50249484, 0.88256074, 0.35582521],\n",
       "       [0.29059292, 0.4154374 , 0.16656744, 0.57274806],\n",
       "       [0.9055752 , 0.42790411, 0.92393761, 0.4157269 ],\n",
       "       [0.53594232, 0.05205846, 0.62505545, 0.62771972],\n",
       "       [0.18258117, 0.64139158, 0.17533988, 0.30440469],\n",
       "       [0.6243538 , 0.12694635, 0.6411522 , 0.79533182],\n",
       "       [0.69309257, 0.14031065, 0.82578329, 0.33270679],\n",
       "       [0.99719659, 0.52036511, 0.21735437, 0.84106005],\n",
       "       [0.4176221 , 0.97334141, 0.02603257, 0.17693007],\n",
       "       [0.42826042, 0.7626144 , 0.11005028, 0.22957348],\n",
       "       [0.03289781, 0.10581479, 0.58121924, 0.38950558],\n",
       "       [0.88139899, 0.76341837, 0.17773084, 0.66085555],\n",
       "       [0.21971035, 0.85926546, 0.17898888, 0.74159541],\n",
       "       [0.03003272, 0.86020139, 0.65768983, 0.9018685 ],\n",
       "       [0.40079514, 0.68842015, 0.50949412, 0.55553109],\n",
       "       [0.53506655, 0.72049842, 0.99813922, 0.54545596],\n",
       "       [0.38610918, 0.19891371, 0.07177996, 0.64316294],\n",
       "       [0.20503469, 0.9889571 , 0.05777672, 0.45899047],\n",
       "       [0.75319181, 0.1477285 , 0.82802112, 0.9447791 ],\n",
       "       [0.41319384, 0.28649146, 0.49747399, 0.40550823],\n",
       "       [0.59877722, 0.79711889, 0.85028881, 0.11847444],\n",
       "       [0.71022148, 0.48478887, 0.08713934, 0.98755613],\n",
       "       [0.28010937, 0.73195673, 0.13443005, 0.90466961],\n",
       "       [0.45148344, 0.28764102, 0.04391576, 0.28918696],\n",
       "       [0.79660885, 0.50295877, 0.10728803, 0.75581621],\n",
       "       [0.58688777, 0.39603916, 0.10335715, 0.51836457],\n",
       "       [0.93674299, 0.92754727, 0.31053954, 0.90701666],\n",
       "       [0.883823  , 0.80643915, 0.80384893, 0.09936733],\n",
       "       [0.29908871, 0.86893026, 0.28427846, 0.94092498],\n",
       "       [0.9337052 , 0.16147059, 0.66331576, 0.19941631],\n",
       "       [0.90676051, 0.60649621, 0.1485936 , 0.17421184],\n",
       "       [0.17432671, 0.69374032, 0.74689197, 0.1524206 ],\n",
       "       [0.74382798, 0.240685  , 0.18789613, 0.35291417],\n",
       "       [0.47661124, 0.46698608, 0.21092261, 0.01387622],\n",
       "       [0.65227944, 0.33282386, 0.898045  , 0.38112481],\n",
       "       [0.95215471, 0.66065389, 0.82416967, 0.38807786],\n",
       "       [0.37432184, 0.996272  , 0.23567605, 0.92571363],\n",
       "       [0.64997728, 0.56608253, 0.29992916, 0.05170399],\n",
       "       [0.26586975, 0.20413345, 0.99631138, 0.32688775],\n",
       "       [0.27723887, 0.2290103 , 0.34515087, 0.01680621],\n",
       "       [0.29397298, 0.59530833, 0.19929892, 0.76588315],\n",
       "       [0.52554761, 0.99161204, 0.96870971, 0.87094502],\n",
       "       [0.75454349, 0.12433924, 0.98437071, 0.80925145],\n",
       "       [1.        , 0.00440137, 0.83991091, 0.42804398],\n",
       "       [0.52644109, 0.3109551 , 0.61112286, 0.80702425],\n",
       "       [0.02238243, 0.        , 0.56107042, 0.1781682 ],\n",
       "       [0.25635186, 0.90809844, 0.13308433, 0.45063379],\n",
       "       [0.86583537, 0.48005202, 0.75038415, 0.45902082],\n",
       "       [0.83663362, 0.88100211, 0.92357134, 0.11121827],\n",
       "       [0.07901072, 0.36746181, 0.11594092, 0.91507201],\n",
       "       [0.37417652, 0.98330366, 0.56569257, 0.85653643],\n",
       "       [0.74199079, 0.90724899, 0.50236735, 0.28968098],\n",
       "       [0.12776295, 0.48694026, 0.03983902, 0.08610353],\n",
       "       [0.02464504, 0.13850428, 0.58450354, 0.1201335 ],\n",
       "       [0.96140232, 0.5074932 , 0.92854174, 0.81635112],\n",
       "       [0.88043579, 0.45600174, 0.18944034, 0.56424607],\n",
       "       [0.6191096 , 0.43073679, 0.70014233, 0.74269207],\n",
       "       [0.76537519, 0.29424517, 0.11747002, 0.09821193],\n",
       "       [0.61771312, 0.63985629, 0.69427756, 0.96555824],\n",
       "       [0.24284382, 0.7777586 , 0.3583651 , 0.28993597],\n",
       "       [0.94276726, 0.65514909, 0.87408202, 0.75880185],\n",
       "       [0.        , 0.61986131, 0.04323217, 0.04148379],\n",
       "       [0.70819881, 0.62227263, 0.80138325, 0.32993002],\n",
       "       [0.49468583, 0.01148096, 0.02552061, 0.85469533],\n",
       "       [0.22103905, 0.80375435, 0.80998044, 0.12968991],\n",
       "       [0.86635212, 0.25931217, 0.79436741, 0.65924574],\n",
       "       [0.31801908, 0.17290771, 0.42900823, 0.54535361],\n",
       "       [0.83510333, 0.12237401, 0.16265217, 0.0417491 ],\n",
       "       [0.39969778, 0.84738394, 0.90494411, 0.12856237],\n",
       "       [0.42437261, 0.80621246, 0.37841256, 0.42425578],\n",
       "       [0.31531534, 0.77743025, 0.74708051, 0.04205953],\n",
       "       [0.22960914, 0.95472466, 0.76688385, 0.56931279],\n",
       "       [0.31009937, 0.66898572, 0.40573662, 0.80268521],\n",
       "       [0.25765829, 0.5788637 , 0.91937226, 0.21608402],\n",
       "       [0.11854707, 0.91882123, 0.87432954, 0.38020286],\n",
       "       [0.85314599, 0.90030176, 0.88865249, 0.52491466],\n",
       "       [0.8623942 , 0.89714222, 0.51960253, 0.72839646],\n",
       "       [0.88799517, 0.02184346, 0.81852993, 0.63031911],\n",
       "       [0.67958011, 0.7215315 , 0.16530897, 0.40769553],\n",
       "       [0.83840791, 0.7841882 , 0.81335639, 0.22575039],\n",
       "       [0.86174432, 0.25691529, 0.1258371 , 0.57362895],\n",
       "       [0.01114256, 0.34277716, 0.93306549, 1.        ],\n",
       "       [0.40559769, 0.81519575, 0.46977012, 0.34916972],\n",
       "       [0.02818181, 0.9664524 , 0.00599918, 0.98149042],\n",
       "       [0.07153519, 0.76601613, 0.71307372, 0.4795724 ],\n",
       "       [0.5434536 , 0.84083313, 0.97211544, 0.43898661],\n",
       "       [0.29817001, 0.71096772, 0.43238028, 0.49463908],\n",
       "       [0.22303182, 0.57404479, 0.05764845, 0.65155831],\n",
       "       [0.48873584, 0.46330084, 0.34207275, 0.6039375 ],\n",
       "       [0.64326035, 0.08989834, 0.93205453, 0.03250083],\n",
       "       [0.08032979, 0.09523044, 0.93306751, 0.66461781],\n",
       "       [0.63431874, 0.15232846, 0.82186501, 0.16808095],\n",
       "       [0.17155925, 0.37258207, 0.99669845, 0.        ],\n",
       "       [0.91170197, 0.88745383, 1.        , 0.88274681],\n",
       "       [0.08225692, 0.88884587, 0.65692159, 0.65596228],\n",
       "       [0.16098469, 0.47767355, 0.04058638, 0.34918061],\n",
       "       [0.61271841, 0.17267815, 0.32699692, 0.09246498],\n",
       "       [0.8843206 , 0.41246447, 0.94561613, 0.57575821],\n",
       "       [0.30599674, 0.17529822, 0.57645359, 0.80324387],\n",
       "       [0.25665257, 0.32286705, 0.        , 0.02798804],\n",
       "       [0.03883855, 0.4799472 , 0.94337343, 0.34446185],\n",
       "       [0.44100547, 0.34989057, 0.55514164, 0.08447616],\n",
       "       [0.82613722, 1.        , 0.86940166, 0.15994742],\n",
       "       [0.38007899, 0.92232132, 0.7709242 , 0.70896859],\n",
       "       [0.32715454, 0.91422656, 0.57473747, 0.49008357],\n",
       "       [0.34758693, 0.58504386, 0.42463588, 0.93469852],\n",
       "       [0.63135227, 0.71097243, 0.48813273, 0.67255113],\n",
       "       [0.94833592, 0.86930134, 0.19817818, 0.7573333 ],\n",
       "       [0.86462999, 0.06871927, 0.19077696, 0.25670695]])"
      ]
     },
     "execution_count": 73,
     "metadata": {},
     "output_type": "execute_result"
    }
   ],
   "source": [
    "mm.fit(X)\n",
    "mm.transform(X)"
   ]
  },
  {
   "cell_type": "code",
   "execution_count": 74,
   "id": "30b45888",
   "metadata": {},
   "outputs": [
    {
     "data": {
      "text/plain": [
       "array([[0.33258856, 0.32025862, 0.95246052, 0.70989592],\n",
       "       [0.94801754, 0.36990691, 0.56296142, 0.25989774],\n",
       "       [0.31040091, 0.38137147, 0.68836358, 0.24071729],\n",
       "       [0.2895084 , 0.46227704, 0.38036663, 0.99078475],\n",
       "       [0.69954132, 0.53302965, 0.12948051, 0.9331258 ],\n",
       "       [0.32812748, 0.54883513, 0.56930253, 0.09704821],\n",
       "       [0.12044121, 0.69805739, 0.25559809, 0.80688406],\n",
       "       [0.68974046, 0.64317452, 0.61975509, 0.07949448],\n",
       "       [0.88970813, 0.63106931, 0.33438557, 0.39423244],\n",
       "       [0.1467584 , 0.67622578, 0.70524239, 0.20239926],\n",
       "       [0.54518297, 0.11225446, 0.36874664, 0.76981952],\n",
       "       [0.1380464 , 0.16640666, 0.12971802, 0.94488871],\n",
       "       [0.97445707, 0.07230818, 0.44223922, 0.0149185 ],\n",
       "       [0.50193549, 0.4115316 , 0.93997504, 0.34414989],\n",
       "       [0.36467921, 0.96699175, 0.03716111, 0.89573493],\n",
       "       [0.49952774, 0.92657475, 0.9480397 , 0.03322267],\n",
       "       [0.21777235, 0.14851477, 0.06105744, 0.88956318],\n",
       "       [0.84156833, 0.02001073, 0.29183386, 0.15919059],\n",
       "       [0.91140145, 0.37975307, 0.37166895, 0.24459567],\n",
       "       [0.98484034, 0.35242691, 0.46753686, 0.79535414],\n",
       "       [0.63182886, 0.04464091, 0.13233798, 0.56289556],\n",
       "       [0.27018597, 0.25528332, 0.69924987, 0.41033632],\n",
       "       [0.05288135, 0.06212732, 0.99835969, 0.26630063],\n",
       "       [0.16665608, 0.87446655, 0.79833065, 0.60944974],\n",
       "       [0.98702781, 0.48148207, 0.36224997, 0.55682771],\n",
       "       [0.87035145, 0.94252468, 0.09866664, 0.46977103],\n",
       "       [0.74839119, 0.52242741, 0.83467901, 0.27742326],\n",
       "       [0.12309296, 0.16740193, 0.49963925, 0.2849116 ],\n",
       "       [0.39715484, 0.07541175, 0.52224722, 0.35757783],\n",
       "       [0.30977047, 0.38903506, 0.46499207, 0.12773764],\n",
       "       [0.39612388, 0.6173914 , 0.03645488, 0.58228077],\n",
       "       [0.69018677, 0.92236014, 0.16057325, 0.68323721],\n",
       "       [0.95675714, 0.4540075 , 0.63780382, 0.63406133],\n",
       "       [0.7145409 , 0.13190215, 0.45438663, 0.21099125],\n",
       "       [0.36032931, 0.43211908, 0.68084016, 0.41399764],\n",
       "       [0.67690132, 0.92791313, 0.47016798, 0.18073138],\n",
       "       [0.4434722 , 0.56999808, 0.78213573, 0.65585424],\n",
       "       [0.79397783, 0.49504859, 0.48261004, 0.51599048],\n",
       "       [0.74339738, 0.50533442, 0.71378262, 0.25536255],\n",
       "       [0.9830419 , 0.68201049, 0.73427595, 0.20181162],\n",
       "       [0.32303066, 0.26050678, 0.78739215, 0.67244026],\n",
       "       [0.81347192, 0.50249484, 0.88256074, 0.35582521],\n",
       "       [0.29059292, 0.4154374 , 0.16656744, 0.57274806],\n",
       "       [0.9055752 , 0.42790411, 0.92393761, 0.4157269 ],\n",
       "       [0.53594232, 0.05205846, 0.62505545, 0.62771972],\n",
       "       [0.18258117, 0.64139158, 0.17533988, 0.30440469],\n",
       "       [0.6243538 , 0.12694635, 0.6411522 , 0.79533182],\n",
       "       [0.69309257, 0.14031065, 0.82578329, 0.33270679],\n",
       "       [0.99719659, 0.52036511, 0.21735437, 0.84106005],\n",
       "       [0.4176221 , 0.97334141, 0.02603257, 0.17693007],\n",
       "       [0.42826042, 0.7626144 , 0.11005028, 0.22957348],\n",
       "       [0.03289781, 0.10581479, 0.58121924, 0.38950558],\n",
       "       [0.88139899, 0.76341837, 0.17773084, 0.66085555],\n",
       "       [0.21971035, 0.85926546, 0.17898888, 0.74159541],\n",
       "       [0.03003272, 0.86020139, 0.65768983, 0.9018685 ],\n",
       "       [0.40079514, 0.68842015, 0.50949412, 0.55553109],\n",
       "       [0.53506655, 0.72049842, 0.99813922, 0.54545596],\n",
       "       [0.38610918, 0.19891371, 0.07177996, 0.64316294],\n",
       "       [0.20503469, 0.9889571 , 0.05777672, 0.45899047],\n",
       "       [0.75319181, 0.1477285 , 0.82802112, 0.9447791 ],\n",
       "       [0.41319384, 0.28649146, 0.49747399, 0.40550823],\n",
       "       [0.59877722, 0.79711889, 0.85028881, 0.11847444],\n",
       "       [0.71022148, 0.48478887, 0.08713934, 0.98755613],\n",
       "       [0.28010937, 0.73195673, 0.13443005, 0.90466961],\n",
       "       [0.45148344, 0.28764102, 0.04391576, 0.28918696],\n",
       "       [0.79660885, 0.50295877, 0.10728803, 0.75581621],\n",
       "       [0.58688777, 0.39603916, 0.10335715, 0.51836457],\n",
       "       [0.93674299, 0.92754727, 0.31053954, 0.90701666],\n",
       "       [0.883823  , 0.80643915, 0.80384893, 0.09936733],\n",
       "       [0.29908871, 0.86893026, 0.28427846, 0.94092498],\n",
       "       [0.9337052 , 0.16147059, 0.66331576, 0.19941631],\n",
       "       [0.90676051, 0.60649621, 0.1485936 , 0.17421184],\n",
       "       [0.17432671, 0.69374032, 0.74689197, 0.1524206 ],\n",
       "       [0.74382798, 0.240685  , 0.18789613, 0.35291417],\n",
       "       [0.47661124, 0.46698608, 0.21092261, 0.01387622],\n",
       "       [0.65227944, 0.33282386, 0.898045  , 0.38112481],\n",
       "       [0.95215471, 0.66065389, 0.82416967, 0.38807786],\n",
       "       [0.37432184, 0.996272  , 0.23567605, 0.92571363],\n",
       "       [0.64997728, 0.56608253, 0.29992916, 0.05170399],\n",
       "       [0.26586975, 0.20413345, 0.99631138, 0.32688775],\n",
       "       [0.27723887, 0.2290103 , 0.34515087, 0.01680621],\n",
       "       [0.29397298, 0.59530833, 0.19929892, 0.76588315],\n",
       "       [0.52554761, 0.99161204, 0.96870971, 0.87094502],\n",
       "       [0.75454349, 0.12433924, 0.98437071, 0.80925145],\n",
       "       [1.        , 0.00440137, 0.83991091, 0.42804398],\n",
       "       [0.52644109, 0.3109551 , 0.61112286, 0.80702425],\n",
       "       [0.02238243, 0.        , 0.56107042, 0.1781682 ],\n",
       "       [0.25635186, 0.90809844, 0.13308433, 0.45063379],\n",
       "       [0.86583537, 0.48005202, 0.75038415, 0.45902082],\n",
       "       [0.83663362, 0.88100211, 0.92357134, 0.11121827],\n",
       "       [0.07901072, 0.36746181, 0.11594092, 0.91507201],\n",
       "       [0.37417652, 0.98330366, 0.56569257, 0.85653643],\n",
       "       [0.74199079, 0.90724899, 0.50236735, 0.28968098],\n",
       "       [0.12776295, 0.48694026, 0.03983902, 0.08610353],\n",
       "       [0.02464504, 0.13850428, 0.58450354, 0.1201335 ],\n",
       "       [0.96140232, 0.5074932 , 0.92854174, 0.81635112],\n",
       "       [0.88043579, 0.45600174, 0.18944034, 0.56424607],\n",
       "       [0.6191096 , 0.43073679, 0.70014233, 0.74269207],\n",
       "       [0.76537519, 0.29424517, 0.11747002, 0.09821193],\n",
       "       [0.61771312, 0.63985629, 0.69427756, 0.96555824],\n",
       "       [0.24284382, 0.7777586 , 0.3583651 , 0.28993597],\n",
       "       [0.94276726, 0.65514909, 0.87408202, 0.75880185],\n",
       "       [0.        , 0.61986131, 0.04323217, 0.04148379],\n",
       "       [0.70819881, 0.62227263, 0.80138325, 0.32993002],\n",
       "       [0.49468583, 0.01148096, 0.02552061, 0.85469533],\n",
       "       [0.22103905, 0.80375435, 0.80998044, 0.12968991],\n",
       "       [0.86635212, 0.25931217, 0.79436741, 0.65924574],\n",
       "       [0.31801908, 0.17290771, 0.42900823, 0.54535361],\n",
       "       [0.83510333, 0.12237401, 0.16265217, 0.0417491 ],\n",
       "       [0.39969778, 0.84738394, 0.90494411, 0.12856237],\n",
       "       [0.42437261, 0.80621246, 0.37841256, 0.42425578],\n",
       "       [0.31531534, 0.77743025, 0.74708051, 0.04205953],\n",
       "       [0.22960914, 0.95472466, 0.76688385, 0.56931279],\n",
       "       [0.31009937, 0.66898572, 0.40573662, 0.80268521],\n",
       "       [0.25765829, 0.5788637 , 0.91937226, 0.21608402],\n",
       "       [0.11854707, 0.91882123, 0.87432954, 0.38020286],\n",
       "       [0.85314599, 0.90030176, 0.88865249, 0.52491466],\n",
       "       [0.8623942 , 0.89714222, 0.51960253, 0.72839646],\n",
       "       [0.88799517, 0.02184346, 0.81852993, 0.63031911],\n",
       "       [0.67958011, 0.7215315 , 0.16530897, 0.40769553],\n",
       "       [0.83840791, 0.7841882 , 0.81335639, 0.22575039],\n",
       "       [0.86174432, 0.25691529, 0.1258371 , 0.57362895],\n",
       "       [0.01114256, 0.34277716, 0.93306549, 1.        ],\n",
       "       [0.40559769, 0.81519575, 0.46977012, 0.34916972],\n",
       "       [0.02818181, 0.9664524 , 0.00599918, 0.98149042],\n",
       "       [0.07153519, 0.76601613, 0.71307372, 0.4795724 ],\n",
       "       [0.5434536 , 0.84083313, 0.97211544, 0.43898661],\n",
       "       [0.29817001, 0.71096772, 0.43238028, 0.49463908],\n",
       "       [0.22303182, 0.57404479, 0.05764845, 0.65155831],\n",
       "       [0.48873584, 0.46330084, 0.34207275, 0.6039375 ],\n",
       "       [0.64326035, 0.08989834, 0.93205453, 0.03250083],\n",
       "       [0.08032979, 0.09523044, 0.93306751, 0.66461781],\n",
       "       [0.63431874, 0.15232846, 0.82186501, 0.16808095],\n",
       "       [0.17155925, 0.37258207, 0.99669845, 0.        ],\n",
       "       [0.91170197, 0.88745383, 1.        , 0.88274681],\n",
       "       [0.08225692, 0.88884587, 0.65692159, 0.65596228],\n",
       "       [0.16098469, 0.47767355, 0.04058638, 0.34918061],\n",
       "       [0.61271841, 0.17267815, 0.32699692, 0.09246498],\n",
       "       [0.8843206 , 0.41246447, 0.94561613, 0.57575821],\n",
       "       [0.30599674, 0.17529822, 0.57645359, 0.80324387],\n",
       "       [0.25665257, 0.32286705, 0.        , 0.02798804],\n",
       "       [0.03883855, 0.4799472 , 0.94337343, 0.34446185],\n",
       "       [0.44100547, 0.34989057, 0.55514164, 0.08447616],\n",
       "       [0.82613722, 1.        , 0.86940166, 0.15994742],\n",
       "       [0.38007899, 0.92232132, 0.7709242 , 0.70896859],\n",
       "       [0.32715454, 0.91422656, 0.57473747, 0.49008357],\n",
       "       [0.34758693, 0.58504386, 0.42463588, 0.93469852],\n",
       "       [0.63135227, 0.71097243, 0.48813273, 0.67255113],\n",
       "       [0.94833592, 0.86930134, 0.19817818, 0.7573333 ],\n",
       "       [0.86462999, 0.06871927, 0.19077696, 0.25670695]])"
      ]
     },
     "execution_count": 74,
     "metadata": {},
     "output_type": "execute_result"
    }
   ],
   "source": [
    "mm.fit_transform(X)"
   ]
  },
  {
   "cell_type": "code",
   "execution_count": 75,
   "id": "d96cd3c4",
   "metadata": {},
   "outputs": [],
   "source": [
    "from sklearn.model_selection import train_test_split"
   ]
  },
  {
   "cell_type": "code",
   "execution_count": 76,
   "id": "67ffca1d",
   "metadata": {},
   "outputs": [],
   "source": [
    "from sklearn.datasets import load_iris\n",
    "X, y = load_iris(return_X_y=True)"
   ]
  },
  {
   "cell_type": "code",
   "execution_count": 77,
   "id": "39429774",
   "metadata": {},
   "outputs": [
    {
     "data": {
      "text/plain": [
       "(150, 4)"
      ]
     },
     "execution_count": 77,
     "metadata": {},
     "output_type": "execute_result"
    }
   ],
   "source": [
    "X.shape"
   ]
  },
  {
   "cell_type": "code",
   "execution_count": 78,
   "id": "c100aa5b",
   "metadata": {},
   "outputs": [
    {
     "data": {
      "text/plain": [
       "(150,)"
      ]
     },
     "execution_count": 78,
     "metadata": {},
     "output_type": "execute_result"
    }
   ],
   "source": [
    "y.shape"
   ]
  },
  {
   "cell_type": "code",
   "execution_count": 79,
   "id": "4819f9ec",
   "metadata": {},
   "outputs": [],
   "source": [
    "X_train, X_test, y_train, y_test = train_test_split(X, y, train_size=.8, stratify=y)"
   ]
  },
  {
   "cell_type": "code",
   "execution_count": 80,
   "id": "4a9125d8",
   "metadata": {},
   "outputs": [
    {
     "data": {
      "text/plain": [
       "((120, 4), (30, 4))"
      ]
     },
     "execution_count": 80,
     "metadata": {},
     "output_type": "execute_result"
    }
   ],
   "source": [
    "X_train.shape, X_test.shape"
   ]
  },
  {
   "cell_type": "code",
   "execution_count": 81,
   "id": "a7157a21",
   "metadata": {},
   "outputs": [],
   "source": [
    "from sklearn.tree import DecisionTreeClassifier"
   ]
  },
  {
   "cell_type": "code",
   "execution_count": 82,
   "id": "6ffeab27",
   "metadata": {},
   "outputs": [],
   "source": [
    "clf = DecisionTreeClassifier(max_depth=2)"
   ]
  },
  {
   "cell_type": "code",
   "execution_count": 83,
   "id": "82e12f1c",
   "metadata": {},
   "outputs": [
    {
     "data": {
      "text/html": [
       "<style>#sk-container-id-5 {color: black;background-color: white;}#sk-container-id-5 pre{padding: 0;}#sk-container-id-5 div.sk-toggleable {background-color: white;}#sk-container-id-5 label.sk-toggleable__label {cursor: pointer;display: block;width: 100%;margin-bottom: 0;padding: 0.3em;box-sizing: border-box;text-align: center;}#sk-container-id-5 label.sk-toggleable__label-arrow:before {content: \"▸\";float: left;margin-right: 0.25em;color: #696969;}#sk-container-id-5 label.sk-toggleable__label-arrow:hover:before {color: black;}#sk-container-id-5 div.sk-estimator:hover label.sk-toggleable__label-arrow:before {color: black;}#sk-container-id-5 div.sk-toggleable__content {max-height: 0;max-width: 0;overflow: hidden;text-align: left;background-color: #f0f8ff;}#sk-container-id-5 div.sk-toggleable__content pre {margin: 0.2em;color: black;border-radius: 0.25em;background-color: #f0f8ff;}#sk-container-id-5 input.sk-toggleable__control:checked~div.sk-toggleable__content {max-height: 200px;max-width: 100%;overflow: auto;}#sk-container-id-5 input.sk-toggleable__control:checked~label.sk-toggleable__label-arrow:before {content: \"▾\";}#sk-container-id-5 div.sk-estimator input.sk-toggleable__control:checked~label.sk-toggleable__label {background-color: #d4ebff;}#sk-container-id-5 div.sk-label input.sk-toggleable__control:checked~label.sk-toggleable__label {background-color: #d4ebff;}#sk-container-id-5 input.sk-hidden--visually {border: 0;clip: rect(1px 1px 1px 1px);clip: rect(1px, 1px, 1px, 1px);height: 1px;margin: -1px;overflow: hidden;padding: 0;position: absolute;width: 1px;}#sk-container-id-5 div.sk-estimator {font-family: monospace;background-color: #f0f8ff;border: 1px dotted black;border-radius: 0.25em;box-sizing: border-box;margin-bottom: 0.5em;}#sk-container-id-5 div.sk-estimator:hover {background-color: #d4ebff;}#sk-container-id-5 div.sk-parallel-item::after {content: \"\";width: 100%;border-bottom: 1px solid gray;flex-grow: 1;}#sk-container-id-5 div.sk-label:hover label.sk-toggleable__label {background-color: #d4ebff;}#sk-container-id-5 div.sk-serial::before {content: \"\";position: absolute;border-left: 1px solid gray;box-sizing: border-box;top: 0;bottom: 0;left: 50%;z-index: 0;}#sk-container-id-5 div.sk-serial {display: flex;flex-direction: column;align-items: center;background-color: white;padding-right: 0.2em;padding-left: 0.2em;position: relative;}#sk-container-id-5 div.sk-item {position: relative;z-index: 1;}#sk-container-id-5 div.sk-parallel {display: flex;align-items: stretch;justify-content: center;background-color: white;position: relative;}#sk-container-id-5 div.sk-item::before, #sk-container-id-5 div.sk-parallel-item::before {content: \"\";position: absolute;border-left: 1px solid gray;box-sizing: border-box;top: 0;bottom: 0;left: 50%;z-index: -1;}#sk-container-id-5 div.sk-parallel-item {display: flex;flex-direction: column;z-index: 1;position: relative;background-color: white;}#sk-container-id-5 div.sk-parallel-item:first-child::after {align-self: flex-end;width: 50%;}#sk-container-id-5 div.sk-parallel-item:last-child::after {align-self: flex-start;width: 50%;}#sk-container-id-5 div.sk-parallel-item:only-child::after {width: 0;}#sk-container-id-5 div.sk-dashed-wrapped {border: 1px dashed gray;margin: 0 0.4em 0.5em 0.4em;box-sizing: border-box;padding-bottom: 0.4em;background-color: white;}#sk-container-id-5 div.sk-label label {font-family: monospace;font-weight: bold;display: inline-block;line-height: 1.2em;}#sk-container-id-5 div.sk-label-container {text-align: center;}#sk-container-id-5 div.sk-container {/* jupyter's `normalize.less` sets `[hidden] { display: none; }` but bootstrap.min.css set `[hidden] { display: none !important; }` so we also need the `!important` here to be able to override the default hidden behavior on the sphinx rendered scikit-learn.org. See: https://github.com/scikit-learn/scikit-learn/issues/21755 */display: inline-block !important;position: relative;}#sk-container-id-5 div.sk-text-repr-fallback {display: none;}</style><div id=\"sk-container-id-5\" class=\"sk-top-container\"><div class=\"sk-text-repr-fallback\"><pre>DecisionTreeClassifier(max_depth=2)</pre><b>In a Jupyter environment, please rerun this cell to show the HTML representation or trust the notebook. <br />On GitHub, the HTML representation is unable to render, please try loading this page with nbviewer.org.</b></div><div class=\"sk-container\" hidden><div class=\"sk-item\"><div class=\"sk-estimator sk-toggleable\"><input class=\"sk-toggleable__control sk-hidden--visually\" id=\"sk-estimator-id-5\" type=\"checkbox\" checked><label for=\"sk-estimator-id-5\" class=\"sk-toggleable__label sk-toggleable__label-arrow\">DecisionTreeClassifier</label><div class=\"sk-toggleable__content\"><pre>DecisionTreeClassifier(max_depth=2)</pre></div></div></div></div></div>"
      ],
      "text/plain": [
       "DecisionTreeClassifier(max_depth=2)"
      ]
     },
     "execution_count": 83,
     "metadata": {},
     "output_type": "execute_result"
    }
   ],
   "source": [
    "clf.fit(X_train, y_train)"
   ]
  },
  {
   "cell_type": "code",
   "execution_count": 84,
   "id": "14dd0061",
   "metadata": {},
   "outputs": [],
   "source": [
    "y_pred = clf.predict(X_test)"
   ]
  },
  {
   "cell_type": "code",
   "execution_count": 85,
   "id": "3ad7960a",
   "metadata": {},
   "outputs": [
    {
     "data": {
      "text/plain": [
       "array([2, 1, 0, 0, 2, 2, 0, 1, 0, 2, 1, 1, 1, 2, 2, 0, 2, 1, 1, 2, 1, 1,\n",
       "       2, 0, 0, 0, 0, 2, 0, 1])"
      ]
     },
     "execution_count": 85,
     "metadata": {},
     "output_type": "execute_result"
    }
   ],
   "source": [
    "y_pred"
   ]
  },
  {
   "cell_type": "code",
   "execution_count": 86,
   "id": "f9ae11a4",
   "metadata": {},
   "outputs": [
    {
     "data": {
      "text/plain": [
       "array([2, 1, 0, 0, 2, 2, 0, 1, 0, 2, 2, 1, 1, 2, 2, 0, 2, 1, 1, 1, 1, 2,\n",
       "       2, 0, 0, 0, 0, 1, 0, 1])"
      ]
     },
     "execution_count": 86,
     "metadata": {},
     "output_type": "execute_result"
    }
   ],
   "source": [
    "y_test"
   ]
  },
  {
   "cell_type": "code",
   "execution_count": 87,
   "id": "e6f20c03",
   "metadata": {},
   "outputs": [
    {
     "data": {
      "text/plain": [
       "0.8666666666666667"
      ]
     },
     "execution_count": 87,
     "metadata": {},
     "output_type": "execute_result"
    }
   ],
   "source": [
    "(y_pred == y_test).sum() / len(y_pred)"
   ]
  },
  {
   "cell_type": "code",
   "execution_count": 88,
   "id": "630dfd2a",
   "metadata": {},
   "outputs": [],
   "source": [
    "from sklearn.tree import plot_tree"
   ]
  },
  {
   "cell_type": "code",
   "execution_count": 89,
   "id": "bcc73be5",
   "metadata": {},
   "outputs": [],
   "source": [
    "import matplotlib.pyplot as plt"
   ]
  },
  {
   "cell_type": "code",
   "execution_count": 90,
   "id": "0d8bd562",
   "metadata": {},
   "outputs": [
    {
     "data": {
      "text/plain": [
       "<matplotlib.lines.Line2D at 0x127b38820>"
      ]
     },
     "execution_count": 90,
     "metadata": {},
     "output_type": "execute_result"
    },
    {
     "data": {
      "image/png": "[encoded data removed]",
      "text/plain": [
       "<Figure size 432x288 with 1 Axes>"
      ]
     },
     "metadata": {
      "needs_background": "light"
     },
     "output_type": "display_data"
    }
   ],
   "source": [
    "plt.scatter(X[:,2], X[:,3], c=y)\n",
    "    \n",
    "plt.axhline(0.8, color='red')\n",
    "plt.xlabel(\"X[2]\")\n",
    "plt.ylabel(\"X[3]\")\n",
    "plt.axhline(1.65, color='blue')"
   ]
  },
  {
   "cell_type": "code",
   "execution_count": 91,
   "id": "15f8f1e1",
   "metadata": {},
   "outputs": [
    {
     "data": {
      "text/plain": [
       "[Text(0.4, 0.8333333333333334, 'X[2] <= 2.45\\ngini = 0.667\\nsamples = 120\\nvalue = [40, 40, 40]'),\n",
       " Text(0.2, 0.5, 'gini = 0.0\\nsamples = 40\\nvalue = [40, 0, 0]'),\n",
       " Text(0.6, 0.5, 'X[2] <= 4.95\\ngini = 0.5\\nsamples = 80\\nvalue = [0, 40, 40]'),\n",
       " Text(0.4, 0.16666666666666666, 'gini = 0.165\\nsamples = 44\\nvalue = [0, 40, 4]'),\n",
       " Text(0.8, 0.16666666666666666, 'gini = 0.0\\nsamples = 36\\nvalue = [0, 0, 36]')]"
      ]
     },
     "execution_count": 91,
     "metadata": {},
     "output_type": "execute_result"
    },
    {
     "data": {
      "image/png": "[encoded data removed]",
      "text/plain": [
       "<Figure size 1440x1440 with 1 Axes>"
      ]
     },
     "metadata": {
      "needs_background": "light"
     },
     "output_type": "display_data"
    }
   ],
   "source": [
    "plt.figure(figsize=(20,20))\n",
    "plot_tree(clf)"
   ]
  },
  {
   "cell_type": "code",
   "execution_count": 92,
   "id": "b9b4e366",
   "metadata": {},
   "outputs": [],
   "source": [
    "from sklearn.model_selection import train_test_split\n",
    "\n",
    "\n",
    "X_train, X_test, y_train, y_test = train_test_split(X, y, train_size=0.8, random_state=42, stratify=y)"
   ]
  },
  {
   "cell_type": "code",
   "execution_count": 93,
   "id": "f0d30509",
   "metadata": {},
   "outputs": [
    {
     "data": {
      "text/plain": [
       "((150, 4), (150,))"
      ]
     },
     "execution_count": 93,
     "metadata": {},
     "output_type": "execute_result"
    }
   ],
   "source": [
    "X.shape, y.shape"
   ]
  },
  {
   "cell_type": "code",
   "execution_count": 94,
   "id": "9e55c560",
   "metadata": {},
   "outputs": [
    {
     "data": {
      "text/plain": [
       "((120, 4), (30, 4))"
      ]
     },
     "execution_count": 94,
     "metadata": {},
     "output_type": "execute_result"
    }
   ],
   "source": [
    "X_train.shape, X_test.shape"
   ]
  },
  {
   "cell_type": "code",
   "execution_count": 95,
   "id": "cda328ab",
   "metadata": {},
   "outputs": [
    {
     "data": {
      "text/plain": [
       "((120,), (30,))"
      ]
     },
     "execution_count": 95,
     "metadata": {},
     "output_type": "execute_result"
    }
   ],
   "source": [
    "\n",
    "y_train.shape, y_test.shape"
   ]
  },
  {
   "cell_type": "code",
   "execution_count": 96,
   "id": "87637ccf",
   "metadata": {},
   "outputs": [
    {
     "data": {
      "text/plain": [
       "array([2, 1, 0, 0, 2, 2, 0, 1, 0, 2, 1, 1, 1, 2, 2, 0, 2, 1, 1, 2, 1, 1,\n",
       "       2, 0, 0, 0, 0, 2, 0, 1])"
      ]
     },
     "execution_count": 96,
     "metadata": {},
     "output_type": "execute_result"
    }
   ],
   "source": [
    "y_pred # prediction"
   ]
  },
  {
   "cell_type": "code",
   "execution_count": 97,
   "id": "3d213e6e",
   "metadata": {},
   "outputs": [
    {
     "data": {
      "text/plain": [
       "array([0, 2, 1, 1, 0, 1, 0, 0, 2, 1, 2, 2, 2, 1, 0, 0, 0, 1, 1, 2, 0, 2,\n",
       "       1, 2, 2, 1, 1, 0, 2, 0])"
      ]
     },
     "execution_count": 97,
     "metadata": {},
     "output_type": "execute_result"
    }
   ],
   "source": [
    "y_test # ground truth"
   ]
  },
  {
   "cell_type": "code",
   "execution_count": 99,
   "id": "81f9d1ce",
   "metadata": {},
   "outputs": [],
   "source": [
    "# 75% training set\n",
    "# 10% validation set\n",
    "# 15% test set\n",
    "\n",
    "X_train, X_val_test, y_train, y_val_test = train_test_split(X, y, train_size=0.75)\n",
    "X_val, X_test, y_val, y_test = train_test_split(X_val_test, y_val_test, train_size=0.1 / (0.1 + 0.15))"
   ]
  },
  {
   "cell_type": "code",
   "execution_count": 107,
   "id": "6abd68cc",
   "metadata": {},
   "outputs": [],
   "source": [
    "clf = DecisionTreeClassifier()\n",
    "clf.fit(X_train, y_train)\n",
    "y_pred = clf.predict(X_val)"
   ]
  },
  {
   "cell_type": "code",
   "execution_count": 108,
   "id": "61755b60",
   "metadata": {},
   "outputs": [],
   "source": [
    "from sklearn.metrics import accuracy_score, precision_score,\\\n",
    "                            recall_score, f1_score, \\\n",
    "                            precision_recall_fscore_support, classification_report"
   ]
  },
  {
   "cell_type": "code",
   "execution_count": 111,
   "id": "56650fcb",
   "metadata": {},
   "outputs": [
    {
     "data": {
      "text/plain": [
       "93.33333333333333"
      ]
     },
     "execution_count": 111,
     "metadata": {},
     "output_type": "execute_result"
    }
   ],
   "source": [
    "100 * accuracy_score(y_val, y_pred)"
   ]
  },
  {
   "cell_type": "code",
   "execution_count": 112,
   "id": "ac627184",
   "metadata": {},
   "outputs": [
    {
     "data": {
      "text/plain": [
       "array([1, 2, 1, 2, 2, 2, 0, 2, 0, 1, 0, 0, 1, 2, 0])"
      ]
     },
     "execution_count": 112,
     "metadata": {},
     "output_type": "execute_result"
    }
   ],
   "source": [
    "y_val"
   ]
  },
  {
   "cell_type": "code",
   "execution_count": 113,
   "id": "7da3a028",
   "metadata": {},
   "outputs": [
    {
     "data": {
      "text/plain": [
       "array([1, 2, 1, 2, 2, 2, 0, 2, 0, 1, 0, 0, 2, 2, 0])"
      ]
     },
     "execution_count": 113,
     "metadata": {},
     "output_type": "execute_result"
    }
   ],
   "source": [
    "y_pred"
   ]
  },
  {
   "cell_type": "code",
   "execution_count": 114,
   "id": "ad683f16",
   "metadata": {},
   "outputs": [
    {
     "ename": "ValueError",
     "evalue": "Target is multiclass but average='binary'. Please choose another average setting, one of [None, 'micro', 'macro', 'weighted'].",
     "output_type": "error",
     "traceback": [
      "\u001b[0;31m---------------------------------------------------------------------------\u001b[0m",
      "\u001b[0;31mValueError\u001b[0m                                Traceback (most recent call last)",
      "Input \u001b[0;32mIn [114]\u001b[0m, in \u001b[0;36m<cell line: 1>\u001b[0;34m()\u001b[0m\n\u001b[0;32m----> 1\u001b[0m \u001b[43mprecision_score\u001b[49m\u001b[43m(\u001b[49m\u001b[43my_val\u001b[49m\u001b[43m,\u001b[49m\u001b[43m \u001b[49m\u001b[43my_pred\u001b[49m\u001b[43m)\u001b[49m\n",
      "File \u001b[0;32m/usr/local/lib/python3.9/site-packages/sklearn/metrics/_classification.py:1769\u001b[0m, in \u001b[0;36mprecision_score\u001b[0;34m(y_true, y_pred, labels, pos_label, average, sample_weight, zero_division)\u001b[0m\n\u001b[1;32m   1640\u001b[0m \u001b[38;5;28;01mdef\u001b[39;00m \u001b[38;5;21mprecision_score\u001b[39m(\n\u001b[1;32m   1641\u001b[0m     y_true,\n\u001b[1;32m   1642\u001b[0m     y_pred,\n\u001b[0;32m   (...)\u001b[0m\n\u001b[1;32m   1648\u001b[0m     zero_division\u001b[38;5;241m=\u001b[39m\u001b[38;5;124m\"\u001b[39m\u001b[38;5;124mwarn\u001b[39m\u001b[38;5;124m\"\u001b[39m,\n\u001b[1;32m   1649\u001b[0m ):\n\u001b[1;32m   1650\u001b[0m     \u001b[38;5;124;03m\"\"\"Compute the precision.\u001b[39;00m\n\u001b[1;32m   1651\u001b[0m \n\u001b[1;32m   1652\u001b[0m \u001b[38;5;124;03m    The precision is the ratio ``tp / (tp + fp)`` where ``tp`` is the number of\u001b[39;00m\n\u001b[0;32m   (...)\u001b[0m\n\u001b[1;32m   1767\u001b[0m \u001b[38;5;124;03m    array([0.5, 1. , 1. ])\u001b[39;00m\n\u001b[1;32m   1768\u001b[0m \u001b[38;5;124;03m    \"\"\"\u001b[39;00m\n\u001b[0;32m-> 1769\u001b[0m     p, _, _, _ \u001b[38;5;241m=\u001b[39m \u001b[43mprecision_recall_fscore_support\u001b[49m\u001b[43m(\u001b[49m\n\u001b[1;32m   1770\u001b[0m \u001b[43m        \u001b[49m\u001b[43my_true\u001b[49m\u001b[43m,\u001b[49m\n\u001b[1;32m   1771\u001b[0m \u001b[43m        \u001b[49m\u001b[43my_pred\u001b[49m\u001b[43m,\u001b[49m\n\u001b[1;32m   1772\u001b[0m \u001b[43m        \u001b[49m\u001b[43mlabels\u001b[49m\u001b[38;5;241;43m=\u001b[39;49m\u001b[43mlabels\u001b[49m\u001b[43m,\u001b[49m\n\u001b[1;32m   1773\u001b[0m \u001b[43m        \u001b[49m\u001b[43mpos_label\u001b[49m\u001b[38;5;241;43m=\u001b[39;49m\u001b[43mpos_label\u001b[49m\u001b[43m,\u001b[49m\n\u001b[1;32m   1774\u001b[0m \u001b[43m        \u001b[49m\u001b[43maverage\u001b[49m\u001b[38;5;241;43m=\u001b[39;49m\u001b[43maverage\u001b[49m\u001b[43m,\u001b[49m\n\u001b[1;32m   1775\u001b[0m \u001b[43m        \u001b[49m\u001b[43mwarn_for\u001b[49m\u001b[38;5;241;43m=\u001b[39;49m\u001b[43m(\u001b[49m\u001b[38;5;124;43m\"\u001b[39;49m\u001b[38;5;124;43mprecision\u001b[39;49m\u001b[38;5;124;43m\"\u001b[39;49m\u001b[43m,\u001b[49m\u001b[43m)\u001b[49m\u001b[43m,\u001b[49m\n\u001b[1;32m   1776\u001b[0m \u001b[43m        \u001b[49m\u001b[43msample_weight\u001b[49m\u001b[38;5;241;43m=\u001b[39;49m\u001b[43msample_weight\u001b[49m\u001b[43m,\u001b[49m\n\u001b[1;32m   1777\u001b[0m \u001b[43m        \u001b[49m\u001b[43mzero_division\u001b[49m\u001b[38;5;241;43m=\u001b[39;49m\u001b[43mzero_division\u001b[49m\u001b[43m,\u001b[49m\n\u001b[1;32m   1778\u001b[0m \u001b[43m    \u001b[49m\u001b[43m)\u001b[49m\n\u001b[1;32m   1779\u001b[0m     \u001b[38;5;28;01mreturn\u001b[39;00m p\n",
      "File \u001b[0;32m/usr/local/lib/python3.9/site-packages/sklearn/metrics/_classification.py:1556\u001b[0m, in \u001b[0;36mprecision_recall_fscore_support\u001b[0;34m(y_true, y_pred, beta, labels, pos_label, average, warn_for, sample_weight, zero_division)\u001b[0m\n\u001b[1;32m   1554\u001b[0m \u001b[38;5;28;01mif\u001b[39;00m beta \u001b[38;5;241m<\u001b[39m \u001b[38;5;241m0\u001b[39m:\n\u001b[1;32m   1555\u001b[0m     \u001b[38;5;28;01mraise\u001b[39;00m \u001b[38;5;167;01mValueError\u001b[39;00m(\u001b[38;5;124m\"\u001b[39m\u001b[38;5;124mbeta should be >=0 in the F-beta score\u001b[39m\u001b[38;5;124m\"\u001b[39m)\n\u001b[0;32m-> 1556\u001b[0m labels \u001b[38;5;241m=\u001b[39m \u001b[43m_check_set_wise_labels\u001b[49m\u001b[43m(\u001b[49m\u001b[43my_true\u001b[49m\u001b[43m,\u001b[49m\u001b[43m \u001b[49m\u001b[43my_pred\u001b[49m\u001b[43m,\u001b[49m\u001b[43m \u001b[49m\u001b[43maverage\u001b[49m\u001b[43m,\u001b[49m\u001b[43m \u001b[49m\u001b[43mlabels\u001b[49m\u001b[43m,\u001b[49m\u001b[43m \u001b[49m\u001b[43mpos_label\u001b[49m\u001b[43m)\u001b[49m\n\u001b[1;32m   1558\u001b[0m \u001b[38;5;66;03m# Calculate tp_sum, pred_sum, true_sum ###\u001b[39;00m\n\u001b[1;32m   1559\u001b[0m samplewise \u001b[38;5;241m=\u001b[39m average \u001b[38;5;241m==\u001b[39m \u001b[38;5;124m\"\u001b[39m\u001b[38;5;124msamples\u001b[39m\u001b[38;5;124m\"\u001b[39m\n",
      "File \u001b[0;32m/usr/local/lib/python3.9/site-packages/sklearn/metrics/_classification.py:1374\u001b[0m, in \u001b[0;36m_check_set_wise_labels\u001b[0;34m(y_true, y_pred, average, labels, pos_label)\u001b[0m\n\u001b[1;32m   1372\u001b[0m         \u001b[38;5;28;01mif\u001b[39;00m y_type \u001b[38;5;241m==\u001b[39m \u001b[38;5;124m\"\u001b[39m\u001b[38;5;124mmulticlass\u001b[39m\u001b[38;5;124m\"\u001b[39m:\n\u001b[1;32m   1373\u001b[0m             average_options\u001b[38;5;241m.\u001b[39mremove(\u001b[38;5;124m\"\u001b[39m\u001b[38;5;124msamples\u001b[39m\u001b[38;5;124m\"\u001b[39m)\n\u001b[0;32m-> 1374\u001b[0m         \u001b[38;5;28;01mraise\u001b[39;00m \u001b[38;5;167;01mValueError\u001b[39;00m(\n\u001b[1;32m   1375\u001b[0m             \u001b[38;5;124m\"\u001b[39m\u001b[38;5;124mTarget is \u001b[39m\u001b[38;5;132;01m%s\u001b[39;00m\u001b[38;5;124m but average=\u001b[39m\u001b[38;5;124m'\u001b[39m\u001b[38;5;124mbinary\u001b[39m\u001b[38;5;124m'\u001b[39m\u001b[38;5;124m. Please \u001b[39m\u001b[38;5;124m\"\u001b[39m\n\u001b[1;32m   1376\u001b[0m             \u001b[38;5;124m\"\u001b[39m\u001b[38;5;124mchoose another average setting, one of \u001b[39m\u001b[38;5;132;01m%r\u001b[39;00m\u001b[38;5;124m.\u001b[39m\u001b[38;5;124m\"\u001b[39m \u001b[38;5;241m%\u001b[39m (y_type, average_options)\n\u001b[1;32m   1377\u001b[0m         )\n\u001b[1;32m   1378\u001b[0m \u001b[38;5;28;01melif\u001b[39;00m pos_label \u001b[38;5;129;01mnot\u001b[39;00m \u001b[38;5;129;01min\u001b[39;00m (\u001b[38;5;28;01mNone\u001b[39;00m, \u001b[38;5;241m1\u001b[39m):\n\u001b[1;32m   1379\u001b[0m     warnings\u001b[38;5;241m.\u001b[39mwarn(\n\u001b[1;32m   1380\u001b[0m         \u001b[38;5;124m\"\u001b[39m\u001b[38;5;124mNote that pos_label (set to \u001b[39m\u001b[38;5;132;01m%r\u001b[39;00m\u001b[38;5;124m) is ignored when \u001b[39m\u001b[38;5;124m\"\u001b[39m\n\u001b[1;32m   1381\u001b[0m         \u001b[38;5;124m\"\u001b[39m\u001b[38;5;124maverage != \u001b[39m\u001b[38;5;124m'\u001b[39m\u001b[38;5;124mbinary\u001b[39m\u001b[38;5;124m'\u001b[39m\u001b[38;5;124m (got \u001b[39m\u001b[38;5;132;01m%r\u001b[39;00m\u001b[38;5;124m). You may use \u001b[39m\u001b[38;5;124m\"\u001b[39m\n\u001b[0;32m   (...)\u001b[0m\n\u001b[1;32m   1384\u001b[0m         \u001b[38;5;167;01mUserWarning\u001b[39;00m,\n\u001b[1;32m   1385\u001b[0m     )\n",
      "\u001b[0;31mValueError\u001b[0m: Target is multiclass but average='binary'. Please choose another average setting, one of [None, 'micro', 'macro', 'weighted']."
     ]
    }
   ],
   "source": [
    "precision_score(y_val, y_pred)"
   ]
  },
  {
   "cell_type": "code",
   "execution_count": 115,
   "id": "6e0f18fe",
   "metadata": {},
   "outputs": [
    {
     "data": {
      "text/plain": [
       "array([1.        , 1.        , 0.85714286])"
      ]
     },
     "execution_count": 115,
     "metadata": {},
     "output_type": "execute_result"
    }
   ],
   "source": [
    "precision_score(y_val, y_pred, average=None)"
   ]
  },
  {
   "cell_type": "code",
   "execution_count": 123,
   "id": "10f1e043",
   "metadata": {},
   "outputs": [
    {
     "data": {
      "text/plain": [
       "array([1.  , 0.75, 1.  ])"
      ]
     },
     "execution_count": 123,
     "metadata": {},
     "output_type": "execute_result"
    }
   ],
   "source": [
    "recall_score(y_val, y_pred, average=None)"
   ]
  },
  {
   "cell_type": "code",
   "execution_count": 124,
   "id": "a8fc62e6",
   "metadata": {},
   "outputs": [
    {
     "data": {
      "text/plain": [
       "0.9267399267399267"
      ]
     },
     "execution_count": 124,
     "metadata": {},
     "output_type": "execute_result"
    }
   ],
   "source": [
    "f1_score(y_val, y_pred, average=\"macro\")"
   ]
  },
  {
   "cell_type": "code",
   "execution_count": 125,
   "id": "1e4dd642",
   "metadata": {},
   "outputs": [
    {
     "data": {
      "text/plain": [
       "0.9267399267399267"
      ]
     },
     "execution_count": 125,
     "metadata": {},
     "output_type": "execute_result"
    }
   ],
   "source": [
    "f1_score(y_val, y_pred, average=None).mean()"
   ]
  },
  {
   "cell_type": "code",
   "execution_count": 126,
   "id": "76465069",
   "metadata": {},
   "outputs": [],
   "source": [
    "from sklearn.metrics import confusion_matrix"
   ]
  },
  {
   "cell_type": "code",
   "execution_count": 129,
   "id": "a1b76076",
   "metadata": {},
   "outputs": [
    {
     "data": {
      "text/plain": [
       "array([[5, 0, 0],\n",
       "       [0, 3, 1],\n",
       "       [0, 0, 6]])"
      ]
     },
     "execution_count": 129,
     "metadata": {},
     "output_type": "execute_result"
    }
   ],
   "source": [
    "confusion_matrix(y_val, y_pred)"
   ]
  },
  {
   "cell_type": "code",
   "execution_count": 130,
   "id": "e56bfa8c",
   "metadata": {},
   "outputs": [
    {
     "data": {
      "text/plain": [
       "(array([1.        , 1.        , 0.85714286]),\n",
       " array([1.  , 0.75, 1.  ]),\n",
       " array([1.        , 0.85714286, 0.92307692]),\n",
       " array([5, 4, 6]))"
      ]
     },
     "execution_count": 130,
     "metadata": {},
     "output_type": "execute_result"
    }
   ],
   "source": [
    "precision_recall_fscore_support(y_val, y_pred)"
   ]
  },
  {
   "cell_type": "code",
   "execution_count": 131,
   "id": "c7241e65",
   "metadata": {},
   "outputs": [
    {
     "name": "stdout",
     "output_type": "stream",
     "text": [
      "              precision    recall  f1-score   support\n",
      "\n",
      "           0       1.00      1.00      1.00         5\n",
      "           1       1.00      0.75      0.86         4\n",
      "           2       0.86      1.00      0.92         6\n",
      "\n",
      "    accuracy                           0.93        15\n",
      "   macro avg       0.95      0.92      0.93        15\n",
      "weighted avg       0.94      0.93      0.93        15\n",
      "\n"
     ]
    }
   ],
   "source": [
    "print(classification_report(y_val, y_pred))"
   ]
  },
  {
   "cell_type": "code",
   "execution_count": 149,
   "id": "3a1c52cd",
   "metadata": {},
   "outputs": [],
   "source": [
    "from sklearn.model_selection import cross_val_predict, KFold, StratifiedKFold"
   ]
  },
  {
   "cell_type": "code",
   "execution_count": 152,
   "id": "3ec167f4",
   "metadata": {},
   "outputs": [],
   "source": [
    "y_pred = cross_val_predict(DecisionTreeClassifier(), X, y, cv=3)"
   ]
  },
  {
   "cell_type": "code",
   "execution_count": 153,
   "id": "1cb8c3e6",
   "metadata": {},
   "outputs": [
    {
     "data": {
      "text/plain": [
       "0.9733333333333334"
      ]
     },
     "execution_count": 153,
     "metadata": {},
     "output_type": "execute_result"
    }
   ],
   "source": [
    "accuracy_score(y_pred, y)"
   ]
  }
 ],
 "metadata": {
  "kernelspec": {
   "display_name": "Python 3 (ipykernel)",
   "language": "python",
   "name": "python3"
  },
  "language_info": {
   "codemirror_mode": {
    "name": "ipython",
    "version": 3
   },
   "file_extension": ".py",
   "mimetype": "text/x-python",
   "name": "python",
   "nbconvert_exporter": "python",
   "pygments_lexer": "ipython3",
   "version": "3.9.10"
  }
 },
 "nbformat": 4,
 "nbformat_minor": 5
}
